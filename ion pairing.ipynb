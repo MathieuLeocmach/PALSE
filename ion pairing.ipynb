{
 "cells": [
  {
   "cell_type": "code",
   "execution_count": 181,
   "metadata": {
    "collapsed": false
   },
   "outputs": [],
   "source": [
    "import numpy as np\n",
    "from scipy import constants\n",
    "from scipy.optimize import leastsq\n",
    "from uncertainties import unumpy as unp\n",
    "from matplotlib import pyplot as plt\n",
    "%matplotlib inline"
   ]
  },
  {
   "cell_type": "markdown",
   "metadata": {},
   "source": [
    "Molar masses"
   ]
  },
  {
   "cell_type": "code",
   "execution_count": 52,
   "metadata": {
    "collapsed": true
   },
   "outputs": [],
   "source": [
    "N0 = 70\n",
    "M = {\n",
    "    'P':31, 'N':14, 'C':12, 'O':8, 'H':1, \n",
    "    'F':19, 'Cl':35.5, 'Br':80, 'I':127}\n",
    "M['head_Ph'] = 6 * M['C'] + 5 * M['O'] + 10 * M['H'] + M['P']\n",
    "M['head_Et'] = 6 * M['C'] + 2 * M['O'] + 11 * M['H']\n",
    "M['monoBr'] = 5 * M['C'] + 2 * M['O'] + 7 * M['H'] + M['Br']\n",
    "M['Imidazolium'] = 4 * M['C'] + 6 * M['H'] + 2 * M['N']\n",
    "M['Pyrrolidinium'] = 5 * M['C'] + 11 * M['H'] + M['N']\n",
    "for short, full in [('Im', 'Imidazolium'), ('Pyr', 'Pyrrolidinium')]:\n",
    "    for X in ['F','Cl','Br','I']:\n",
    "        M['P'+short+X] = M['head_Ph'] + N0 * (M['monoBr'] + M[full] - M['Br'] + M[X])\n",
    "        M['P'+short+X+'_Et'] = M['head_Et'] + N0 * (M['monoBr'] + M[full] - M['Br'] + M[X])"
   ]
  },
  {
   "cell_type": "code",
   "execution_count": 53,
   "metadata": {
    "collapsed": false
   },
   "outputs": [
    {
     "data": {
      "text/plain": [
       "{'Br': 80,\n",
       " 'C': 12,\n",
       " 'Cl': 35.5,\n",
       " 'F': 19,\n",
       " 'H': 1,\n",
       " 'I': 127,\n",
       " 'Imidazolium': 82,\n",
       " 'N': 14,\n",
       " 'O': 8,\n",
       " 'P': 31,\n",
       " 'PImBr': 17303,\n",
       " 'PImBr_Et': 17249,\n",
       " 'PImCl': 14188.0,\n",
       " 'PImCl_Et': 14134.0,\n",
       " 'PImF': 13033,\n",
       " 'PImF_Et': 12979,\n",
       " 'PImI': 20593,\n",
       " 'PImI_Et': 20539,\n",
       " 'PPyrBr': 17513,\n",
       " 'PPyrBr_Et': 17459,\n",
       " 'PPyrCl': 14398.0,\n",
       " 'PPyrCl_Et': 14344.0,\n",
       " 'PPyrF': 13243,\n",
       " 'PPyrF_Et': 13189,\n",
       " 'PPyrI': 20803,\n",
       " 'PPyrI_Et': 20749,\n",
       " 'Pyrrolidinium': 85,\n",
       " 'head_Et': 99,\n",
       " 'head_Ph': 153,\n",
       " 'monoBr': 163}"
      ]
     },
     "execution_count": 53,
     "metadata": {},
     "output_type": "execute_result"
    }
   ],
   "source": [
    "M"
   ]
  },
  {
   "cell_type": "markdown",
   "metadata": {},
   "source": [
    "From now on, in dissociation order: PImBr, PImI, PPyrCl, PPyrBr, PPyrI\n",
    "\n",
    "Monomer number density for a weight fraction of 80 g/kg"
   ]
  },
  {
   "cell_type": "code",
   "execution_count": 79,
   "metadata": {
    "collapsed": true
   },
   "outputs": [],
   "source": [
    "names = ['PImBr', 'PImI', 'PPyrCl', 'PPyrBr', 'PPyrI']\n",
    "w = 80\n",
    "c = N0 * constants.N_A / np.array([M[s] for s in names]) * 80 * 1000"
   ]
  },
  {
   "cell_type": "markdown",
   "metadata": {},
   "source": [
    "Load strain sweeps at $f=1$ Hz."
   ]
  },
  {
   "cell_type": "code",
   "execution_count": 66,
   "metadata": {
    "collapsed": false
   },
   "outputs": [],
   "source": [
    "sweeps = [\n",
    "    np.loadtxt('ImBr_70_PO3_8pc_bis.strain', skiprows=5, usecols=[4,6,7]),\n",
    "    np.loadtxt('PImI0CL70unit_80gperL.strain', skiprows=2),\n",
    "    np.loadtxt('PPyCl0CL70unit_80gperL.strain', skiprows=2),\n",
    "    np.loadtxt('PPyBr_70_0pc.strain', skiprows=5, usecols=[4,6,7])[:20],\n",
    "    np.loadtxt('PPyI0CL70unit_80gperL_bis.strain', skiprows=5, usecols=[4,6,7]),\n",
    "    ]"
   ]
  },
  {
   "cell_type": "markdown",
   "metadata": {},
   "source": [
    "Measure $G'(\\gamma \\rightarrow 0)$ and the error"
   ]
  },
  {
   "cell_type": "code",
   "execution_count": 167,
   "metadata": {
    "collapsed": false
   },
   "outputs": [
    {
     "name": "stdout",
     "output_type": "stream",
     "text": [
      "PImBr:\tG' =      13.28±      0.19 Pa\trelative error: 1.43%\n",
      "PImI:\tG' =      78.56±      0.13 Pa\trelative error: 0.17%\n",
      "PPyrCl:\tG' =      272.3±       0.6 Pa\trelative error: 0.20%\n",
      "PPyrBr:\tG' =       9811±        40 Pa\trelative error: 0.40%\n",
      "PPyrI:\tG' =       8796±        34 Pa\trelative error: 0.38%\n"
     ]
    }
   ],
   "source": [
    "G = unp.uarray(\n",
    "    [a[0,1] for a in sweeps],\n",
    "    np.abs([(a[0,1]-a[1,1])/2 for a in sweeps])\n",
    ")\n",
    "for name, g in zip(names, G):\n",
    "    print('{}:\\tG\\' = {:10.4P} Pa\\trelative error: {:0.2f}%'.format(name,g,100*g.s/g.n))"
   ]
  },
  {
   "cell_type": "markdown",
   "metadata": {},
   "source": [
    "Measure the critical strain $\\gamma_c$ such that $G''$ is maximum, and the error."
   ]
  },
  {
   "cell_type": "code",
   "execution_count": 165,
   "metadata": {
    "collapsed": false
   },
   "outputs": [
    {
     "name": "stdout",
     "output_type": "stream",
     "text": [
      "PImBr:\tgamma_c' =        9.0±       1.0\trelative error: 11.53%\n",
      "PImI:\tgamma_c' =      0.180±     0.024\trelative error: 13.40%\n",
      "PPyrCl:\tgamma_c' =       0.18±      0.15\trelative error: 83.32%\n",
      "PPyrBr:\tgamma_c' =      0.029±     0.018\trelative error: 61.88%\n",
      "PPyrI:\tgamma_c' =      0.044±     0.005\trelative error: 11.33%\n"
     ]
    }
   ],
   "source": [
    "imaxs = np.array([np.argmax(a[:,2]) for a in sweeps])\n",
    "gamma_c = unp.uarray(\n",
    "    [np.exp((np.log(a[imax,0])+np.log(a[imax+1,0]))/2) for a,imax in zip(sweeps, imaxs)],\n",
    "    [(a[imax+1,0]-a[imax,0])/2 for a,imax in zip(sweeps, imaxs)]\n",
    "    )\n",
    "for name, g in zip(names, gamma_c):\n",
    "    print('{}:\\tgamma_c\\' = {:10P}\\trelative error: {:0.2f}%'.format(name,g,100*g.s/g.n))"
   ]
  },
  {
   "cell_type": "markdown",
   "metadata": {},
   "source": [
    "## Cross-linked gel\n",
    "\n",
    "The shear modulus of a cross-linked gel is given by:\n",
    "$$G = \\frac{c}{N}k_\\mathrm{B}T,$$\n",
    "with $N$ the number of monomers between cross-links. Conversly, we can get the number $n = N/N_0$ of chains between cross-links:"
   ]
  },
  {
   "cell_type": "code",
   "execution_count": 164,
   "metadata": {
    "collapsed": false
   },
   "outputs": [
    {
     "name": "stdout",
     "output_type": "stream",
     "text": [
      "PImBr:\tn =        863±        12\trelative error: 1.43%\n",
      "PImI:\tn =     122.59±      0.20\trelative error: 0.17%\n",
      "PPyrCl:\tn =      50.58±      0.10\trelative error: 0.20%\n",
      "PPyrBr:\tn =      1.154±     0.005\trelative error: 0.40%\n",
      "PPyrI:\tn =      1.084±     0.004\trelative error: 0.38%\n"
     ]
    }
   ],
   "source": [
    "T = constants.C2K(25)\n",
    "n = c/N0 * constants.k * T / G\n",
    "for name, g in zip(names, n):\n",
    "    print('{}:\\tn = {:10P}\\trelative error: {:0.2f}%'.format(name,g,100*g.s/g.n))"
   ]
  },
  {
   "cell_type": "markdown",
   "metadata": {},
   "source": [
    "If head-to-body bonds break within the linear regime of the chain, the bonding energy can be deduced from the critical strain:\n",
    "$$\\frac{E_c}{k_\\mathrm{B}T} = \\gamma_c^2$$"
   ]
  },
  {
   "cell_type": "code",
   "execution_count": 163,
   "metadata": {
    "collapsed": false
   },
   "outputs": [
    {
     "name": "stdout",
     "output_type": "stream",
     "text": [
      "PImBr:\tE_c =         81±        19 kT =        202±        47 kJ/mol \trelative error: 23.06%\n",
      "PImI:\tE_c =      0.032±     0.009 kT =     0.0802±    0.0215 kJ/mol \trelative error: 26.81%\n",
      "PPyrCl:\tE_c =       0.03±      0.05 kT =      0.082±     0.136 kJ/mol \trelative error: 166.64%\n",
      "PPyrBr:\tE_c =     0.0009±    0.0011 kT =    0.00214±   0.00265 kJ/mol \trelative error: 123.76%\n",
      "PPyrI:\tE_c =     0.0020±    0.0004 kT =    0.00488±   0.00111 kJ/mol \trelative error: 22.66%\n"
     ]
    }
   ],
   "source": [
    "for name, g in zip(names, gamma_c**2):\n",
    "    print('{}:\\tE_c = {:10P} kT = {:10.3P} kJ/mol \\trelative error: {:0.2f}%'.format(\n",
    "            name, g, \n",
    "            g * constants.k * T * constants.N_A / 1000,\n",
    "            100*g.s/g.n))"
   ]
  },
  {
   "cell_type": "markdown",
   "metadata": {},
   "source": [
    "Only PImBr has $E_c>k_\\mathrm{B}T$."
   ]
  },
  {
   "cell_type": "markdown",
   "metadata": {},
   "source": [
    "### Estimation of extension parameter $B$\n",
    "\n",
    "In abscence of salt, the screening length is\n",
    "$$r_\\mathrm{scr} = \\left(\\frac{B}{cb}\\right)^{1/2}$$\n",
    "where $b\\approx 0.26$ nm is the monomer size and $B$ is the extension parameter\n",
    "$$B = \\frac{b g_e}{D} = \\frac{b g_\\mathrm{src}}{r_\\mathrm{src}}$$\n",
    "describes the electrostatic blob of diameter $D$ containing $g_e$ monomers. Between $D$ and $r_\\mathrm{scr}$ the polyelectrolyte is a linear assembly of electrostatic blobs, thus\n",
    "$$g_\\mathrm{src} = g_e \\frac{r_\\mathrm{src}}{D} = \\left(\\frac{B^3}{cb^3}\\right)^{1/2}$$.\n",
    "\n",
    "The exit from the linear domain of the material corresponds to the full extension of the persistent random walk:\n",
    "$$\\gamma_c = \\frac{R_0}{R} - 1,$$\n",
    "with\n",
    "$$\\left. \\begin{array}{ll}\n",
    "R &= r_\\mathrm{scr} \\left(\\frac{N}{g_\\mathrm{scr}}\\right)^{1/2}\\\\\n",
    "R_0 &= r_\\mathrm{scr} \\frac{N}{g_\\mathrm{scr}}\n",
    "\\end{array}\\right\\rbrace\\quad\n",
    "\\gamma_c = \\left(\\frac{N}{g_\\mathrm{scr}}\\right)^{1/2} -1\n",
    "$$\n",
    "\n",
    "Finally\n",
    "$$B = \\left(b^3 c \\frac{N^2}{(\\gamma_c+1)^4}\\right)^{1/3} = bc \\left(\\frac{k_\\mathrm{B}T}{G\\left(\\gamma_c+1\\right)^2}\\right)^{2/3}$$"
   ]
  },
  {
   "cell_type": "code",
   "execution_count": 168,
   "metadata": {
    "collapsed": false
   },
   "outputs": [
    {
     "name": "stdout",
     "output_type": "stream",
     "text": [
      "PImBr:\tB =       10.7±       1.5 \trelative error: 13.87%\n",
      "PImI:\tB =       47.8±       1.3 \trelative error: 2.73%\n",
      "PPyrCl:\tB =         30±         5 \trelative error: 17.08%\n",
      "PPyrBr:\tB =       2.70±      0.06 \trelative error: 2.37%\n",
      "PPyrI:\tB =      2.398±     0.017 \trelative error: 0.69%\n"
     ]
    }
   ],
   "source": [
    "b = 0.26e-9\n",
    "B = b * c * (constants.k * T / G / (gamma_c+1)**2)**(2/3)\n",
    "for name, g in zip(names, B):\n",
    "    print('{}:\\tB = {:10P} \\trelative error: {:0.2f}%'.format(name,g,100*g.s/g.n))"
   ]
  },
  {
   "cell_type": "markdown",
   "metadata": {},
   "source": [
    "PImBr is set aside because head-to-body link broke before full extension of the persistent random walk.\n",
    "\n",
    "Conversly, \n",
    "$$\\gamma_c = \\left(\\frac{N^2 c b^3}{B^3}\\right)^{1/4} -1 = \\left(\\frac{k_\\mathrm{B}T}{G}\\right)^{1/2}\\left(\\frac{cb}{B}\\right)^{3/4} -1$$\n",
    "\n",
    "We know that PImBr has even less charges than than PImI, so we assume a $B$ at least equal in PImBr with respect to PImI\n",
    "$$\\gamma_c(\\mathrm{PImBr}) < \\left(\\frac{k_\\mathrm{B}T}{G(\\mathrm{PImBr})}\\right)^{1/2}\\left(\\frac{c(\\mathrm{PImBr})b}{B(\\mathrm{PImI})}\\right)^{3/4} -1$$"
   ]
  },
  {
   "cell_type": "code",
   "execution_count": 172,
   "metadata": {
    "collapsed": false
   },
   "outputs": [
    {
     "name": "stdout",
     "output_type": "stream",
     "text": [
      "gamma_c_max = 2.27±0.07\trelative error:  3.12%\n",
      "but gamma_c = 9.0±1.0\n"
     ]
    }
   ],
   "source": [
    "g = (constants.k * T / G[0])**(1/2) * (c[0] * b / B[1])**(3/4)-1\n",
    "print('gamma_c_max = {:P}\\trelative error:  {:0.2f}%'.format(g,100*g.s/g.n))\n",
    "print('but gamma_c = {:P}'.format(gamma_c[0]))"
   ]
  },
  {
   "cell_type": "markdown",
   "metadata": {},
   "source": [
    "Therefore PImBr has a linear regime much larger than what we expect."
   ]
  },
  {
   "cell_type": "markdown",
   "metadata": {},
   "source": [
    "### Estimation of the charge density\n",
    "\n",
    "From the extension parameter $B$ and provided an assumption on the $\\Theta$-temperature, we can deduce the number $A$ of monomers between dissociated charges. If $A=1$, there is no counterion condensation and the polyelectrolyte is fully charged.\n",
    "$$B = \\left(\\frac{A^2}{u}\\right)^{2/3}\\tau \\Leftrightarrow A = u^{1/2} \\left(\\frac{B}{\\tau}\\right)^{3/4}$$\n",
    "where $u = b/\\ell_\\mathrm{B}$, with $\\ell_\\mathrm{B} = 0.7$ nm the Bjerrum length in water and $\\tau = 1-T/\\Theta$ the reduced temperature. We know that $\\Theta>100$C so $0.2<\\tau<1$."
   ]
  },
  {
   "cell_type": "code",
   "execution_count": 174,
   "metadata": {
    "collapsed": false
   },
   "outputs": [
    {
     "name": "stdout",
     "output_type": "stream",
     "text": [
      "PImBr:\tA =       32.6±       3.4 \trelative error: 10.40%\n",
      "PImI:\tA =       99.8±       2.0 \trelative error: 2.05%\n",
      "PPyrCl:\tA =         70±         9 \trelative error: 12.81%\n",
      "PPyrBr:\tA =      11.56±      0.21 \trelative error: 1.78%\n",
      "PPyrI:\tA =      10.57±      0.05 \trelative error: 0.52%\n"
     ]
    }
   ],
   "source": [
    "lB = 0.7e-9\n",
    "u = lB/b\n",
    "tau = 0.2\n",
    "A = u**(1/2) * (B/tau)**(3/4)\n",
    "for name, g in zip(names, A):\n",
    "    print('{}:\\tA = {:10P} \\trelative error: {:0.2f}%'.format(name,g,100*g.s/g.n))"
   ]
  },
  {
   "cell_type": "markdown",
   "metadata": {},
   "source": [
    "Is it possible to have $A>N_0$?"
   ]
  },
  {
   "cell_type": "markdown",
   "metadata": {},
   "source": [
    "### Lower bound for $\\tau$\n",
    "\n",
    "for the polymer to be soluble, we want at least a charge per polymer, or $A<N_0$ that yields\n",
    "$$\\tau > \\left(\\frac{n u}{N_0}\\right)^{2/3} \\frac{c^{1/3}b}{(\\gamma_c+1)^{4/3}}$$"
   ]
  },
  {
   "cell_type": "code",
   "execution_count": 176,
   "metadata": {
    "collapsed": false
   },
   "outputs": [
    {
     "name": "stdout",
     "output_type": "stream",
     "text": [
      "PImBr:\ttau_max =      0.072±     0.010 \trelative error: 13.87%\n",
      "PImI:\ttau_max =      0.321±     0.009 \trelative error: 2.73%\n",
      "PPyrCl:\ttau_max =      0.200±     0.034 \trelative error: 17.08%\n",
      "PPyrBr:\ttau_max =     0.0181±    0.0004 \trelative error: 2.37%\n",
      "PPyrI:\ttau_max =    0.01608±   0.00011 \trelative error: 0.69%\n"
     ]
    }
   ],
   "source": [
    "for name, g in zip(names, (n*u/N0)**(2/3) * c**(1/3) * b /(gamma_c+1)**(4/3)):\n",
    "    print('{}:\\ttau_max = {:10P} \\trelative error: {:0.2f}%'.format(name,g,100*g.s/g.n))"
   ]
  },
  {
   "cell_type": "code",
   "execution_count": 177,
   "metadata": {
    "collapsed": false
   },
   "outputs": [
    {
     "name": "stdout",
     "output_type": "stream",
     "text": [
      "PImBr:\tA =       22.4±       2.3 \trelative error: 10.40%\n",
      "PImI:\tA =       68.5±       1.4 \trelative error: 2.05%\n",
      "PPyrCl:\tA =         48±         6 \trelative error: 12.81%\n",
      "PPyrBr:\tA =       7.94±      0.14 \trelative error: 1.78%\n",
      "PPyrI:\tA =       7.26±      0.04 \trelative error: 0.52%\n"
     ]
    }
   ],
   "source": [
    "lB = 0.7e-9\n",
    "u = lB/b\n",
    "tau = 0.33\n",
    "A = u**(1/2) * (B/tau)**(3/4)\n",
    "for name, g in zip(names, A):\n",
    "    print('{}:\\tA = {:10P} \\trelative error: {:0.2f}%'.format(name,g,100*g.s/g.n))"
   ]
  },
  {
   "cell_type": "markdown",
   "metadata": {},
   "source": [
    "### Are Phosphonate charges negigible ?\n",
    "\n",
    "In presence of additional salts in concentration $c_s$, the screening length becomes\n",
    "$$r_\\mathrm{scr} = \\left(\\frac{B}{cb}\\right)^{1/2}\\left(1 + B u \\frac{c_s}{c}\\right)^{-1/2}$$\n",
    "\n",
    "So we have to estimate $B u c_s/c$ relative to 1 with $c_s/c = 2/N_0$."
   ]
  },
  {
   "cell_type": "code",
   "execution_count": 192,
   "metadata": {
    "collapsed": false
   },
   "outputs": [
    {
     "name": "stdout",
     "output_type": "stream",
     "text": [
      "PImBr:\t       0.83±      0.11 \trelative error: 13.87%\n",
      "PImI:\t       3.68±      0.10 \trelative error: 2.73%\n",
      "PPyrCl:\t        2.3±       0.4 \trelative error: 17.08%\n",
      "PPyrBr:\t      0.208±     0.005 \trelative error: 2.37%\n",
      "PPyrI:\t     0.1844±    0.0013 \trelative error: 0.69%\n"
     ]
    }
   ],
   "source": [
    "for name, g in zip(names, B*u*2/N0):\n",
    "    print('{}:\\t {:10P} \\trelative error: {:0.2f}%'.format(name,g,100*g.s/g.n))"
   ]
  },
  {
   "cell_type": "markdown",
   "metadata": {},
   "source": [
    "In the case $\\tau=0.33$, how many monomers are contained in an electrostatic blob ?\n",
    "$$g_e = \\left(\\frac{B^3}{\\tau}\\right)^{1/2}$$"
   ]
  },
  {
   "cell_type": "code",
   "execution_count": 179,
   "metadata": {
    "collapsed": false
   },
   "outputs": [
    {
     "name": "stdout",
     "output_type": "stream",
     "text": [
      "PImBr:\tge =       61.3±      12.8 \trelative error: 20.81%\n",
      "PImI:\tge =        576±        24 \trelative error: 4.09%\n",
      "PPyrCl:\tge =        283±        73 \trelative error: 25.62%\n",
      "PPyrBr:\tge =       7.72±      0.27 \trelative error: 3.56%\n",
      "PPyrI:\tge =       6.46±      0.07 \trelative error: 1.04%\n"
     ]
    }
   ],
   "source": [
    "for name, g in zip(names, (B**3/0.33)**(1/2)):\n",
    "    print('{}:\\tge = {:10.3P} \\trelative error: {:0.2f}%'.format(name,g,100*g.s/g.n))"
   ]
  },
  {
   "cell_type": "markdown",
   "metadata": {},
   "source": [
    "Or in number of chains per electrostatic blobs"
   ]
  },
  {
   "cell_type": "code",
   "execution_count": 185,
   "metadata": {
    "collapsed": false
   },
   "outputs": [
    {
     "name": "stdout",
     "output_type": "stream",
     "text": [
      "PImBr:\tge/N0 =       0.88±      0.18 \trelative error: 20.81%\n",
      "PImI:\tge/N0 =       8.22±      0.34 \trelative error: 4.09%\n",
      "PPyrCl:\tge/N0 =        4.0±       1.0 \trelative error: 25.62%\n",
      "PPyrBr:\tge/N0 =      0.110±     0.004 \trelative error: 3.56%\n",
      "PPyrI:\tge/N0 =     0.0923±    0.0010 \trelative error: 1.04%\n"
     ]
    }
   ],
   "source": [
    "for name, g in zip(names, (B**3/tau)**(1/2) / N0):\n",
    "    print('{}:\\tge/N0 = {:10P} \\trelative error: {:0.2f}%'.format(name,g,100*g.s/g.n))"
   ]
  },
  {
   "cell_type": "markdown",
   "metadata": {
    "collapsed": false
   },
   "source": [
    "Number of chains in a correlation blob\n",
    "$$g_\\mathrm{scr} = \\left(\\frac{B^3}{c b^3}\\right)^{1/2}$$"
   ]
  },
  {
   "cell_type": "code",
   "execution_count": 184,
   "metadata": {
    "collapsed": false
   },
   "outputs": [
    {
     "name": "stdout",
     "output_type": "stream",
     "text": [
      "PImBr:\tg_scr/N0 =        8.6±       1.8 \trelative error: 20.81%\n",
      "PImI:\tg_scr/N0 =         88±         4 \trelative error: 4.09%\n",
      "PPyrCl:\tg_scr/N0 =         36±         9 \trelative error: 25.62%\n",
      "PPyrBr:\tg_scr/N0 =       1.09±      0.04 \trelative error: 3.56%\n",
      "PPyrI:\tg_scr/N0 =      0.994±     0.010 \trelative error: 1.04%\n"
     ]
    }
   ],
   "source": [
    "for name, g in zip(names, (B**3/c/b**3)**(1/2) / N0):\n",
    "    print('{}:\\tg_scr/N0 = {:10P} \\trelative error: {:0.2f}%'.format(name,g,100*g.s/g.n))"
   ]
  },
  {
   "cell_type": "markdown",
   "metadata": {},
   "source": [
    "Number of electrostatic blobs per correlation blobs\n",
    "$$\\frac{g_\\mathrm{src}}{g_e} = \\left(\\frac{\\tau}{c b^3}\\right)^{1/2}$$\n",
    "Depends only on monomer concentration, not on the rheological measurements"
   ]
  },
  {
   "cell_type": "code",
   "execution_count": 190,
   "metadata": {
    "collapsed": false
   },
   "outputs": [
    {
     "name": "stdout",
     "output_type": "stream",
     "text": [
      "PImBr:\tg_scr/ge = 9.81\n",
      "PImI:\tg_scr/ge = 10.71\n",
      "PPyrCl:\tg_scr/ge = 8.95\n",
      "PPyrBr:\tg_scr/ge = 9.87\n",
      "PPyrI:\tg_scr/ge = 10.76\n"
     ]
    }
   ],
   "source": [
    "for name, g in zip(names, (tau/c/b**3)**(1/2)):\n",
    "    print('{}:\\tg_scr/ge = {:0.2f}'.format(name,g))"
   ]
  },
  {
   "cell_type": "markdown",
   "metadata": {},
   "source": [
    "Number of correlation blobs between cross-links\n",
    "$$\\frac{N}{g_\\mathcal{scr}} = n N_0 \\left(\\frac{c b^3}{B^3}\\right)^{1/2}$$"
   ]
  },
  {
   "cell_type": "code",
   "execution_count": 191,
   "metadata": {
    "collapsed": false
   },
   "outputs": [
    {
     "name": "stdout",
     "output_type": "stream",
     "text": [
      "PImBr:\tN/g_scr =       1.43±      0.30 \trelative error: 20.85%\n",
      "PImI:\tN/g_scr =     0.0199±    0.0008 \trelative error: 4.09%\n",
      "PPyrCl:\tN/g_scr =      0.020±     0.005 \trelative error: 25.62%\n",
      "PPyrBr:\tN/g_scr =     0.0151±    0.0005 \trelative error: 3.58%\n",
      "PPyrI:\tN/g_scr =    0.01558±   0.00017 \trelative error: 1.10%\n"
     ]
    }
   ],
   "source": [
    "for name, g in zip(names, n*N0*(c * b**3/B**3)**(1/2) / N0):\n",
    "    print('{}:\\tN/g_scr = {:10P} \\trelative error: {:0.2f}%'.format(name,g,100*g.s/g.n))"
   ]
  },
  {
   "cell_type": "markdown",
   "metadata": {},
   "source": [
    "We know that PImBr has even less charges than than PImI, therefore a larger $A$ and a larger $B$.\n",
    "\n",
    "$$B(\\mathrm{PImBr}) > B(\\mathrm{PImI}) \n",
    "\\Leftrightarrow \\frac{c^{1/4} n^{1/2}}{R_0/R}(\\mathrm{PImBr}) > \\frac{c^{1/4} n^{1/2}}{\\gamma_c+1}(\\mathrm{PImI})\n",
    "\\Leftrightarrow \\frac{R_0}{R}(\\mathrm{PImBr}) < \\frac{c^{1/4} n^{1/2}(\\mathrm{PImBr})}{c^{1/4} n^{1/2}(\\mathrm{PImI})}(\\gamma_c(\\mathrm{PImI})+1)$$"
   ]
  },
  {
   "cell_type": "code",
   "execution_count": 19,
   "metadata": {
    "collapsed": false
   },
   "outputs": [
    {
     "data": {
      "text/plain": [
       "3.2376677043122615"
      ]
     },
     "execution_count": 19,
     "metadata": {},
     "output_type": "execute_result"
    }
   ],
   "source": [
    "(c[0]/c[1])**(1/4) * (n[0]/n[1])**(1/2) * (gamma_c[1]+1)"
   ]
  },
  {
   "cell_type": "markdown",
   "metadata": {},
   "source": [
    "Instead of $\\gamma_c+1 = 9$.\n",
    "\n",
    "Actually, to get the equality we need \n",
    "$$\\frac{n_\\mathrm{PImBr}}{n_\\mathrm{PImI}} = \\left(\\frac{c_\\mathrm{PImBr}}{c_\\mathrm{PImI}}\\right)^{1/2} \\left(\\frac{\\gamma_{c,\\mathrm{PImBr}}+1}{\\gamma_{c,\\mathrm{PImI}}+1}\\right)^2 \\approx \\left(\\frac{\\gamma_{c,\\mathrm{PImBr}}+1}{\\gamma_{c,\\mathrm{PImI}}+1}\\right)^2 \\approx 81$$ \n",
    "and we only have 7."
   ]
  },
  {
   "cell_type": "code",
   "execution_count": 20,
   "metadata": {
    "collapsed": false
   },
   "outputs": [
    {
     "data": {
      "text/plain": [
       "7.1408426284459336"
      ]
     },
     "execution_count": 20,
     "metadata": {},
     "output_type": "execute_result"
    }
   ],
   "source": [
    "n[0]/n[1]"
   ]
  },
  {
   "cell_type": "markdown",
   "metadata": {},
   "source": [
    "Thinking in terms of fractal dimension, we need an aggregate of dimension $d$ so that\n",
    "\n",
    "$$\\left(\\frac{n_\\mathrm{PImBr}}{n_\\mathrm{PImI}}\\right)^d = \\left(\\frac{c_\\mathrm{PImBr}}{c_\\mathrm{PImI}}\\right)^{1/2} \\left(\\frac{\\gamma_{c,\\mathrm{PImBr}}+1}{\\gamma_{c,\\mathrm{PImI}}+1}\\right)^2$$"
   ]
  },
  {
   "cell_type": "code",
   "execution_count": 21,
   "metadata": {
    "collapsed": false
   },
   "outputs": [
    {
     "data": {
      "text/plain": [
       "0.99981846876862512"
      ]
     },
     "execution_count": 21,
     "metadata": {},
     "output_type": "execute_result"
    }
   ],
   "source": [
    "(np.log(c[0]/c[1]) + 2*np.log(n[0]/n[1]))/np.log((gamma_c[0]+1) / (gamma_c[1]+1)) /2"
   ]
  },
  {
   "cell_type": "markdown",
   "metadata": {},
   "source": [
    "## Structure from probability distributions"
   ]
  },
  {
   "cell_type": "code",
   "execution_count": 22,
   "metadata": {
    "collapsed": true
   },
   "outputs": [],
   "source": [
    "from scipy.stats import binom, poisson"
   ]
  },
  {
   "cell_type": "code",
   "execution_count": 23,
   "metadata": {
    "collapsed": false
   },
   "outputs": [
    {
     "data": {
      "image/png": "[encoded data removed]",
      "text/plain": [
       "<matplotlib.figure.Figure at 0x7fa930a75d30>"
      ]
     },
     "metadata": {},
     "output_type": "display_data"
    }
   ],
   "source": [
    "plt.plot(binom.pmf(np.arange(N0/2+1), N0/2, 2/N0), 'bo', ms=8, label='binom pmf')\n",
    "plt.plot(poisson.pmf(np.arange(N0/2+1), 1), 'g.', ms=8, label='binom pmf')\n",
    "for i,a in enumerate(2**np.arange(6)):\n",
    "    plt.plot(binom.pmf(np.arange(N0/a/2+1), N0/a/2, 2*a/N0), 'o', color=plt.cm.autumn(i/5.), ms=8, label='binom pmf')\n",
    "plt.yscale('log')"
   ]
  },
  {
   "cell_type": "markdown",
   "metadata": {},
   "source": [
    "If the electrostatic blob cannot contain even the shortest side chain, then every side chain sticks out and thus the branching counts as a cross link. The precise boundary is when the electrostatic blob contains the main chain and a single monomeric side chain $ge<2N_0$. This translates in a condition on $A$ (provided $\\tau$):\n",
    "$$A < A_1 = \\left(\\frac{2N_0 u}{\\tau}\\right)^{1/2}$$."
   ]
  },
  {
   "cell_type": "code",
   "execution_count": 24,
   "metadata": {
    "collapsed": false
   },
   "outputs": [
    {
     "data": {
      "text/plain": [
       "array([ 43.41215711,  33.79631847,  27.45625892,  19.41450687])"
      ]
     },
     "execution_count": 24,
     "metadata": {},
     "output_type": "execute_result"
    }
   ],
   "source": [
    "(2*N0*u/np.array([0.2,tau,0.5,1]))**(1/2)"
   ]
  },
  {
   "cell_type": "markdown",
   "metadata": {},
   "source": [
    "Since there is exactly one head per body, the average number of heads attached to a given body is 1. The probability to have a head attached to a monomer is thus $1/N_0$. The probability of having a given number of monomers between crosslinks is thus given by a geometric distribution of parameter $1/N_0$. The average number of monomers between crosslinks is thus $N_0$. Therefore $n=k=1$."
   ]
  },
  {
   "cell_type": "markdown",
   "metadata": {},
   "source": [
    "If $A>A_1$, monomeric side chains are able to fully collapse on the main chain and thus do not count as cross-link anymore. The probability to have a crosslink is thus the probability to have a side chain AND that this side chain is not monomeric.\n",
    "\n",
    "Let us suppose that the probability of attaching a head to a given body is ndependent of the number of heads already attached, with a maximum of $N_0/2A$ heads per body (bivalent phosphonate head need two monovalent cationic groups to attach, and ony $N_0/A$ are available). The probability $P(h)$ of having $h$ heads attached to the same body is thus given by a binomial law of mean 1. The probability to have no head attached and thus a tail is \n",
    "$$P(h=0) = \\left(1-\\frac{2A}{N_0}\\right)^{N_0/2A}$$"
   ]
  },
  {
   "cell_type": "code",
   "execution_count": 25,
   "metadata": {
    "collapsed": false
   },
   "outputs": [
    {
     "data": {
      "text/plain": [
       "0.36256054767581464"
      ]
     },
     "execution_count": 25,
     "metadata": {},
     "output_type": "execute_result"
    }
   ],
   "source": [
    "def P(h,A=1): \n",
    "    return binom.pmf(h, N0/2/A, 2*A/N0)\n",
    "P(0)"
   ]
  },
  {
   "cell_type": "code",
   "execution_count": 26,
   "metadata": {
    "collapsed": false
   },
   "outputs": [
    {
     "data": {
      "text/plain": [
       "<matplotlib.lines.Line2D at 0x7fa93179c4a8>"
      ]
     },
     "execution_count": 26,
     "metadata": {},
     "output_type": "execute_result"
    },
    {
     "data": {
      "image/png": "[encoded data removed]",
      "text/plain": [
       "<matplotlib.figure.Figure at 0x7fa9317c3ac8>"
      ]
     },
     "metadata": {},
     "output_type": "display_data"
    }
   ],
   "source": [
    "plt.plot(range(1,N0//2+1), [P(0, a) for a in range(1,N0//2+1)], label='h=0')\n",
    "plt.plot(range(1,N0//2+1), [P(1, a) for a in range(1,N0//2+1)], label='h=1')\n",
    "plt.xlabel('A')\n",
    "plt.ylabel('P(h)')\n",
    "plt.legend(loc='upper left')\n",
    "plt.axvline((2*N0*u/tau)**(1/2))"
   ]
  },
  {
   "cell_type": "markdown",
   "metadata": {},
   "source": [
    "The probability for a given monomer to hold a crosslink is thus\n",
    "$$\\frac{1-P(h=0)}{N_0}$$\n",
    "The number of monomers betwenn crosslinks is the inverse of the latter. Finally, the number of chains between crosslinks is \n",
    "$$n = \\frac{1}{1-P(h=0)}$$"
   ]
  },
  {
   "cell_type": "code",
   "execution_count": 27,
   "metadata": {
    "collapsed": false
   },
   "outputs": [
    {
     "data": {
      "text/plain": [
       "<matplotlib.lines.Line2D at 0x7fa9317af390>"
      ]
     },
     "execution_count": 27,
     "metadata": {},
     "output_type": "execute_result"
    },
    {
     "data": {
      "image/png": "[encoded data removed]",
      "text/plain": [
       "<matplotlib.figure.Figure at 0x7fa931781828>"
      ]
     },
     "metadata": {},
     "output_type": "display_data"
    }
   ],
   "source": [
    "plt.plot(range(1,N0//2+1), [1/(1-P(0, a)) for a in range(1,N0//2+1)])\n",
    "plt.xlabel('A')\n",
    "plt.ylabel('n')\n",
    "plt.axvline((2*N0*u/tau)**(1/2))"
   ]
  },
  {
   "cell_type": "code",
   "execution_count": 28,
   "metadata": {
    "collapsed": false
   },
   "outputs": [
    {
     "data": {
      "text/plain": [
       "1.5687764482632396"
      ]
     },
     "execution_count": 28,
     "metadata": {},
     "output_type": "execute_result"
    }
   ],
   "source": [
    "1/(1-P(0))"
   ]
  },
  {
   "cell_type": "markdown",
   "metadata": {},
   "source": [
    "There is also a threshold $A_2 = \\left(\\frac{3N_0 u}{\\tau}\\right)^{1/2}$ when a dimeric side chains can collapse on the main chain. For $A>A_2$\n",
    "$$n = \\frac{1}{1-P(h=0)-P(h=1)P(h=0)}$$"
   ]
  },
  {
   "cell_type": "code",
   "execution_count": 29,
   "metadata": {
    "collapsed": false
   },
   "outputs": [
    {
     "data": {
      "text/plain": [
       "1.9915434258974904"
      ]
     },
     "execution_count": 29,
     "metadata": {},
     "output_type": "execute_result"
    }
   ],
   "source": [
    "1/(1-P(0) - P(0)*P(1))"
   ]
  },
  {
   "cell_type": "markdown",
   "metadata": {},
   "source": [
    "For $A>A_3$\n",
    "$$n = \\frac{1}{1 - P(h=0) - P(h=1)\\left(P(h=0)+P(h=1)P(h=0)\\right) - P(h=2)P(h=0)^2}$$"
   ]
  },
  {
   "cell_type": "code",
   "execution_count": 30,
   "metadata": {
    "collapsed": false
   },
   "outputs": [
    {
     "data": {
      "text/plain": [
       "2.4463089358439283"
      ]
     },
     "execution_count": 30,
     "metadata": {},
     "output_type": "execute_result"
    }
   ],
   "source": [
    "1/(1 - P(0)*(1 + P(1) + P(1)**2) - P(0)**2*P(2)*(1+2*P(1)))"
   ]
  },
  {
   "cell_type": "code",
   "execution_count": 31,
   "metadata": {
    "collapsed": false
   },
   "outputs": [
    {
     "data": {
      "text/plain": [
       "2.6539150687299284"
      ]
     },
     "execution_count": 31,
     "metadata": {},
     "output_type": "execute_result"
    }
   ],
   "source": [
    "1/(1 - P(0)*(1 + P(1) + P(1)**2 + P(1)**3) - P(0)**2*P(2)*(1+2*P(1)+3*P(1)**2) - P(0)**3*P(3))"
   ]
  },
  {
   "cell_type": "markdown",
   "metadata": {},
   "source": [
    "A single head attached and thus a linear procession has probability of P(h=1)"
   ]
  },
  {
   "cell_type": "code",
   "execution_count": 32,
   "metadata": {
    "collapsed": false
   },
   "outputs": [
    {
     "data": {
      "text/plain": [
       "0.37322409319569066"
      ]
     },
     "execution_count": 32,
     "metadata": {},
     "output_type": "execute_result"
    }
   ],
   "source": [
    "binom.pmf(1, N0/2, 2/N0)"
   ]
  },
  {
   "cell_type": "markdown",
   "metadata": {},
   "source": [
    "And the probability to branch is $P(h\\geq 2)$"
   ]
  },
  {
   "cell_type": "code",
   "execution_count": 33,
   "metadata": {
    "collapsed": false
   },
   "outputs": [
    {
     "data": {
      "text/plain": [
       "0.2642153591284947"
      ]
     },
     "execution_count": 33,
     "metadata": {},
     "output_type": "execute_result"
    }
   ],
   "source": [
    "1 - np.sum(binom.pmf([0,1], N0/2, 2/N0))"
   ]
  },
  {
   "cell_type": "markdown",
   "metadata": {},
   "source": [
    "Therefore, the number of chains beween cross links n=k is"
   ]
  },
  {
   "cell_type": "code",
   "execution_count": 34,
   "metadata": {
    "collapsed": false
   },
   "outputs": [
    {
     "data": {
      "text/plain": [
       "3.7847913281743564"
      ]
     },
     "execution_count": 34,
     "metadata": {},
     "output_type": "execute_result"
    }
   ],
   "source": [
    "1/(1-np.sum(binom.pmf([0,1], N0/2, 2/N0)))"
   ]
  },
  {
   "cell_type": "markdown",
   "metadata": {},
   "source": [
    "More complete expression taking into account the probability to have a second branching (third head) on the same \n",
    "$$\\frac{P(h=2) \\times 1/P(h\\geq 2) + P(h>3)}{P(h\\geq 2)}$$"
   ]
  },
  {
   "cell_type": "code",
   "execution_count": 35,
   "metadata": {
    "collapsed": false
   },
   "outputs": [
    {
     "data": {
      "text/plain": [
       "2.9668637387798635"
      ]
     },
     "execution_count": 35,
     "metadata": {},
     "output_type": "execute_result"
    }
   ],
   "source": [
    "(binom.pmf(2, N0/2, 2/N0) / (1-np.sum(binom.pmf([0,1], N0/2, 2/N0))) + (1-np.sum(binom.pmf([0,1,2], N0/2, 2/N0)))) / (1-np.sum(binom.pmf([0,1], N0/2, 2/N0)))"
   ]
  },
  {
   "cell_type": "code",
   "execution_count": 36,
   "metadata": {
    "collapsed": false
   },
   "outputs": [
    {
     "data": {
      "text/plain": [
       "<matplotlib.lines.Line2D at 0x7fa931d1fd68>"
      ]
     },
     "execution_count": 36,
     "metadata": {},
     "output_type": "execute_result"
    },
    {
     "data": {
      "image/png": "[encoded data removed]",
      "text/plain": [
       "<matplotlib.figure.Figure at 0x7fa931d1f748>"
      ]
     },
     "metadata": {},
     "output_type": "display_data"
    }
   ],
   "source": [
    "plt.plot(range(1,N0//2), [1/(1-P(1,a)) for a in range(1,N0//2)])\n",
    "plt.xlabel('A')\n",
    "plt.ylabel('n')\n",
    "plt.axvline((2*N0*u/tau)**(1/2))"
   ]
  },
  {
   "cell_type": "markdown",
   "metadata": {},
   "source": [
    "$N_0/A$ is not actually a hard upper bound to the number of possible sites on a chain. The number of charges on a given chain follows a binomial law of mean $N_0/A$ and upper bound $N_0$. We have to combine this and the previous law giving the probability distribution of the number of heads knowing the number of charges.\n",
    "$$P(h,A) = \\sum_{i=0}^{N_0} P(h|i)P(i,A)$$"
   ]
  },
  {
   "cell_type": "code",
   "execution_count": 37,
   "metadata": {
    "collapsed": false
   },
   "outputs": [
    {
     "data": {
      "text/plain": [
       "<matplotlib.text.Text at 0x7fa930973e80>"
      ]
     },
     "execution_count": 37,
     "metadata": {},
     "output_type": "execute_result"
    },
    {
     "data": {
      "image/png": "[encoded data removed]",
      "text/plain": [
       "<matplotlib.figure.Figure at 0x7fa931765a20>"
      ]
     },
     "metadata": {},
     "output_type": "display_data"
    }
   ],
   "source": [
    "for a in 2**np.arange(6):\n",
    "    plt.plot(np.arange(N0+1), binom.pmf(np.arange(N0+1), N0, 1/a), color=plt.cm.autumn(np.log2(a)/6))\n",
    "plt.xlabel('#charge')"
   ]
  },
  {
   "cell_type": "code",
   "execution_count": 38,
   "metadata": {
    "collapsed": false
   },
   "outputs": [
    {
     "data": {
      "text/plain": [
       "<matplotlib.text.Text at 0x7fa93177a438>"
      ]
     },
     "execution_count": 38,
     "metadata": {},
     "output_type": "execute_result"
    },
    {
     "data": {
      "image/png": "[encoded data removed]",
      "text/plain": [
       "<matplotlib.figure.Figure at 0x7fa930931f28>"
      ]
     },
     "metadata": {},
     "output_type": "display_data"
    }
   ],
   "source": [
    "i=70\n",
    "for i in N0/2**np.arange(6):\n",
    "    plt.plot(range(N0//2+1), binom.pmf(np.arange(N0//2+1), i/2, 2/i), color=plt.cm.autumn(np.log2(N0/i)/6))\n",
    "plt.xlabel('#heads')\n",
    "plt.ylabel('P(h|#charges)')"
   ]
  },
  {
   "cell_type": "code",
   "execution_count": 39,
   "metadata": {
    "collapsed": false
   },
   "outputs": [
    {
     "data": {
      "text/plain": [
       "<matplotlib.text.Text at 0x7fa9317a0588>"
      ]
     },
     "execution_count": 39,
     "metadata": {},
     "output_type": "execute_result"
    },
    {
     "data": {
      "image/png": "[encoded data removed]",
      "text/plain": [
       "<matplotlib.figure.Figure at 0x7fa9341360b8>"
      ]
     },
     "metadata": {},
     "output_type": "display_data"
    }
   ],
   "source": [
    "for a in 2**np.arange(6):\n",
    "    Pcharges = binom.pmf(np.arange(2,N0+1), N0, 1/a)\n",
    "    plt.plot(\n",
    "        range(N0//2+1), \n",
    "        [np.sum(Pcharges * np.array([binom.pmf(h, i/2, 2/i) for i in range(2,N0+1)])) for h in range(N0//2+1)],\n",
    "        color=plt.cm.autumn(np.log2(a)/6)\n",
    "    )\n",
    "plt.xlabel('#heads')"
   ]
  },
  {
   "cell_type": "code",
   "execution_count": 40,
   "metadata": {
    "collapsed": false
   },
   "outputs": [
    {
     "data": {
      "text/plain": [
       "<matplotlib.text.Text at 0x7fa93098f5c0>"
      ]
     },
     "execution_count": 40,
     "metadata": {},
     "output_type": "execute_result"
    },
    {
     "data": {
      "image/png": "[encoded data removed]",
      "text/plain": [
       "<matplotlib.figure.Figure at 0x7fa930998208>"
      ]
     },
     "metadata": {},
     "output_type": "display_data"
    }
   ],
   "source": [
    "for a in 2**np.arange(6):\n",
    "    Pcharges = binom.pmf(np.arange(2,N0+1), N0, 1/a)\n",
    "    plt.plot(\n",
    "        range(N0//2+1), \n",
    "        [np.sum(Pcharges * np.array([binom.pmf(h, i, 1/i) for i in range(2,N0+1)])) for h in range(N0//2+1)],\n",
    "        color=plt.cm.autumn(np.log2(a)/6)\n",
    "    )\n",
    "plt.xlabel('#heads')"
   ]
  },
  {
   "cell_type": "code",
   "execution_count": 41,
   "metadata": {
    "collapsed": true
   },
   "outputs": [],
   "source": [
    "def P(h, A=1):\n",
    "    Pcharges = binom.pmf(np.arange(1,N0+1), N0, 1/A)\n",
    "    Pheads = np.array([binom.pmf(h, i/1, 1/i) for i in range(1,N0+1)])\n",
    "    return np.sum(Pheads * Pcharges, -1)"
   ]
  },
  {
   "cell_type": "code",
   "execution_count": 42,
   "metadata": {
    "collapsed": false
   },
   "outputs": [
    {
     "data": {
      "text/plain": [
       "0.36523597711796002"
      ]
     },
     "execution_count": 42,
     "metadata": {},
     "output_type": "execute_result"
    }
   ],
   "source": [
    "P(0)"
   ]
  },
  {
   "cell_type": "code",
   "execution_count": 43,
   "metadata": {
    "collapsed": false
   },
   "outputs": [
    {
     "data": {
      "text/plain": [
       "<matplotlib.lines.Line2D at 0x7fa9309ce550>"
      ]
     },
     "execution_count": 43,
     "metadata": {},
     "output_type": "execute_result"
    },
    {
     "data": {
      "image/png": "[encoded data removed]",
      "text/plain": [
       "<matplotlib.figure.Figure at 0x7fa930926860>"
      ]
     },
     "metadata": {},
     "output_type": "display_data"
    }
   ],
   "source": [
    "plt.plot(range(1,N0+1), [P(0, a) for a in range(1,N0+1)], label='h=0')\n",
    "plt.plot(range(1,N0+1), [P(1, a) for a in range(1,N0+1)], label='h=1')\n",
    "plt.plot(range(1,N0+1), [1-P(0,a)-P(1, a) for a in range(1,N0+1)], label='h>1')\n",
    "plt.xlabel('A')\n",
    "plt.ylabel('P(h)')\n",
    "plt.legend(loc='center right')\n",
    "plt.axvline((2*N0*u/tau)**(1/2))"
   ]
  },
  {
   "cell_type": "code",
   "execution_count": 44,
   "metadata": {
    "collapsed": false
   },
   "outputs": [
    {
     "data": {
      "text/plain": [
       "(0, 2.5)"
      ]
     },
     "execution_count": 44,
     "metadata": {},
     "output_type": "execute_result"
    },
    {
     "data": {
      "image/png": "[encoded data removed]",
      "text/plain": [
       "<matplotlib.figure.Figure at 0x7fa931d23eb8>"
      ]
     },
     "metadata": {},
     "output_type": "display_data"
    }
   ],
   "source": [
    "plt.plot(range(1,N0+1), [1/(1-P(1,a))-1 for a in range(1,N0+1)])\n",
    "plt.xlabel('A')\n",
    "plt.ylabel('n')\n",
    "plt.axvline((2*N0*u/tau)**(1/2))\n",
    "plt.ylim(0,2.5)"
   ]
  },
  {
   "cell_type": "markdown",
   "metadata": {
    "collapsed": true
   },
   "source": [
    "Probability to have 2 neighbouring charges for a given A."
   ]
  },
  {
   "cell_type": "code",
   "execution_count": 45,
   "metadata": {
    "collapsed": false
   },
   "outputs": [
    {
     "data": {
      "text/plain": [
       "<matplotlib.text.Text at 0x7fa930848ba8>"
      ]
     },
     "execution_count": 45,
     "metadata": {},
     "output_type": "execute_result"
    },
    {
     "data": {
      "image/png": "[encoded data removed]",
      "text/plain": [
       "<matplotlib.figure.Figure at 0x7fa930a737b8>"
      ]
     },
     "metadata": {},
     "output_type": "display_data"
    }
   ],
   "source": [
    "plt.plot(range(1,N0+1), [binom.pmf(2,2,1/a) for a in range(1,N0+1)])\n",
    "plt.xlabel('A')"
   ]
  },
  {
   "cell_type": "markdown",
   "metadata": {},
   "source": [
    "Distance beween two couples of neighbouring charges function of A"
   ]
  },
  {
   "cell_type": "code",
   "execution_count": 46,
   "metadata": {
    "collapsed": false
   },
   "outputs": [
    {
     "data": {
      "text/plain": [
       "[<matplotlib.lines.Line2D at 0x7fa930715048>]"
      ]
     },
     "execution_count": 46,
     "metadata": {},
     "output_type": "execute_result"
    },
    {
     "data": {
      "image/png": "[encoded data removed]",
      "text/plain": [
       "<matplotlib.figure.Figure at 0x7fa93075c7f0>"
      ]
     },
     "metadata": {},
     "output_type": "display_data"
    }
   ],
   "source": [
    "plt.plot(range(1,N0+1), [1/binom.pmf(2,2,1/a) for a in range(1,N0+1)])\n",
    "plt.xlabel('A')\n",
    "plt.ylabel('N')\n",
    "plt.xscale('log')\n",
    "plt.yscale('log')\n",
    "plt.plot(np.sqrt(n*N0), n*N0, 'o')"
   ]
  },
  {
   "cell_type": "code",
   "execution_count": 47,
   "metadata": {
    "collapsed": false
   },
   "outputs": [
    {
     "data": {
      "text/plain": [
       "0.00040816326530612246"
      ]
     },
     "execution_count": 47,
     "metadata": {},
     "output_type": "execute_result"
    }
   ],
   "source": [
    "2/N0**2"
   ]
  },
  {
   "cell_type": "code",
   "execution_count": 50,
   "metadata": {
    "collapsed": false
   },
   "outputs": [
    {
     "data": {
      "text/plain": [
       "array([ 43.41215711,  35.44587785,  30.69703068,  27.45625892,\n",
       "        25.06402059,  23.20477404,  21.70607855,  20.46468712,  19.41450687])"
      ]
     },
     "execution_count": 50,
     "metadata": {},
     "output_type": "execute_result"
    }
   ],
   "source": [
    "(2*u*N0/np.arange(2,11)*10)**0.5"
   ]
  },
  {
   "cell_type": "code",
   "execution_count": null,
   "metadata": {
    "collapsed": true
   },
   "outputs": [],
   "source": []
  }
 ],
 "metadata": {
  "kernelspec": {
   "display_name": "Python 3",
   "language": "python",
   "name": "python3"
  },
  "language_info": {
   "codemirror_mode": {
    "name": "ipython",
    "version": 3
   },
   "file_extension": ".py",
   "mimetype": "text/x-python",
   "name": "python",
   "nbconvert_exporter": "python",
   "pygments_lexer": "ipython3",
   "version": "3.5.1"
  }
 },
 "nbformat": 4,
 "nbformat_minor": 0
}
