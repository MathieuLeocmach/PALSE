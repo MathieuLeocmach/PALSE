{
 "cells": [
  {
   "cell_type": "code",
   "execution_count": 1,
   "metadata": {
    "collapsed": true
   },
   "outputs": [],
   "source": [
    "import numpy as np\n",
    "from scipy import constants\n",
    "from scipy.optimize import leastsq"
   ]
  },
  {
   "cell_type": "markdown",
   "metadata": {},
   "source": [
    "Molar masses"
   ]
  },
  {
   "cell_type": "code",
   "execution_count": 2,
   "metadata": {
    "collapsed": true
   },
   "outputs": [],
   "source": [
    "N0 = 70\n",
    "M = {\n",
    "    'P':31, 'N':14, 'C':12, 'O':8, 'H':1, \n",
    "    'F':19, 'Cl':35.5, 'Br':80, 'I':127}\n",
    "M['head_Ph'] = 6 * M['C'] + 5 * M['O'] + 10 * M['H'] + M['P']\n",
    "M['head_Et'] = 6 * M['C'] + 2 * M['O'] + 11 * M['H']\n",
    "M['monoBr'] = 5 * M['C'] + 2 * M['O'] + 7 * M['H'] + M['Br']\n",
    "M['Imidazolium'] = 4 * M['C'] + 6 * M['H'] + 2 * M['N']\n",
    "M['Pyrrolidinium'] = 5 * M['C'] + 11 * M['H'] + M['N']\n",
    "for short, full in [('Im', 'Imidazolium'), ('Pyr', 'Pyrrolidinium')]:\n",
    "    for X in ['F','Cl','Br','I']:\n",
    "        M['P'+short+X] = M['head_Ph'] + N0 * (M['monoBr'] + M[full] - M['Br'] + M[X])\n",
    "        M['P'+short+X+'_Et'] = M['head_Et'] + N0 * (M['monoBr'] + M[full] - M['Br'] + M[X])"
   ]
  },
  {
   "cell_type": "code",
   "execution_count": 3,
   "metadata": {
    "collapsed": false
   },
   "outputs": [
    {
     "data": {
      "text/plain": [
       "{'Br': 80,\n",
       " 'C': 12,\n",
       " 'Cl': 35.5,\n",
       " 'F': 19,\n",
       " 'H': 1,\n",
       " 'I': 127,\n",
       " 'Imidazolium': 82,\n",
       " 'N': 14,\n",
       " 'O': 8,\n",
       " 'P': 31,\n",
       " 'PImBr': 17303,\n",
       " 'PImBr_Et': 17249,\n",
       " 'PImCl': 14188.0,\n",
       " 'PImCl_Et': 14134.0,\n",
       " 'PImF': 13033,\n",
       " 'PImF_Et': 12979,\n",
       " 'PImI': 20593,\n",
       " 'PImI_Et': 20539,\n",
       " 'PPyrBr': 17513,\n",
       " 'PPyrBr_Et': 17459,\n",
       " 'PPyrCl': 14398.0,\n",
       " 'PPyrCl_Et': 14344.0,\n",
       " 'PPyrF': 13243,\n",
       " 'PPyrF_Et': 13189,\n",
       " 'PPyrI': 20803,\n",
       " 'PPyrI_Et': 20749,\n",
       " 'Pyrrolidinium': 85,\n",
       " 'head_Et': 99,\n",
       " 'head_Ph': 153,\n",
       " 'monoBr': 163}"
      ]
     },
     "execution_count": 3,
     "metadata": {},
     "output_type": "execute_result"
    }
   ],
   "source": [
    "M"
   ]
  },
  {
   "cell_type": "markdown",
   "metadata": {},
   "source": [
    "From now on, in dissociation order: PImBr, PImI, PPyrCl, PPyrBr, PPyrI\n",
    "\n",
    "Measured $G'(\\gamma \\rightarrow 0)$ at $f=1$ Hz, and critical strain $\\gamma_c$ such that $G''$ is maximum."
   ]
  },
  {
   "cell_type": "code",
   "execution_count": 4,
   "metadata": {
    "collapsed": false
   },
   "outputs": [],
   "source": [
    "G = np.array([13, 78, 270, 9800, 8800])\n",
    "gamma_c = np.array([8.04, 0.16, 0.09, 0.016, 0.04])"
   ]
  },
  {
   "cell_type": "markdown",
   "metadata": {},
   "source": [
    "Monomer number density for a weight fraction of 80 g/kg"
   ]
  },
  {
   "cell_type": "code",
   "execution_count": 5,
   "metadata": {
    "collapsed": true
   },
   "outputs": [],
   "source": [
    "w = 80\n",
    "c = N0 * constants.N_A / np.array([M[s] for s in ['PImBr', 'PImI', 'PPyrCl', 'PPyrBr', 'PPyrI']]) * 80 * 1000"
   ]
  },
  {
   "cell_type": "markdown",
   "metadata": {},
   "source": [
    "## Cross-linked gel\n",
    "\n",
    "The shear modulus of a cross-linked gel is given by:\n",
    "$$G = \\frac{c}{N}k_\\mathrm{B}T,$$\n",
    "with $N$ the number of monomers between cross-links. Conversly, we can get the number $n = N/N_0$ of chains between cross-links:"
   ]
  },
  {
   "cell_type": "code",
   "execution_count": 6,
   "metadata": {
    "collapsed": false
   },
   "outputs": [
    {
     "name": "stdout",
     "output_type": "stream",
     "text": [
      "[ 881.64591775  123.46524964   51.01442873    1.15550635    1.08330393]\n"
     ]
    }
   ],
   "source": [
    "T = constants.C2K(25)\n",
    "n = c/N0 * constants.k * T / G\n",
    "print(n)"
   ]
  },
  {
   "cell_type": "markdown",
   "metadata": {},
   "source": [
    "If head-to-body bonds break within the linear regime of the chain, the bonding energy can be deduced from the critical strain:\n",
    "$$\\frac{E_c}{k_\\mathrm{B}T} = \\gamma_c^2$$"
   ]
  },
  {
   "cell_type": "code",
   "execution_count": 7,
   "metadata": {
    "collapsed": false
   },
   "outputs": [
    {
     "name": "stdout",
     "output_type": "stream",
     "text": [
      "[  6.46416000e+01   2.56000000e-02   8.10000000e-03   2.56000000e-04\n",
      "   1.60000000e-03]\n"
     ]
    }
   ],
   "source": [
    "print(gamma_c**2)"
   ]
  },
  {
   "cell_type": "markdown",
   "metadata": {},
   "source": [
    "Only PImBr has $E_c>k_\\mathrm{B}T$. In kJ/mol:"
   ]
  },
  {
   "cell_type": "code",
   "execution_count": 8,
   "metadata": {
    "collapsed": false
   },
   "outputs": [
    {
     "data": {
      "text/plain": [
       "160.24373961475197"
      ]
     },
     "execution_count": 8,
     "metadata": {},
     "output_type": "execute_result"
    }
   ],
   "source": [
    "gamma_c[0]**2 * constants.k * T * constants.N_A / 1000"
   ]
  },
  {
   "cell_type": "markdown",
   "metadata": {},
   "source": [
    "In abscence of salt, the screening length is\n",
    "$$r_\\mathrm{scr} = \\left(\\frac{B}{cb}\\right)^{1/2}$$\n",
    "where $b\\approx 0.26$ nm is the monomer size and\n",
    "$$B = b\\frac{g_e}{D} = b\\frac{g_\\mathrm{src}}{r_\\mathrm{src}}$$\n",
    "describes the electrostatic blob of diameter $D$ containing $g_e$ monomers. Between $D$ and $r_\\mathrm{scr}$ the polyelectrolyte is a linear assembly of electrostatic blobs, thus\n",
    "$$g_\\mathrm{src} = g_e \\frac{r_\\mathrm{src}}{D} = \\left(\\frac{B^3}{cb^3}\\right)^{1/2}$$.\n",
    "\n",
    "The exit from the linear domain of the material corresponds to the full extension of the persistent random walk:\n",
    "$$\\gamma_c = \\frac{R_0}{R} - 1,$$\n",
    "with\n",
    "$$\\left. \\begin{array}{ll}\n",
    "R &= r_\\mathrm{scr} \\left(\\frac{N}{g_\\mathrm{scr}}\\right)^{1/2}\\\\\n",
    "R_0 &= r_\\mathrm{scr} \\frac{N}{g_\\mathrm{scr}}\n",
    "\\end{array}\\right\\rbrace\\quad\n",
    "\\gamma_c = \\left(\\frac{N}{g_\\mathrm{scr}}\\right)^{1/2} -1\n",
    "$$\n",
    "\n",
    "Finally\n",
    "$$B = \\left(b^3 c \\frac{N^2}{(\\gamma_c+1)^4}\\right)^{1/3}$$"
   ]
  },
  {
   "cell_type": "code",
   "execution_count": 9,
   "metadata": {
    "collapsed": false
   },
   "outputs": [
    {
     "name": "stdout",
     "output_type": "stream",
     "text": [
      "PImI\tPPyrCl\tPPyrBr\tPPyrI\n",
      "[ 49.15084602  33.3793336    2.74929576   2.41045374]\n"
     ]
    }
   ],
   "source": [
    "b = 0.26e-9\n",
    "B = b * (c * (n*N0)**2 / (gamma_c+1)**4)**(1/3)\n",
    "print('PImI', 'PPyrCl', 'PPyrBr', 'PPyrI', sep='\\t')\n",
    "print(B[1:])"
   ]
  },
  {
   "cell_type": "markdown",
   "metadata": {},
   "source": [
    "PImBr is set aside because head-to-body link broke before full extension of the persistent random walk.\n",
    "\n",
    "From $B$ and provided an assumption on the $\\Theta$-temperature, we can deduce the number $A$ of monomers between dissociated charges. If $A=1$, there is no counterion condensation and the polyelectrolyte is fully charged.\n",
    "$$B = \\left(\\frac{A^2}{u}\\right)^{2/3}\\tau \\Leftrightarrow A = u^{1/2} \\left(\\frac{B}{\\tau}\\right)^{3/4}$$\n",
    "where $u = b/\\ell_\\mathrm{B}$, with $\\ell_\\mathrm{B} = 0.7$ nm the Bjerrum length in water and $\\tau = 1-T/\\Theta$ the reduced temperature. We know that $\\Theta>100$C so $0.2<\\tau<1$."
   ]
  },
  {
   "cell_type": "code",
   "execution_count": 10,
   "metadata": {
    "collapsed": false
   },
   "outputs": [
    {
     "name": "stdout",
     "output_type": "stream",
     "text": [
      "PImI\tPPyrCl\tPPyrBr\tPPyrI\n",
      "[ 101.84462127   76.19002143   11.71401959   10.61363017]\n"
     ]
    }
   ],
   "source": [
    "lB = 0.7e-9\n",
    "u = lB/b\n",
    "tau = 0.2\n",
    "A = u**(1/2) * (B/tau)**(3/4)\n",
    "print('PImI', 'PPyrCl', 'PPyrBr', 'PPyrI', sep='\\t')\n",
    "print(A[1:])"
   ]
  },
  {
   "cell_type": "markdown",
   "metadata": {},
   "source": [
    "Is it possible to have $A>N_0$?"
   ]
  },
  {
   "cell_type": "code",
   "execution_count": 11,
   "metadata": {
    "collapsed": true
   },
   "outputs": [],
   "source": [
    "%matplotlib inline\n",
    "from matplotlib import pyplot as plt"
   ]
  },
  {
   "cell_type": "code",
   "execution_count": 12,
   "metadata": {
    "collapsed": false
   },
   "outputs": [
    {
     "name": "stdout",
     "output_type": "stream",
     "text": [
      "132.63040382 2.06993519599\n",
      "280.773124133\n"
     ]
    },
    {
     "data": {
      "image/png": "[encoded data removed]",
      "text/plain": [
       "<matplotlib.figure.Figure at 0x7f7226b302e8>"
      ]
     },
     "metadata": {},
     "output_type": "display_data"
    }
   ],
   "source": [
    "plt.plot(A[1:], n[1:], 'o')\n",
    "params = leastsq(\n",
    "    lambda p,x,y: p[0] + p[1]*x - y,\n",
    "    [0,2],\n",
    "    args=(np.log(A[1:]), np.log(n[1:]))\n",
    "    )[0]\n",
    "print(np.exp(-params[0]), params[1])\n",
    "plt.plot(A[1:], np.exp(params[0]) * A[1:]**params[1])\n",
    "plt.plot(A[0], n[0], '*')\n",
    "print((n[0]/np.exp(params[0]))**(1/params[1]))\n",
    "plt.plot((n[0]/np.exp(params[0]))**(1/params[1]), n[0], '^')\n",
    "plt.xlabel('A')\n",
    "plt.ylabel('n')\n",
    "plt.xscale('log')\n",
    "plt.yscale('log')"
   ]
  },
  {
   "cell_type": "markdown",
   "metadata": {},
   "source": [
    "## Lower bound for $\\tau$\n",
    "\n",
    "for the polymer to be soluble, we want at least a charge per polymer, or $A<N_0$ that yields\n",
    "$$\\tau > \\left(\\frac{n u}{N_0}\\right)^{2/3} \\frac{c^{1/3}b}{(\\gamma_c+1)^{4/3}}$$"
   ]
  },
  {
   "cell_type": "code",
   "execution_count": 13,
   "metadata": {
    "collapsed": false
   },
   "outputs": [
    {
     "data": {
      "text/plain": [
       "array([ 0.08386264,  0.32972363,  0.22392199,  0.01844338,  0.01617029])"
      ]
     },
     "execution_count": 13,
     "metadata": {},
     "output_type": "execute_result"
    }
   ],
   "source": [
    "(n*u/N0)**(2/3) * c**(1/3) * b /(gamma_c+1)**(4/3)"
   ]
  },
  {
   "cell_type": "code",
   "execution_count": 14,
   "metadata": {
    "collapsed": false
   },
   "outputs": [
    {
     "name": "stdout",
     "output_type": "stream",
     "text": [
      "PImI\tPPyrCl\tPPyrBr\tPPyrI\n",
      "[ 69.95602742  52.33414551   8.0462401    7.29039387]\n"
     ]
    }
   ],
   "source": [
    "lB = 0.7e-9\n",
    "u = lB/b\n",
    "tau = 0.33\n",
    "A = u**(1/2) * (B/tau)**(3/4)\n",
    "print('PImI', 'PPyrCl', 'PPyrBr', 'PPyrI', sep='\\t')\n",
    "print(A[1:])"
   ]
  },
  {
   "cell_type": "markdown",
   "metadata": {},
   "source": [
    "In the case $\\tau=0.33$, how many monomoers are contained in an electrostatic blob ?\n",
    "$$g_e = \\left(\\frac{B^3}{\\tau}\\right)^{1/2}$$"
   ]
  },
  {
   "cell_type": "code",
   "execution_count": 15,
   "metadata": {
    "collapsed": false
   },
   "outputs": [
    {
     "data": {
      "text/plain": [
       "array([  76.94266277,  599.8456676 ,  335.70632437,    7.93551695,\n",
       "          6.51465217])"
      ]
     },
     "execution_count": 15,
     "metadata": {},
     "output_type": "execute_result"
    }
   ],
   "source": [
    "(B**3/0.33)**(1/2)"
   ]
  },
  {
   "cell_type": "markdown",
   "metadata": {},
   "source": [
    "Or in number of chains per electrostatic blobs"
   ]
  },
  {
   "cell_type": "code",
   "execution_count": 16,
   "metadata": {
    "collapsed": false
   },
   "outputs": [
    {
     "data": {
      "text/plain": [
       "array([ 1.0991809 ,  8.56922382,  4.79580463,  0.11336453,  0.09306646])"
      ]
     },
     "execution_count": 16,
     "metadata": {},
     "output_type": "execute_result"
    }
   ],
   "source": [
    "(B**3/0.33)**(1/2)/N0"
   ]
  },
  {
   "cell_type": "markdown",
   "metadata": {
    "collapsed": false
   },
   "source": [
    "Number of chains in a correlation blob"
   ]
  },
  {
   "cell_type": "code",
   "execution_count": 17,
   "metadata": {
    "collapsed": false
   },
   "outputs": [
    {
     "data": {
      "text/plain": [
       "array([ 10.78840744,  91.75479313,  42.93782403,   1.11939902,   1.00157538])"
      ]
     },
     "execution_count": 17,
     "metadata": {},
     "output_type": "execute_result"
    }
   ],
   "source": [
    "(B**3/c/b**3)**(1/2)/N0"
   ]
  },
  {
   "cell_type": "code",
   "execution_count": 18,
   "metadata": {
    "collapsed": false
   },
   "outputs": [
    {
     "data": {
      "text/plain": [
       "array([ 81.7216  ,   1.3456  ,   1.1881  ,   1.032256,   1.0816  ])"
      ]
     },
     "execution_count": 18,
     "metadata": {},
     "output_type": "execute_result"
    }
   ],
   "source": [
    "n/((B**3/c/b**3)**(1/2)/N0)"
   ]
  },
  {
   "cell_type": "markdown",
   "metadata": {},
   "source": [
    "We know that PImBr has even less charges than than PImI, therefore a larger $A$ and a larger $B$.\n",
    "\n",
    "$$B(\\mathrm{PImBr}) > B(\\mathrm{PImI}) \n",
    "\\Leftrightarrow \\frac{c^{1/4} n^{1/2}}{R_0/R}(\\mathrm{PImBr}) > \\frac{c^{1/4} n^{1/2}}{\\gamma_c+1}(\\mathrm{PImI})\n",
    "\\Leftrightarrow \\frac{R_0}{R}(\\mathrm{PImBr}) < \\frac{c^{1/4} n^{1/2}(\\mathrm{PImBr})}{c^{1/4} n^{1/2}(\\mathrm{PImI})}(\\gamma_c(\\mathrm{PImI})+1)$$"
   ]
  },
  {
   "cell_type": "code",
   "execution_count": 23,
   "metadata": {
    "collapsed": false
   },
   "outputs": [
    {
     "data": {
      "text/plain": [
       "3.2376677043122615"
      ]
     },
     "execution_count": 23,
     "metadata": {},
     "output_type": "execute_result"
    }
   ],
   "source": [
    "(c[0]/c[1])**(1/4) * (n[0]/n[1])**(1/2) * (gamma_c[1]+1)"
   ]
  },
  {
   "cell_type": "markdown",
   "metadata": {},
   "source": [
    "Instead of $\\gamma_c+1 = 9$.\n",
    "\n",
    "Actually, to get the equality we need \n",
    "$$\\frac{n_\\mathrm{PImBr}}{n_\\mathrm{PImI}} = \\left(\\frac{c_\\mathrm{PImBr}}{c_\\mathrm{PImI}}\\right)^{1/2} \\left(\\frac{\\gamma_{c,\\mathrm{PImBr}}+1}{\\gamma_{c,\\mathrm{PImI}}+1}\\right)^2 \\approx \\left(\\frac{\\gamma_{c,\\mathrm{PImBr}}+1}{\\gamma_{c,\\mathrm{PImI}}+1}\\right)^2 \\approx 81$$ \n",
    "and we only have 7."
   ]
  },
  {
   "cell_type": "code",
   "execution_count": 22,
   "metadata": {
    "collapsed": false
   },
   "outputs": [
    {
     "data": {
      "text/plain": [
       "7.1408426284459336"
      ]
     },
     "execution_count": 22,
     "metadata": {},
     "output_type": "execute_result"
    }
   ],
   "source": [
    "n[0]/n[1]"
   ]
  },
  {
   "cell_type": "markdown",
   "metadata": {},
   "source": [
    "Thinking in terms of fractal dimension, we need an aggregate of dimension $d$ so that\n",
    "\n",
    "$$\\left(\\frac{n_\\mathrm{PImBr}}{n_\\mathrm{PImI}}\\right)^d = \\left(\\frac{c_\\mathrm{PImBr}}{c_\\mathrm{PImI}}\\right)^{1/2} \\left(\\frac{\\gamma_{c,\\mathrm{PImBr}}+1}{\\gamma_{c,\\mathrm{PImI}}+1}\\right)^2$$"
   ]
  },
  {
   "cell_type": "code",
   "execution_count": 21,
   "metadata": {
    "collapsed": false
   },
   "outputs": [
    {
     "data": {
      "text/plain": [
       "0.99981846876862512"
      ]
     },
     "execution_count": 21,
     "metadata": {},
     "output_type": "execute_result"
    }
   ],
   "source": [
    "(np.log(c[0]/c[1]) + 2*np.log(n[0]/n[1]))/np.log((gamma_c[0]+1) / (gamma_c[1]+1)) /2"
   ]
  },
  {
   "cell_type": "code",
   "execution_count": 29,
   "metadata": {
    "collapsed": true
   },
   "outputs": [],
   "source": [
    "from scipy.stats import binom, poisson"
   ]
  },
  {
   "cell_type": "code",
   "execution_count": 31,
   "metadata": {
    "collapsed": false
   },
   "outputs": [
    {
     "data": {
      "image/png": "[encoded data removed]",
      "text/plain": [
       "<matplotlib.figure.Figure at 0x7f7222375358>"
      ]
     },
     "metadata": {},
     "output_type": "display_data"
    }
   ],
   "source": [
    "plt.plot(binom.pmf(np.arange(N0/2+1), N0/2, 2/N0), 'bo', ms=8, label='binom pmf')\n",
    "plt.plot(poisson.pmf(np.arange(N0/2+1), 1), 'g.', ms=8, label='binom pmf')\n",
    "plt.yscale('log')"
   ]
  },
  {
   "cell_type": "code",
   "execution_count": 33,
   "metadata": {
    "collapsed": false
   },
   "outputs": [
    {
     "data": {
      "text/plain": [
       "0.2642153591284947"
      ]
     },
     "execution_count": 33,
     "metadata": {},
     "output_type": "execute_result"
    }
   ],
   "source": [
    "1-_.sum()"
   ]
  },
  {
   "cell_type": "markdown",
   "metadata": {},
   "source": [
    "If the electrostatic blob cannot contain even the shortest side chain, then every side chain sticks out and thus the branching counts as a cross link. The precise boundary is when the electrostatic blob contains the main chain and a single monomeric side chain $ge<2N_0$. This translates in a condition on $A$ (provided $\\tau$):\n",
    "$$A < A_1 = \\left(\\frac{2N_0 u}{\\tau}\\right)^{1/2}$$."
   ]
  },
  {
   "cell_type": "code",
   "execution_count": 45,
   "metadata": {
    "collapsed": false
   },
   "outputs": [
    {
     "data": {
      "text/plain": [
       "array([ 43.41215711,  33.79631847,  27.45625892,  19.41450687])"
      ]
     },
     "execution_count": 45,
     "metadata": {},
     "output_type": "execute_result"
    }
   ],
   "source": [
    "(2*N0*u/np.array([0.2,tau,0.5,1]))**(1/2)"
   ]
  },
  {
   "cell_type": "markdown",
   "metadata": {},
   "source": [
    "Since there is exactly one head per body, the average number of heads attached to a given body is 1. The probability to have a head attached to a monomer is thus $1/N_0$. The probability of having a given number of monomers between crosslinks is thus given by a geometric distribution of parameter $1/N_0$. The average number of monomers between crosslinks is thus $N_0$. Therefore $n=k=1$."
   ]
  },
  {
   "cell_type": "markdown",
   "metadata": {},
   "source": [
    "If $A>A_1$, monomeric side chains are able to fully collapse on the main chain and thus do not count as cross-link anymore. The probability to have a crosslink is thus the probability to have a side chain AND that this side chain is not monomeric.\n",
    "\n",
    "Let us suppose that the probability of attaching a head to a given body is ndependent of the number of heads already attached, with a maximum of $N_0/2$ heads per body (bivalent phosphonate head need two monovalent cationic groups to attach). The probability $P(h)$ of having $h$ heads attached to the same body is thus given by a binomial law of mean 1. The probability to have no head attached and thus a tail is \n",
    "$$P(h=0) = \\left(1-\\frac{2}{N_0}\\right)^{N_0/2}$$"
   ]
  },
  {
   "cell_type": "code",
   "execution_count": 51,
   "metadata": {
    "collapsed": false
   },
   "outputs": [
    {
     "data": {
      "text/plain": [
       "0.36256054767581464"
      ]
     },
     "execution_count": 51,
     "metadata": {},
     "output_type": "execute_result"
    }
   ],
   "source": [
    "P = lambda h: binom.pmf(h, N0/2, 2/N0)\n",
    "P(0)"
   ]
  },
  {
   "cell_type": "markdown",
   "metadata": {},
   "source": [
    "The probability for a given monomer to hold a crosslink is thus\n",
    "$$\\frac{1-P(h=0)}{N_0}$$\n",
    "The number of monomers betwenn crosslinks is the inverse of the latter. Finally, the number of chains between crosslinks is \n",
    "$$n = \\frac{1}{1-P(h=0)}$$"
   ]
  },
  {
   "cell_type": "code",
   "execution_count": 52,
   "metadata": {
    "collapsed": false
   },
   "outputs": [
    {
     "data": {
      "text/plain": [
       "1.5687764482632396"
      ]
     },
     "execution_count": 52,
     "metadata": {},
     "output_type": "execute_result"
    }
   ],
   "source": [
    "1/(1-P(0))"
   ]
  },
  {
   "cell_type": "markdown",
   "metadata": {},
   "source": [
    "There is also a threshold $A_2 = \\left(\\frac{3N_0 u}{\\tau}\\right)^{1/2}$ when a dimeric side chains can collapse on the main chain. For $A>A_2$\n",
    "$$n = \\frac{1}{1-P(h=0)-P(h=1)P(h=0)}$$"
   ]
  },
  {
   "cell_type": "code",
   "execution_count": 53,
   "metadata": {
    "collapsed": false
   },
   "outputs": [
    {
     "data": {
      "text/plain": [
       "1.9915434258974904"
      ]
     },
     "execution_count": 53,
     "metadata": {},
     "output_type": "execute_result"
    }
   ],
   "source": [
    "1/(1-P(0) - P(0)*P(1))"
   ]
  },
  {
   "cell_type": "markdown",
   "metadata": {},
   "source": [
    "For $A>A_3$\n",
    "$$n = \\frac{1}{1 - P(h=0) - P(h=1)\\left(P(h=0)+P(h=1)P(h=0)\\right) - P(h=2)P(h=0)^2}$$"
   ]
  },
  {
   "cell_type": "code",
   "execution_count": 57,
   "metadata": {
    "collapsed": false
   },
   "outputs": [
    {
     "data": {
      "text/plain": [
       "2.4463089358439283"
      ]
     },
     "execution_count": 57,
     "metadata": {},
     "output_type": "execute_result"
    }
   ],
   "source": [
    "1/(1 - P(0)*(1 + P(1) + P(1)**2) - P(0)**2*P(2)*(1+2*P(1)))"
   ]
  },
  {
   "cell_type": "code",
   "execution_count": 58,
   "metadata": {
    "collapsed": false
   },
   "outputs": [
    {
     "data": {
      "text/plain": [
       "2.6539150687299284"
      ]
     },
     "execution_count": 58,
     "metadata": {},
     "output_type": "execute_result"
    }
   ],
   "source": [
    "1/(1 - P(0)*(1 + P(1) + P(1)**2 + P(1)**3) - P(0)**2*P(2)*(1+2*P(1)+3*P(1)**2) - P(0)**3*P(3))"
   ]
  },
  {
   "cell_type": "markdown",
   "metadata": {},
   "source": [
    "A single head attached and thus a linear procession has probability of P(h=1)"
   ]
  },
  {
   "cell_type": "code",
   "execution_count": 37,
   "metadata": {
    "collapsed": false
   },
   "outputs": [
    {
     "data": {
      "text/plain": [
       "0.37322409319569066"
      ]
     },
     "execution_count": 37,
     "metadata": {},
     "output_type": "execute_result"
    }
   ],
   "source": [
    "binom.pmf(1, N0/2, 2/N0)"
   ]
  },
  {
   "cell_type": "markdown",
   "metadata": {},
   "source": [
    "And the probability to branch is $P(h\\geq 2)$"
   ]
  },
  {
   "cell_type": "code",
   "execution_count": 38,
   "metadata": {
    "collapsed": false
   },
   "outputs": [
    {
     "data": {
      "text/plain": [
       "0.2642153591284947"
      ]
     },
     "execution_count": 38,
     "metadata": {},
     "output_type": "execute_result"
    }
   ],
   "source": [
    "1 - np.sum(binom.pmf([0,1], N0/2, 2/N0))"
   ]
  },
  {
   "cell_type": "markdown",
   "metadata": {},
   "source": [
    "Therefore, the number of chains beween cross links n=k is"
   ]
  },
  {
   "cell_type": "code",
   "execution_count": 40,
   "metadata": {
    "collapsed": false
   },
   "outputs": [
    {
     "data": {
      "text/plain": [
       "3.7847913281743564"
      ]
     },
     "execution_count": 40,
     "metadata": {},
     "output_type": "execute_result"
    }
   ],
   "source": [
    "1/(1-np.sum(binom.pmf([0,1], N0/2, 2/N0)))"
   ]
  },
  {
   "cell_type": "markdown",
   "metadata": {},
   "source": [
    "More complete expression taking into account the probability to have a second branching (third head) on the same \n",
    "$$\\frac{P(h=2) \\times 1/P(h\\geq 2) + P(h>3)}{P(h\\geq 2)}$$"
   ]
  },
  {
   "cell_type": "code",
   "execution_count": 41,
   "metadata": {
    "collapsed": false
   },
   "outputs": [
    {
     "data": {
      "text/plain": [
       "2.9668637387798635"
      ]
     },
     "execution_count": 41,
     "metadata": {},
     "output_type": "execute_result"
    }
   ],
   "source": [
    "(binom.pmf(2, N0/2, 2/N0) / (1-np.sum(binom.pmf([0,1], N0/2, 2/N0))) + (1-np.sum(binom.pmf([0,1,2], N0/2, 2/N0)))) / (1-np.sum(binom.pmf([0,1], N0/2, 2/N0)))"
   ]
  },
  {
   "cell_type": "code",
   "execution_count": null,
   "metadata": {
    "collapsed": true
   },
   "outputs": [],
   "source": []
  }
 ],
 "metadata": {
  "kernelspec": {
   "display_name": "Python 3",
   "language": "python",
   "name": "python3"
  },
  "language_info": {
   "codemirror_mode": {
    "name": "ipython",
    "version": 3
   },
   "file_extension": ".py",
   "mimetype": "text/x-python",
   "name": "python",
   "nbconvert_exporter": "python",
   "pygments_lexer": "ipython3",
   "version": "3.5.0"
  }
 },
 "nbformat": 4,
 "nbformat_minor": 0
}
