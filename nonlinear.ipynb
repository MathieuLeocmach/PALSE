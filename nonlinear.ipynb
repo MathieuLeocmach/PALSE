{
 "cells": [
  {
   "cell_type": "code",
   "execution_count": 1,
   "metadata": {
    "collapsed": true
   },
   "outputs": [],
   "source": [
    "import numpy as np\n",
    "from scipy import constants\n",
    "from scipy.optimize import leastsq\n",
    "import uncertainties\n",
    "from uncertainties import unumpy as unp\n",
    "from matplotlib import pyplot as plt\n",
    "%matplotlib inline"
   ]
  },
  {
   "cell_type": "code",
   "execution_count": 2,
   "metadata": {
    "collapsed": false
   },
   "outputs": [],
   "source": [
    "@uncertainties.wrap\n",
    "def f(n=0, *P):\n",
    "    ''' compute the nth root of the polynomial P and the uncertainty of the root'''\n",
    "    p =  np.array(P)\n",
    "    N = len(p)\n",
    "    \n",
    "    M = np.diag(np.ones((N-2,), p.dtype), -1)\n",
    "    M[0, :] = -p[1:] / p[0]\n",
    "    r = np.linalg.eigvals(M)\n",
    "    r.sort()  # there is no telling what order the values come out in\n",
    "    return r[n]"
   ]
  },
  {
   "cell_type": "markdown",
   "metadata": {},
   "source": [
    "Molar masses"
   ]
  },
  {
   "cell_type": "code",
   "execution_count": 3,
   "metadata": {
    "collapsed": true
   },
   "outputs": [],
   "source": [
    "N0 = 70\n",
    "M = {\n",
    "    'P':31, 'N':14, 'C':12, 'O':8, 'H':1, \n",
    "    'F':19, 'Cl':35.5, 'Br':80, 'I':127}\n",
    "M['head_Ph'] = 6 * M['C'] + 5 * M['O'] + 10 * M['H'] + M['P']\n",
    "M['head_Et'] = 6 * M['C'] + 2 * M['O'] + 11 * M['H']\n",
    "M['monoBr'] = 5 * M['C'] + 2 * M['O'] + 7 * M['H'] + M['Br']\n",
    "M['Imidazolium'] = 4 * M['C'] + 6 * M['H'] + 2 * M['N']\n",
    "M['Pyrrolidinium'] = 5 * M['C'] + 11 * M['H'] + M['N']\n",
    "for short, full in [('Im', 'Imidazolium'), ('Pyr', 'Pyrrolidinium')]:\n",
    "    for X in ['F','Cl','Br','I']:\n",
    "        M['P'+short+X] = M['head_Ph'] + N0 * (M['monoBr'] + M[full] - M['Br'] + M[X])\n",
    "        M['P'+short+X+'_Et'] = M['head_Et'] + N0 * (M['monoBr'] + M[full] - M['Br'] + M[X])"
   ]
  },
  {
   "cell_type": "code",
   "execution_count": 4,
   "metadata": {
    "collapsed": false
   },
   "outputs": [
    {
     "data": {
      "text/plain": [
       "{'Br': 80,\n",
       " 'C': 12,\n",
       " 'Cl': 35.5,\n",
       " 'F': 19,\n",
       " 'H': 1,\n",
       " 'I': 127,\n",
       " 'Imidazolium': 82,\n",
       " 'N': 14,\n",
       " 'O': 8,\n",
       " 'P': 31,\n",
       " 'PImBr': 17303,\n",
       " 'PImBr_Et': 17249,\n",
       " 'PImCl': 14188.0,\n",
       " 'PImCl_Et': 14134.0,\n",
       " 'PImF': 13033,\n",
       " 'PImF_Et': 12979,\n",
       " 'PImI': 20593,\n",
       " 'PImI_Et': 20539,\n",
       " 'PPyrBr': 17513,\n",
       " 'PPyrBr_Et': 17459,\n",
       " 'PPyrCl': 14398.0,\n",
       " 'PPyrCl_Et': 14344.0,\n",
       " 'PPyrF': 13243,\n",
       " 'PPyrF_Et': 13189,\n",
       " 'PPyrI': 20803,\n",
       " 'PPyrI_Et': 20749,\n",
       " 'Pyrrolidinium': 85,\n",
       " 'head_Et': 99,\n",
       " 'head_Ph': 153,\n",
       " 'monoBr': 163}"
      ]
     },
     "execution_count": 4,
     "metadata": {},
     "output_type": "execute_result"
    }
   ],
   "source": [
    "M"
   ]
  },
  {
   "cell_type": "markdown",
   "metadata": {},
   "source": [
    "Other constants"
   ]
  },
  {
   "cell_type": "code",
   "execution_count": 5,
   "metadata": {
    "collapsed": false
   },
   "outputs": [
    {
     "name": "stdout",
     "output_type": "stream",
     "text": [
      "u = 1.90\n"
     ]
    }
   ],
   "source": [
    "T = constants.C2K(25) #temperature\n",
    "b = 2.45*0.15e-9 # Kuhn length for a freely rotating chain of thetrahedral carbons\n",
    "gK = 1.5 #number of monomers (2 carbons on the chain) in a Kuhn segment\n",
    "lB = 0.7e-9 #Bjerum length\n",
    "u = lB / b\n",
    "print('u = {:0.2f}'.format(u))"
   ]
  },
  {
   "cell_type": "markdown",
   "metadata": {},
   "source": [
    "From now on, in dissociation order: PImBr, PImI, PPyrCl, PPyrBr, PPyrI\n",
    "\n",
    "Monomer number density for a weight fraction of 80 g/kg"
   ]
  },
  {
   "cell_type": "code",
   "execution_count": 6,
   "metadata": {
    "collapsed": true
   },
   "outputs": [],
   "source": [
    "names = ['PImBr', 'PImI', 'PPyrCl', 'PPyrBr', 'PPyrI']\n",
    "w = 80\n",
    "c = N0 * constants.N_A / np.array([M[s] for s in names]) * 80 * 1000"
   ]
  },
  {
   "cell_type": "markdown",
   "metadata": {},
   "source": [
    "Load strain sweeps at $f=1$ Hz."
   ]
  },
  {
   "cell_type": "code",
   "execution_count": 7,
   "metadata": {
    "collapsed": false
   },
   "outputs": [],
   "source": [
    "sweeps = [\n",
    "    np.loadtxt('ImBr_70_PO3_8pc_bis.strain', skiprows=5, usecols=[4,6,7]),\n",
    "    np.loadtxt('PImI0CL70unit_80gperL.strain', skiprows=2),\n",
    "    np.loadtxt('PPyCl0CL70unit_80gperL.strain', skiprows=2),\n",
    "    np.loadtxt('PPyBr_70_0pc.strain', skiprows=5, usecols=[4,6,7])[:20],\n",
    "    np.loadtxt('PPyI0CL70unit_80gperL_bis.strain', skiprows=5, usecols=[4,6,7]),\n",
    "    ]"
   ]
  },
  {
   "cell_type": "code",
   "execution_count": 8,
   "metadata": {
    "collapsed": false
   },
   "outputs": [
    {
     "data": {
      "image/png": "[encoded data removed]",
      "text/plain": [
       "<matplotlib.figure.Figure at 0x7fa37a0c50b8>"
      ]
     },
     "metadata": {},
     "output_type": "display_data"
    }
   ],
   "source": [
    "plt.figure(figsize=(10,6))\n",
    "for i,(a,name) in enumerate(zip(sweeps,names)):\n",
    "    plt.subplot(2,3,2+i)\n",
    "    plt.title(name)\n",
    "    plt.scatter(a[:,0], a[:,1], facecolors='k')\n",
    "    plt.scatter(a[:,0], a[:,2], edgecolors='k', facecolors='none')\n",
    "    plt.xscale('log')\n",
    "    plt.yscale('log')\n",
    "    plt.xlim(1e-3,1e2)\n",
    "    plt.ylim(1e-1,3e4)\n",
    "    plt.xlabel(r'$\\gamma$')\n",
    "    plt.ylabel(r'$G^\\prime,\\, G^{\\prime\\prime}$')\n",
    "plt.tight_layout()"
   ]
  },
  {
   "cell_type": "markdown",
   "metadata": {},
   "source": [
    "All 5 samples are solidlike ($G^\\prime \\gg G^{\\prime\\prime}$) at small strains and flow at large strains ($G^{\\prime\\prime} \\gg G^\\prime$) with a steep decrease of the moduli. Moderatly charged PImI and PPyrCl show a plateau in both moduli at low strain corresponding to the linear regime of the material; an overshoot of $G^{\\prime\\prime}$ and a downward slope of $G^\\prime$ at intermediate strains corresponding to the onset of plasticity~\\cite{Hyun2011}; and a decrease of both moduli at large strains, steeper for $G^\\prime$ than for $G^{\\prime\\prime}$, indicating shear thinning. The linear regime is either extremely narrow or non existent in heavily charged PPyrBr and PPyrI. By contrast the lightly charged PImBr displays a broad intermediate regime (tree decades of strain) between the linear regime and the crossing of the moduli."
   ]
  },
  {
   "cell_type": "markdown",
   "metadata": {},
   "source": [
    "Measure $G'(\\gamma \\rightarrow 0)$ and the error"
   ]
  },
  {
   "cell_type": "code",
   "execution_count": 9,
   "metadata": {
    "collapsed": false
   },
   "outputs": [
    {
     "name": "stdout",
     "output_type": "stream",
     "text": [
      "PImBr:\tG' =      13.28±      0.19 Pa\trelative error: 1.43%\n",
      "PImI:\tG' =      78.56±      0.13 Pa\trelative error: 0.17%\n",
      "PPyrCl:\tG' =      272.3±       0.6 Pa\trelative error: 0.20%\n",
      "PPyrBr:\tG' =       9811±        40 Pa\trelative error: 0.40%\n",
      "PPyrI:\tG' =       8796±        34 Pa\trelative error: 0.38%\n"
     ]
    }
   ],
   "source": [
    "G = unp.uarray(\n",
    "    [a[0,1] for a in sweeps],\n",
    "    np.abs([(a[0,1]-a[1,1])/2 for a in sweeps])\n",
    ")\n",
    "for name, g in zip(names, G):\n",
    "    print('{}:\\tG\\' = {:10.4P} Pa\\trelative error: {:0.2f}%'.format(name,g,100*g.s/g.n))"
   ]
  },
  {
   "cell_type": "markdown",
   "metadata": {},
   "source": [
    "Measure the critical strain $\\gamma_c$ such that the moduli cross, and the error."
   ]
  },
  {
   "cell_type": "code",
   "execution_count": 10,
   "metadata": {
    "collapsed": false
   },
   "outputs": [
    {
     "name": "stdout",
     "output_type": "stream",
     "text": [
      "PImBr:\tgamma_c' =        8.1±       1.0\trelative error: 12.88%\n",
      "PImI:\tgamma_c' =      0.184±     0.024\trelative error: 13.11%\n",
      "PPyrCl:\tgamma_c' =       0.12±      0.15\trelative error: 124.44%\n",
      "PPyrBr:\tgamma_c' =      0.022±     0.018\trelative error: 82.26%\n",
      "PPyrI:\tgamma_c' =       0.89±      0.26\trelative error: 29.38%\n"
     ]
    }
   ],
   "source": [
    "imaxs = np.array([np.where(a[:,2]<a[:,1])[0][-1] for a in sweeps])\n",
    "gamma_c = unp.uarray(\n",
    "    np.exp([\n",
    "        np.interp(0, np.log(a[imax:imax+2,2]/a[imax:imax+2,1]), np.log(a[imax:imax+2,0])) \n",
    "        for a,imax in zip(sweeps, imaxs)\n",
    "        ]),\n",
    "    [(a[imax+1,0]-a[imax,0])/2 for a,imax in zip(sweeps, imaxs)]\n",
    "    )\n",
    "for name, g in zip(names, gamma_c):\n",
    "    print('{}:\\tgamma_c\\' = {:10P}\\trelative error: {:0.2f}%'.format(name,g,100*g.s/g.n))"
   ]
  },
  {
   "cell_type": "markdown",
   "metadata": {},
   "source": [
    "Estimate the end of the linear regime."
   ]
  },
  {
   "cell_type": "code",
   "execution_count": 11,
   "metadata": {
    "collapsed": false
   },
   "outputs": [
    {
     "name": "stdout",
     "output_type": "stream",
     "text": [
      "PImBr:\tgamma_c0' =     0.0112±    0.0013\trelative error: 11.35%\n",
      "PImI:\tgamma_c0' =     0.0179±    0.0020\trelative error: 11.16%\n",
      "PPyrCl:\tgamma_c0' =     0.0283±    0.0032\trelative error: 11.21%\n",
      "PPyrBr:\tgamma_c0' =     0.0035±    0.0004\trelative error: 10.95%\n",
      "PPyrI:\tgamma_c0' =    0.00113±   0.00013\trelative error: 11.45%\n"
     ]
    }
   ],
   "source": [
    "#i0 = np.array([np.where((a[:,2] > 1.15 *a[:np.argmax(a[:,2]),2].min()) & (a[:,1] < 0.95 * a[0,1].max()))[0][0] for a in sweeps])\n",
    "i0 = np.array([10, 12, 14, 5, 0])\n",
    "gamma_c0 = unp.uarray(\n",
    "    [np.exp((np.log(a[imax,0])+np.log(a[imax+1,0]))/2) for a,imax in zip(sweeps, i0)],\n",
    "    [(a[imax+1,0]-a[imax,0])/2 for a,imax in zip(sweeps, i0)]\n",
    "    )\n",
    "for name, g in zip(names, gamma_c0):\n",
    "    print('{}:\\tgamma_c0\\' = {:10P}\\trelative error: {:0.2f}%'.format(name,g,100*g.s/g.n))"
   ]
  },
  {
   "cell_type": "code",
   "execution_count": 12,
   "metadata": {
    "collapsed": false
   },
   "outputs": [
    {
     "data": {
      "image/png": "[encoded data removed]",
      "text/plain": [
       "<matplotlib.figure.Figure at 0x7fa376ff1470>"
      ]
     },
     "metadata": {},
     "output_type": "display_data"
    }
   ],
   "source": [
    "plt.figure(figsize=(10,6))\n",
    "for i,(a,name, gc0, gc) in enumerate(zip(sweeps,names, gamma_c0, gamma_c)):\n",
    "    plt.subplot(2,3,2+i)\n",
    "    plt.title(name)\n",
    "    plt.axvspan(gc0.n,gc.n, color=(0.9,0.9,0.9), zorder=-1)\n",
    "    plt.axhline(a[0,1],color=[0.5]*3)\n",
    "    plt.scatter(a[:,0], a[:,1], facecolors='k')\n",
    "    plt.scatter(a[:,0], a[:,2], edgecolors='k', facecolors='none')\n",
    "    plt.xscale('log')\n",
    "    plt.yscale('log')\n",
    "    plt.xlim(1e-3,1e2)\n",
    "    plt.ylim(1e-1,3e4)\n",
    "    plt.xlabel(r'$\\gamma$')\n",
    "    plt.ylabel(r'$G^\\prime,\\, G^{\\prime\\prime}$')\n",
    "plt.tight_layout()"
   ]
  },
  {
   "cell_type": "code",
   "execution_count": 13,
   "metadata": {
    "collapsed": false,
    "scrolled": false
   },
   "outputs": [
    {
     "data": {
      "image/png": "[encoded data removed]",
      "text/plain": [
       "<matplotlib.figure.Figure at 0x7fa3774206a0>"
      ]
     },
     "metadata": {},
     "output_type": "display_data"
    }
   ],
   "source": [
    "plt.figure(figsize=(10,6))\n",
    "for i,(a,name, gc0, gc) in enumerate(zip(sweeps,names, gamma_c0, gamma_c)):\n",
    "    plt.subplot(2,3,2+i)\n",
    "    plt.title(name)\n",
    "    plt.axvspan(gc0.n,gc.n, color=(0.9,0.9,0.9), zorder=-1)\n",
    "    plt.axhline(0.25,color=[0.5]*3)\n",
    "    plt.scatter(a[:,0], np.arctan2(a[:,2],a[:,1])/np.pi, facecolors='k')\n",
    "    #plt.scatter(a[:,0], a[:,2], edgecolors='k', facecolors='none')\n",
    "    plt.xscale('log')\n",
    "    #plt.yscale('log')\n",
    "    plt.xlim(1e-3,1e2)\n",
    "    plt.ylim(0,0.5)\n",
    "    plt.xlabel(r'$\\gamma$')\n",
    "    plt.ylabel(r'$\\arctan(G^{\\prime\\prime}/G^\\prime)/\\pi$')\n",
    "plt.tight_layout()"
   ]
  },
  {
   "cell_type": "markdown",
   "metadata": {},
   "source": [
    "## Linear regime till the end\n",
    "\n",
    "In absence of strain, the structure of a polyelectrolyte chain is organised at various scales.\n",
    "\n",
    "The smallest scale is the Kuhn length $b$ containing $g_\\mathrm{K}$ monomers. For a freely joint chain of tetrahedral carbons $b\\approx 367$ pm. Since a monomer counts 2 carbons along the chain $g_\\mathrm{K}\\approx 3/2$.\n",
    "\n",
    "\n",
    "Since we are in bad solvent, the thermal length $\\xi_T$ is larger than $b$. The thermal blob contains $g_T$ monomers and its density is set by the reduced temperature $(g_T/g_\\mathrm{K})/\\xi_T^3 = \\tau/b^3$. Between $b$ and $\\xi_T$ we have a persistent random walk $\\xi_T = b (g_T/g_\\mathrm{K})^{1/2}$. These conditions yields $\\xi_T = b/\\tau$ and $g_T = g_\\mathrm{K}/\\tau^2$."
   ]
  },
  {
   "cell_type": "markdown",
   "metadata": {},
   "source": [
    "At a scale $D$, the electrostatic energy balances the surface energy of the collapsed polymer. We name $g_e$ the number of monomers in the electrostatic blob. If there is a charge every $A$ monomers and there are $g_e/A$ charges in the electrostatic blob. The surface tension is proportional to the number of thermal blobs exposed on the surface $k_\\mathrm{B}T/\\xi_T^2$, with $k_\\mathrm{B}$ is the Boltzmann constant and $T$ the temperature. Thus the balance of energies writes:\n",
    "$$\\left(\\frac{D}{\\xi_T}\\right)^2 = \\left(\\frac{g_e}{A}\\right)^2 \\frac{\\ell_\\mathrm{B}}{D},$$\n",
    "where $\\ell_\\mathrm{B} = e^2/(4\\pi\\epsilon k_\\mathrm{B}T)$ is the Bjerrum length with $e$ the elementary charge, $\\epsilon$ the dielectric constant of the solvent. Since thermal blobs fill the volume of the electrostatic blob $D = \\xi_T \\left(g_e/g_T\\right)^{1/3}$, we obtain\n",
    "$$g_e = \\frac{A^2}{u g_\\mathrm{K}} \\tau, \\qquad D = b\\left(\\frac{A^2}{u g_\\mathrm{K}^2}\\right)^{1/3},\\qquad \\text{with }u = \\ell_\\mathrm{B}/b.$$"
   ]
  },
  {
   "cell_type": "markdown",
   "metadata": {},
   "source": [
    "We define the extension parameter $B$ as the ratio between the length of a chain of $g_e$ monomers fully extended and the actual size of the electrostatic blob: \n",
    "$$B = \\frac{g_e}{g_\\mathrm{K}}\\frac{b}{D} = \\left(\\frac{A^2}{u}\\right)^{2/3} g_\\mathrm{K}^{-1/3}\\tau$$\n",
    "\n",
    "We want to evaluate $B$ since it is monotonically related to the amount of counterion condensation (at constant solvent quality)."
   ]
  },
  {
   "cell_type": "markdown",
   "metadata": {},
   "source": [
    "Electrostatic repulsion decays with a characteristic length $r_\\mathrm{src}$, the screening length. In general this screening length is set by the concentration of dissociated counterions and the concentration of $c_s$ added salts.\n",
    "Between $D$ and $r_\\mathrm{src}$ the electrostatic blobs are organised in a linear rod containing $g_\\mathrm{src}$ monomers. The length of this rod is $B$ times shorter than if the electrostatic blobs were extended: \n",
    "$$r_\\mathrm{src} = \\frac{g_\\mathrm{src} b}{g_\\mathrm{K}B}$$\n",
    "\n",
    "The last length scale is the correlation length $\\xi$. Between $r_\\mathrm{src}$ and $\\xi$ the chain forms a self avoiding walk of persistence length $r_\\mathrm{src}$.\n",
    "\n",
    "Above the correlation length the polyelectrolyte chain forms a random walk of correlation blobs containing $g=c\\xi^3$ monomers."
   ]
  },
  {
   "cell_type": "markdown",
   "metadata": {},
   "source": [
    "A chain perfoming a random walk or self avoiding walk can be considered an entropic spring of constant stiffness $k_\\mathrm{B}T$. The number density of chains is $c/N$ with $c$ the monomer concentration and $N=n N_0$ the number of monomers between cross-links or entanglements. Therefore, the shear modulus at low strain is given by:\n",
    "$$G = \\frac{c}{N}k_\\mathrm{B}T.$$\n",
    "\n",
    "Conversly, we extract the number $n$ of polymers between crosslinks or entanglements from $G'(\\gamma \\rightarrow 0)$."
   ]
  },
  {
   "cell_type": "code",
   "execution_count": 14,
   "metadata": {
    "collapsed": false
   },
   "outputs": [
    {
     "name": "stdout",
     "output_type": "stream",
     "text": [
      "PImBr:\tn =        863±        12\trelative error: 1.43%\n",
      "PImI:\tn =     122.59±      0.20\trelative error: 0.17%\n",
      "PPyrCl:\tn =      50.58±      0.10\trelative error: 0.20%\n",
      "PPyrBr:\tn =      1.154±     0.005\trelative error: 0.40%\n",
      "PPyrI:\tn =      1.084±     0.004\trelative error: 0.38%\n"
     ]
    }
   ],
   "source": [
    "T = constants.C2K(25)\n",
    "n = c/N0 * constants.k * T / G\n",
    "for name, g in zip(names, n):\n",
    "    print('{}:\\tn = {:10P}\\trelative error: {:0.2f}%'.format(name,g,100*g.s/g.n))"
   ]
  },
  {
   "cell_type": "markdown",
   "metadata": {},
   "source": [
    "As the material is strained, the random walk is stretched, then the self-avoiding walk. When the correlation blobs are fully streched, the chain is a linear assembly of electrostatic blobs. Stretching the chain further means exposing more monomer to the solvent, a process that cannot be reduced to spring of constant stiffness. This condition is thus the limit between the linear and non linear regimes.\n",
    "\n",
    "For all our samples, the linear regime is narrow $\\gamma_0\\approx 10^{-2}\\ll 1$ if existing. It means that the self-avoiding walk is very short and the random walk probably non existent (the chain is too short). In other words the number $N$ of monomer between crosslinks is comparable to $g_\\mathrm{scr}$. We are thus dealing with a semiflexible filament network\\cite{MacKintosh1995,Meng2016}. Shearing a permanent network of semiflexible filaments implies fibrer buckling\\cite{Meng2016} and strong shear thickening. Here the processions are able to break apart (decrease in $G^\\prime$) and reform (maximum in $G^{\\prime\\prime}$). The picture in the plastic regime is even more complex due to stress localisation on the remaining processions. Therefore, we focus on the simpler case of the exit from the linear regime. "
   ]
  },
  {
   "cell_type": "markdown",
   "metadata": {},
   "source": [
    "In dilute solution, the chain is a linear rod of length $$L= \\frac{N b}{g_\\mathrm{K}B}.$$\n",
    "\n",
    "The overlap concentration is thus $$c^* = \\frac{N}{L^3} = \\frac{g_\\mathrm{K}B}{b L^2}.$$\n",
    "\n",
    "Following \\cite{Dobrynin1995}, the screening length in abscence of salt is \n",
    "$$r_\\mathrm{src} = L \\left(\\frac{c^*}{c}\\right)^{1/2} =  \\left(\\frac{g_\\mathrm{K}B}{cb}\\right)^{1/2}$$"
   ]
  },
  {
   "cell_type": "markdown",
   "metadata": {},
   "source": [
    "In the presence of added salt, electrostatic interactions are screened at the Debye length\n",
    "$$r_\\mathrm{src} = \\left(\\ell_\\mathrm{B} c_s\\right)^{-1/2}.$$\n",
    "\n",
    "For arbitrary salt concentration,\n",
    "$$r_\\mathrm{src} = \\left(\\frac{g_\\mathrm{K}B}{cb}\\right)^{1/2} \\left(1+ g_\\mathrm{K}Bu \\frac{c_s}{c}\\right)^{-1/2}.$$"
   ]
  },
  {
   "cell_type": "markdown",
   "metadata": {},
   "source": [
    "We deduce the number of monomers in the rod \n",
    "$$g_\\mathrm{src} = g_\\mathrm{K} B \\frac{r_\\mathrm{src}}{b} = \\left(\\frac{g_\\mathrm{K}^3 B^3}{cb^3}\\right)^{1/2} \\left(1 + g_\\mathrm{K}Bu \\frac{c_s}{c}\\right)^{-1/2}.$$\n",
    "\n",
    "Let us note\n",
    "$$B_s = \\frac{c}{g_\\mathrm{K} u c_s}$$\n",
    "$$B_0 = b c^{1/3} N^{2/3} g_\\mathrm{K}^{-1} = \\frac{bc}{g_\\mathrm{K}} \\left(\\frac{k_\\mathrm{B}T}{G}\\right)^{2/3}$$\n",
    "\n",
    "The condition $g_\\mathrm{src}\\approx N$ writes\n",
    "$$\\left(\\frac{B}{B_0}\\right)^3 = 1 + \\frac{B}{B_s}$$\n",
    "\n",
    "This equation can be solved numerically to yield B. Nonetheless, we identify two physically relevant limit cases:\n",
    "\n",
    "- if $B \\ll B_s$ (low salt condition) then $B = B_0$\n",
    "\n",
    "- if $B \\gg B_s$ (high salt condition) then $B = \\left(\\frac{B_0^3}{B_s}\\right)^{1/2} > B_0$"
   ]
  },
  {
   "cell_type": "markdown",
   "metadata": {},
   "source": [
    "Here, the \"salt\" are the phosphonate heads, that is to say two charges per chain. Thus $c_s/c = 2/N_0$ and $B_s = N_0/2g_\\mathrm{K}u$."
   ]
  },
  {
   "cell_type": "code",
   "execution_count": 15,
   "metadata": {
    "collapsed": false
   },
   "outputs": [
    {
     "name": "stdout",
     "output_type": "stream",
     "text": [
      "Bs = 12.25\n"
     ]
    }
   ],
   "source": [
    "Bs = N0/u/2/gK\n",
    "print('Bs = {:g}'.format(Bs))"
   ]
  },
  {
   "cell_type": "code",
   "execution_count": 17,
   "metadata": {
    "collapsed": false
   },
   "outputs": [
    {
     "name": "stdout",
     "output_type": "stream",
     "text": [
      "Supposing low salt\n",
      "PImBr:\tB0 =      218.7±       2.1 \trelative error: 0.95%\n",
      "PImI:\tB0 =      56.18±      0.06 \trelative error: 0.11%\n",
      "PPyrCl:\tB0 =      35.08±      0.05 \trelative error: 0.13%\n",
      "PPyrBr:\tB0 =      2.644±     0.007 \trelative error: 0.27%\n",
      "PPyrI:\tB0 =      2.394±     0.006 \trelative error: 0.25%\n"
     ]
    }
   ],
   "source": [
    "print('Supposing low salt')\n",
    "B0 = b * c * (constants.k * T / G)**(2/3) / gK\n",
    "for name, g in zip(names, B0):\n",
    "    print('{}:\\tB0 = {:10P} \\trelative error: {:0.2f}%'.format(name,g,100*g.s/g.n))"
   ]
  },
  {
   "cell_type": "code",
   "execution_count": 18,
   "metadata": {
    "collapsed": false
   },
   "outputs": [
    {
     "name": "stdout",
     "output_type": "stream",
     "text": [
      "Supposing high salt\n",
      "PImBr:\tB1 =        924±        13 \trelative error: 1.43%\n",
      "PImI:\tB1 =     120.32±      0.20 \trelative error: 0.17%\n",
      "PPyrCl:\tB1 =      59.38±      0.12 \trelative error: 0.20%\n",
      "PPyrBr:\tB1 =      1.228±     0.005 \trelative error: 0.40%\n",
      "PPyrI:\tB1 =      1.058±     0.004 \trelative error: 0.38%\n"
     ]
    }
   ],
   "source": [
    "print('Supposing high salt')\n",
    "for name, g in zip(names, (B0**3 / Bs)**(1/2)):\n",
    "    print('{}:\\tB1 = {:10P} \\trelative error: {:0.2f}%'.format(name,g,100*g.s/g.n))"
   ]
  },
  {
   "cell_type": "markdown",
   "metadata": {},
   "source": [
    "Numerical solution"
   ]
  },
  {
   "cell_type": "code",
   "execution_count": 19,
   "metadata": {
    "collapsed": false
   },
   "outputs": [
    {
     "name": "stdout",
     "output_type": "stream",
     "text": [
      "PImBr:\tB =        930±        13 \trelative error: 1.42%\n",
      "PImI:\tB =     126.03±      0.20 \trelative error: 0.16%\n",
      "PPyrCl:\tB =      64.75±      0.12 \trelative error: 0.19%\n",
      "PPyrBr:\tB =      2.834±     0.008 \trelative error: 0.29%\n",
      "PPyrI:\tB =      2.550±     0.007 \trelative error: 0.27%\n"
     ]
    },
    {
     "name": "stderr",
     "output_type": "stream",
     "text": [
      "/home/mathieu/anaconda3/lib/python3.5/site-packages/uncertainties/core.py:1538: ComplexWarning: Casting complex values to real discards the imaginary part\n",
      "  self._nominal_value = float(nominal_value)\n"
     ]
    }
   ],
   "source": [
    "B = np.array([\n",
    "        f(2, 1/(b0**3),0,-1/Bs,-1)\n",
    "        for b0 in B0\n",
    "        ])\n",
    "for name, g in zip(names, B):\n",
    "    print('{}:\\tB = {:10P} \\trelative error: {:0.2f}%'.format(name,g,100*g.s/g.n))"
   ]
  },
  {
   "cell_type": "markdown",
   "metadata": {},
   "source": [
    "For the same quality of solvent $B$ is monotonically related to the amount of counterion condensation. We thus confirm that our samples are sorted by decreasing counterion condensation (decreasing $B$). More quantitatively, the number $A$ of monomers between dissociated charges is\n",
    "$$A = u^{1/2} g_\\mathrm{K}^{1/4} \\left(\\frac{B}{\\tau}\\right)^{3/4}$$\n",
    "where $u = b/\\ell_\\mathrm{B}$, with $\\ell_\\mathrm{B} = 0.7$ nm the Bjerrum length in water and $\\tau = 1-T/\\Theta$ the reduced temperature. \n",
    "\n",
    "We know that $\\Theta>100$°C so $0.2<\\tau<1$. In the following we will deduce a more precise measure of $\\tau$ and thus values of $A$."
   ]
  },
  {
   "cell_type": "code",
   "execution_count": 20,
   "metadata": {
    "collapsed": false
   },
   "outputs": [
    {
     "data": {
      "text/plain": [
       "<matplotlib.text.Text at 0x7fa3770d9f60>"
      ]
     },
     "execution_count": 20,
     "metadata": {},
     "output_type": "execute_result"
    },
    {
     "data": {
      "image/png": "[encoded data removed]",
      "text/plain": [
       "<matplotlib.figure.Figure at 0x7fa377626b70>"
      ]
     },
     "metadata": {},
     "output_type": "display_data"
    }
   ],
   "source": [
    "taus = np.linspace(0.2,1)\n",
    "plt.axhline(gK, color='k', label=r'$g_K$')\n",
    "plt.plot(taus, gK/taus**2, 'k--', label=r'$g_T$')\n",
    "for name, BB in zip(names, B):\n",
    "    plt.plot(taus, (BB.n**3 /gK/taus)**(1/2), label=r'$g_e$ '+name)\n",
    "plt.legend(loc='upper right')\n",
    "plt.yscale('log')\n",
    "plt.xlabel(r'$\\tau$')\n",
    "plt.ylabel('#monomers')"
   ]
  },
  {
   "cell_type": "markdown",
   "metadata": {},
   "source": [
    "We express $g_e$ function of $B$ and $\\tau$:\n",
    "$$g_e = \\left(\\frac{B^3}{g_\\mathrm{K}\\tau}\\right)^{1/2}$$\n",
    "\n",
    "For the theory to be correct, we need the electrostatic length to be larger than the thermal length, in other words\n",
    "$$g_e \\geq g_T \\Leftrightarrow \\tau \\geq \\frac{g_\\mathrm{K}}{B}$$\n",
    "\n",
    "This condition it the most stringent for PPyrI (smallest $B$) and yields:"
   ]
  },
  {
   "cell_type": "code",
   "execution_count": 21,
   "metadata": {
    "collapsed": false
   },
   "outputs": [
    {
     "name": "stdout",
     "output_type": "stream",
     "text": [
      "tau > 0.5883±0.0016\trelative error: 0.27%\tTheta >= 451.0±2.8 °C\n"
     ]
    }
   ],
   "source": [
    "tau = gK/B[-1]\n",
    "print('tau > {:P}\\trelative error: {:0.2f}%\\tTheta >= {:P} °C'.format(tau, 100*tau.s/tau.n, constants.K2C(T/(1-tau))))"
   ]
  },
  {
   "cell_type": "code",
   "execution_count": 22,
   "metadata": {
    "collapsed": false
   },
   "outputs": [
    {
     "name": "stdout",
     "output_type": "stream",
     "text": [
      "PImBr:\tA = 383±4\trelative error: 1.09\n",
      "PImI:\tA = 85.53±0.20\trelative error: 0.23\n",
      "PPyrCl:\tA = 51.90±0.13\trelative error: 0.25\n",
      "PPyrBr:\tA = 4.967±0.015\trelative error: 0.29\n",
      "PPyrI:\tA = 4.588±0.019\trelative error: 0.40\n"
     ]
    }
   ],
   "source": [
    "A = u**(1/2) * gK**(1/4) *(B/tau)**(3/4)\n",
    "for name, g in zip(names, A):\n",
    "    print('{}:\\tA = {:P}\\trelative error: {:0.2f}'.format(name, g, 100*g.s/g.n))"
   ]
  },
  {
   "cell_type": "markdown",
   "metadata": {},
   "source": [
    "## Extention of the electrostatic blobs\n",
    "\n",
    "If we neglect the extension of the self-avoiding walk, appying a strain $\\gamma$ to the material implies stretching the rod to a length $R = (\\gamma+1)N b /B$ and thus exposing more monomers to the solvent. The maximum extention is reached for $R = Nb/g_K$ or $\\gamma+1=B$."
   ]
  },
  {
   "cell_type": "code",
   "execution_count": 23,
   "metadata": {
    "collapsed": false
   },
   "outputs": [
    {
     "data": {
      "text/plain": [
       "array([ True,  True,  True,  True,  True], dtype=bool)"
      ]
     },
     "execution_count": 23,
     "metadata": {},
     "output_type": "execute_result"
    }
   ],
   "source": [
    "gamma_c+1 < B"
   ]
  },
  {
   "cell_type": "markdown",
   "metadata": {},
   "source": [
    "The fully extended self-avoiding walk is a cylinder of length $R_0 = Nb/B$, of diameter $D$, of volume $V = R_0 D^2$ and of area $\\Sigma_0 = R_0 D = (R_0 V)^{1/2}$. Extending the cylinder to $R$ while keeping the volume $V$ constant thus creates an extra area \n",
    "$$\\Delta\\Sigma = \\left(\\left(\\gamma +1\\right)^{1/2} -1\\right) \\frac{N b}{g_\\mathrm{K} B}D$$\n",
    "that translates into a stretching energy due to the surface tension $k_\\mathrm{B}T/\\xi_T^2$:\n",
    "$$\\frac{E}{k_\\mathrm{B}T} = \\left(\\left(\\gamma +1\\right)^{1/2} -1\\right) \\frac{N b}{g_\\mathrm{K} B\\xi_T^2}D = \\left(\\left(\\gamma +1\\right)^{1/2} -1\\right) N \\left(\\frac{\\tau^3}{g_\\mathrm{K}^5B}\\right)^{1/2} $$"
   ]
  },
  {
   "cell_type": "markdown",
   "metadata": {},
   "source": [
    "If we consider that the head-to-body bonds break at $\\gamma_c$, we can extract it energy $E_c$ from the above equation:"
   ]
  },
  {
   "cell_type": "code",
   "execution_count": 24,
   "metadata": {
    "collapsed": false
   },
   "outputs": [
    {
     "name": "stdout",
     "output_type": "stream",
     "text": [
      "PImBr:\tEc = 122±31 kT = (3.0±0.8)×10² kJ/mol \trelative error: 25.39\n",
      "PImI:\tEc = 47±12 kT = 116±30 kJ/mol \trelative error: 25.38\n",
      "PPyrCl:\tEc = 27±7 kT = 67±17 kJ/mol \trelative error: 25.38\n",
      "PPyrBr:\tEc = 2.9±0.7 kT = 7.3±1.9 kJ/mol \trelative error: 25.38\n",
      "PPyrI:\tEc = 2.9±0.7 kT = 7.2±1.8 kJ/mol \trelative error: 25.38\n"
     ]
    }
   ],
   "source": [
    "Ec = ((1+gamma_c[-1])**(1/2) -1) * (n*N0) * (tau**3/gK**5/B)**(1/2)\n",
    "for name, g in zip(names, Ec):\n",
    "    print('{}:\\tEc = {:P} kT = {:P} kJ/mol \\trelative error: {:0.2f}'.format(\n",
    "            name, g, \n",
    "            g * constants.k * T * constants.N_A / 1000, \n",
    "            100*g.s/g.n))"
   ]
  },
  {
   "cell_type": "code",
   "execution_count": 25,
   "metadata": {
    "collapsed": false
   },
   "outputs": [
    {
     "data": {
      "text/plain": [
       "0.8686627381206533+/-0.2205530119409547"
      ]
     },
     "execution_count": 25,
     "metadata": {},
     "output_type": "execute_result"
    }
   ],
   "source": [
    "Ec[0]/140"
   ]
  },
  {
   "cell_type": "markdown",
   "metadata": {},
   "source": [
    "In the most dissociated PPyrI and PPyrBr, the head-to-body bonding energy $E_c$ is within the range of typical ionic bonds, $5\\pm 1$ kJ/mol in water\\cite{Schneider1992}. However the bonding energy increases with increasing counterion condensation to reach 85% of the carbon-carbon single bond (350 kJ/mol or $140 k_\\mathrm{B}T$) in the case of PImBr. Indeed, at high counterion condensation, the electrostatic blobs are large, up to 530 polymers for PImBr, and embed head-to-body bonds into compact blobs of low water content. Such a low polarity microenvironement is well known to enhance otherwise weak electrostatic interactions in protein folding or engineered self-assembly\\cite{Rehm2010}."
   ]
  },
  {
   "cell_type": "code",
   "execution_count": 27,
   "metadata": {
    "collapsed": false
   },
   "outputs": [
    {
     "name": "stdout",
     "output_type": "stream",
     "text": [
      "PImBr:\tge/N0 =        528±        11 \trelative error: 2.14%\n",
      "PImI:\tge/N0 =      26.35±      0.07 \trelative error: 0.27%\n",
      "PPyrCl:\tge/N0 =      9.704±     0.030 \trelative error: 0.31%\n",
      "PPyrBr:\tge/N0 =     0.0889±    0.0004 \trelative error: 0.45%\n",
      "PPyrI:\tge/N0 =     0.0758±    0.0004 \trelative error: 0.54%\n"
     ]
    }
   ],
   "source": [
    "for name, g in zip(names, (B**3/tau)**(1/2) / N0):\n",
    "    print('{}:\\tge/N0 = {:10P} \\trelative error: {:0.2f}%'.format(name,g,100*g.s/g.n))"
   ]
  },
  {
   "cell_type": "markdown",
   "metadata": {},
   "source": [
    "Quantitatively, the bonding energy of an ionic bond is inversely proportional to the relative dielectric constant $\\epsilon_r$, therefore we need to suppose a local $\\epsilon_r$ around 2 (typical of water-insoluble polymers) instead of 80 for water to recover the large bonding energy that we measure."
   ]
  },
  {
   "cell_type": "code",
   "execution_count": 26,
   "metadata": {
    "collapsed": false
   },
   "outputs": [
    {
     "data": {
      "text/plain": [
       "1.9187954340239923+/-0.014600142515576047"
      ]
     },
     "execution_count": 26,
     "metadata": {},
     "output_type": "execute_result"
    }
   ],
   "source": [
    "80*Ec[-1]/Ec[0]"
   ]
  },
  {
   "cell_type": "markdown",
   "metadata": {},
   "source": [
    "If we consider that the head-to-body bonds break at $\\gamma_c$, we can express the reduced temperature as\n",
    "$$\\tau = B^{1/3} g_\\mathrm{K}^{5/3} \\left(\\frac{1}{(\\gamma_c +1)^{1/2} -1}\\frac{E_c}{N k_\\mathrm{B}T}\\right)^{2/3}$$\n",
    "where $E_c$ is the energy of the head-to-body bond.\n",
    "\n",
    "The head-to-body bond consists in two ionic bonds, each typically $5\\pm 1$ kJ/mol in water\\cite{Schneider1992}, thus $E_c\\approx 4 k_\\mathrm{B}T$. However the medium surrounding the ionic bond is not water. One has to keep in mind that the chain is in bad solvent, thus forming locally compact blobs of low water content. Such a low polarity microenvironement is well known to enhance otherwise weak electrostatic interactions in protein folding or engineered self-assembly\\cite{Rehm2010}. We thus expect stronger head-to-body bonds when $B$ is large and the low-polarity environement is extended. A contrario, the weakest ionic links, closest to their strength in water, should be found in \\ce{PPyr+I-} where $B$ is minimum."
   ]
  },
  {
   "cell_type": "code",
   "execution_count": 39,
   "metadata": {
    "collapsed": false
   },
   "outputs": [
    {
     "name": "stdout",
     "output_type": "stream",
     "text": [
      "bonding energy 4.0±0.8 kT\n",
      "tau = 0.38±0.08\trelative error: 21.54%\tTheta >= (2.0±0.6)×10² °C\n"
     ]
    }
   ],
   "source": [
    "Ec0 = uncertainties.ufloat(5e3,1e3)*2 / (constants.N_A* constants.k * T)\n",
    "print('bonding energy {:P} kT'.format(Ec0))\n",
    "tau = B[-1]**(1/3) * (Ec0 / (n[-1] * N0 * ((1+gamma_c[-1])**(1/2) -1)))**(2/3)\n",
    "print('tau = {:P}\\trelative error: {:0.2f}%\\tTheta >= {:P} °C'.format(\n",
    "        tau,\n",
    "        100*tau.s/tau.n, \n",
    "        constants.K2C(T/(1-tau))\n",
    "    ))"
   ]
  },
  {
   "cell_type": "code",
   "execution_count": 28,
   "metadata": {
    "collapsed": false
   },
   "outputs": [
    {
     "data": {
      "text/plain": [
       "array([0.009335381129999062+/-0.0013551077945435537,\n",
       "       0.14400579771823324+/-0.022683525208048057,\n",
       "       0.27476054149476337+/-0.22459030227892934,\n",
       "       3.917323397820418+/-2.199577049425317,\n",
       "       0.37544688920478675+/-0.08087489882783791], dtype=object)"
      ]
     },
     "execution_count": 28,
     "metadata": {},
     "output_type": "execute_result"
    }
   ],
   "source": [
    "B**(1/3) * (Ec0 / (n * N0 * ((1+gamma_c)**(1/2) -1)))**(2/3)"
   ]
  },
  {
   "cell_type": "markdown",
   "metadata": {},
   "source": [
    "Using this value of $\\tau$ for both PPyr+X- and PIm+X-, we can estimate the binding energies:"
   ]
  },
  {
   "cell_type": "code",
   "execution_count": 40,
   "metadata": {
    "collapsed": false
   },
   "outputs": [
    {
     "name": "stdout",
     "output_type": "stream",
     "text": [
      "PImBr:\tE_c =   1.03×10³±  0.34×10³ kT =       2550±       853 kJ/mol \trelative error: 33.44%\n",
      "PImI:\tE_c =       17.0±       5.9 kT =      42.10±     14.60 kJ/mol \trelative error: 34.67%\n",
      "PPyrCl:\tE_c =       6.44±      8.07 kT =      15.97±     20.00 kJ/mol \trelative error: 125.21%\n",
      "PPyrBr:\tE_c =      0.120±     0.105 kT =     0.2967±    0.2610 kJ/mol \trelative error: 87.97%\n",
      "PPyrI:\tE_c =       4.03±      0.81 kT =      10.00±      2.00 kJ/mol \trelative error: 20.00%\n"
     ]
    }
   ],
   "source": [
    "Ec = ((gamma_c+1)**(1/2) -1) * n*N0 * (tau**3 / B)**(1/2)\n",
    "for name, g in zip(names, Ec):\n",
    "    print('{}:\\tE_c = {:10.3P} kT = {:10.4P} kJ/mol \\trelative error: {:0.2f}%'.format(\n",
    "            name, g, \n",
    "            g * constants.k * T * constants.N_A / 1000,\n",
    "            100*g.s/g.n))"
   ]
  },
  {
   "cell_type": "markdown",
   "metadata": {},
   "source": [
    "The estimated binding energy for PIm+Br- reaches unphysical values, larger than the carbon-carbon single bond (350 kJ/mol or $140 k_\\mathrm{B}T$). We may suppose a smaller $\\tau$ for the Immidazolium-based polymer."
   ]
  },
  {
   "cell_type": "code",
   "execution_count": 60,
   "metadata": {
    "collapsed": false
   },
   "outputs": [
    {
     "name": "stdout",
     "output_type": "stream",
     "text": [
      "PImBr:\tE_c =        518±        30 kT =   1.28×10³±  0.07×10³ kJ/mol \trelative error: 5.78%\n",
      "PImI:\tE_c =       72.2±       0.7 kT =        179±         2 kJ/mol \trelative error: 1.02%\n"
     ]
    }
   ],
   "source": [
    "for name, g in zip(names, n[:2]*N0 * ((gamma_c[:2]+1) * 0.2**3 / B[:2])**(1/2)):\n",
    "    print('{}:\\tE_c = {:10.3P} kT = {:10.3P} kJ/mol \\trelative error: {:0.2f}%'.format(\n",
    "            name, g, \n",
    "            g * constants.k * T * constants.N_A / 1000,\n",
    "            100*g.s/g.n))"
   ]
  },
  {
   "cell_type": "code",
   "execution_count": 38,
   "metadata": {
    "collapsed": false
   },
   "outputs": [
    {
     "data": {
      "text/plain": [
       "0.6528872329700697+/-0.3665961749042195"
      ]
     },
     "execution_count": 38,
     "metadata": {},
     "output_type": "execute_result"
    }
   ],
   "source": [
    "tau/6"
   ]
  },
  {
   "cell_type": "markdown",
   "metadata": {},
   "source": [
    "Following~\\cite{Rubinstein1996}, the stretching energy per chain in this situation is \n",
    "$$E = \\left(\\frac{\\tau^3 N R}{b}\\right)^{1/2} k_\\mathrm{B}T = N \\left(\\gamma+1\\right)^{1/2} \\left(\\frac{\\tau^3}{B}\\right)^{1/2} k_\\mathrm{B}T$$"
   ]
  },
  {
   "cell_type": "code",
   "execution_count": 37,
   "metadata": {
    "collapsed": false
   },
   "outputs": [
    {
     "data": {
      "image/png": "[encoded data removed]",
      "text/plain": [
       "<matplotlib.figure.Figure at 0x7f13cbfe5198>"
      ]
     },
     "metadata": {},
     "output_type": "display_data"
    }
   ],
   "source": [
    "plt.plot(unp.nominal_values(gamma_c), unp.nominal_values(gamma_c)**(1/2))\n",
    "plt.plot(unp.nominal_values(gamma_c), (unp.nominal_values(gamma_c)+1)**(1/2))\n",
    "plt.plot(unp.nominal_values(gamma_c), ((unp.nominal_values(gamma_c)+1)**(1/2)-1))\n",
    "plt.xscale('log')\n",
    "plt.yscale('log')"
   ]
  },
  {
   "cell_type": "code",
   "execution_count": 35,
   "metadata": {
    "collapsed": false
   },
   "outputs": [
    {
     "data": {
      "text/plain": [
       "array([8.075072235534678+/-1.04,\n",
       "       0.18393114763349883+/-0.024114999999999998,\n",
       "       0.12163803396853635+/-0.151365, 0.022118085666993317+/-0.018195,\n",
       "       0.8905000127636182+/-0.26165499999999997], dtype=object)"
      ]
     },
     "execution_count": 35,
     "metadata": {},
     "output_type": "execute_result"
    }
   ],
   "source": [
    "gamma_c"
   ]
  },
  {
   "cell_type": "markdown",
   "metadata": {},
   "source": []
  },
  {
   "cell_type": "code",
   "execution_count": 26,
   "metadata": {
    "collapsed": false
   },
   "outputs": [
    {
     "data": {
      "text/plain": [
       "array([0.020397825925979385+/-0.004102861739467453,\n",
       "       0.05454264360839778+/-0.01105346164057521,\n",
       "       0.0973847339860594+/-0.01992968691261828,\n",
       "       1.1806421614028326+/-0.28160136368210675,\n",
       "       1.1969141987652936+/-0.2859082832791645], dtype=object)"
      ]
     },
     "execution_count": 26,
     "metadata": {},
     "output_type": "execute_result"
    }
   ],
   "source": [
    "Ec0 = uncertainties.ufloat(5e3,1e3) / (constants.N_A* constants.k * T)\n",
    "(Ec0/(n*N0) * (B/0.2**3)**(1/2) + 1)**2 -1"
   ]
  },
  {
   "cell_type": "code",
   "execution_count": 46,
   "metadata": {
    "collapsed": false
   },
   "outputs": [
    {
     "data": {
      "image/png": "[encoded data removed]",
      "text/plain": [
       "<matplotlib.figure.Figure at 0x7f1a7e56fac8>"
      ]
     },
     "metadata": {},
     "output_type": "display_data"
    }
   ],
   "source": [
    "plt.figure(figsize=(10,6))\n",
    "for i,(a,name, gc0, gc,gth) in enumerate(zip(sweeps,names, gamma_c0, gamma_c, (Ec0/(n*N0) * (B/0.2**3)**(1/2) + 1)**2 -1)):\n",
    "    plt.subplot(2,3,2+i)\n",
    "    plt.title(name)\n",
    "    plt.axvspan(gc0.n,gc.n, color=(0.9,0.9,0.9), zorder=-1)\n",
    "    plt.axhline(a[0,1],color=[0.5]*3)\n",
    "    plt.axvline(gth.n,color=[0.5]*3)\n",
    "    plt.scatter(a[:,0], a[:,1], facecolors='k')\n",
    "    plt.scatter(a[:,0], a[:,2], edgecolors='k', facecolors='none')\n",
    "    plt.plot(a[:,0], a[np.argmax(a[:,1]),2] + 0.25*(a[:,1].max() - a[:,1]))\n",
    "    plt.xscale('log')\n",
    "    plt.yscale('log')\n",
    "    plt.xlim(1e-3,1e2)\n",
    "    plt.ylim(1e-1,3e4)\n",
    "    plt.xlabel(r'$\\gamma$')\n",
    "    plt.ylabel(r'$G^\\prime,\\, G^{\\prime\\prime}$')\n",
    "plt.tight_layout()"
   ]
  },
  {
   "cell_type": "code",
   "execution_count": 20,
   "metadata": {
    "collapsed": false
   },
   "outputs": [
    {
     "data": {
      "text/plain": [
       "2.3778308299094353"
      ]
     },
     "execution_count": 20,
     "metadata": {},
     "output_type": "execute_result"
    }
   ],
   "source": [
    "(11/3)**(2/3)"
   ]
  },
  {
   "cell_type": "markdown",
   "metadata": {},
   "source": [
    "## Case of PPyrI\n",
    "\n",
    "Heavily charged PPyrI has a single chain between crosslinks. A single 70 units chain is probably shorter than the screening length $r_\\mathrm{src}$, so at rest the polyelectroylte is a rod of length $L = N_0 b / B$ where $b\\approx 0.26$ nm is the monomer size and $B$ is the extension parameter. The rod is itself made of electrostatic blobs whoes size $D$ is set by the balance between short range attraction between monomers due to poor solvent quality and the electrostatic repulsion.\n",
    "\n",
    "Following~\\cite{Rubinstein1996}, in low salt conditions we have \n",
    "$$r_\\mathrm{scr} = \\left(\\frac{B}{cb}\\right)$$\n",
    "\n",
    "Thus the condition $r_\\mathrm{scr} \\geq L$ translates to\n",
    "$$B \\geq b c^{1/3} N_0^{2/3}$$"
   ]
  },
  {
   "cell_type": "code",
   "execution_count": 131,
   "metadata": {
    "collapsed": false
   },
   "outputs": [
    {
     "name": "stdout",
     "output_type": "stream",
     "text": [
      "B >= 2.41\n"
     ]
    }
   ],
   "source": [
    "print('B >= {:0.2f}'.format(b * c[-1]**(1/3) * N0**(2/3)))"
   ]
  },
  {
   "cell_type": "markdown",
   "metadata": {},
   "source": [
    "Appying a strain $\\gamma$ to the material implies stretching chains to a length $R = (\\gamma+1)N_0 b /B$ and thus exposing more monomers to the solvent. Following~\\cite{Rubinstein1996}, the stretching energy per chain in this situation is \n",
    "$$E = \\left(\\frac{\\tau^3 N R}{b}\\right)^{1/2} k_\\mathrm{B}T = N \\left(\\gamma+1\\right)^{1/2} \\left(\\frac{\\tau^3}{B}\\right)^{1/2} k_\\mathrm{B}T$$\n",
    "where $\\tau = 1 - T/\\Theta$ is the reduced temperature."
   ]
  },
  {
   "cell_type": "markdown",
   "metadata": {},
   "source": [
    "The head-to-body bond consists in two ionic bonds, each typically $5 k_\\mathrm{B}T$. If we consider that they break around $\\gamma_c$, we can write\n",
    "$$\\tau = \\left(B\\left(\\gamma_c+1\\right)\\right)^{1/3} \\left(\\frac{E}{N k_\\mathrm{B}T}\\right)^{2/3}$$"
   ]
  },
  {
   "cell_type": "code",
   "execution_count": 132,
   "metadata": {
    "collapsed": false
   },
   "outputs": [
    {
     "name": "stdout",
     "output_type": "stream",
     "text": [
      "tau >= 0.429±0.020\trelative error: 4.62%\tTheta >= 249±18 °C\n"
     ]
    }
   ],
   "source": [
    "tau = (2.41*(1+gamma_c[-1]))**(1/3) * (10 / (n[-1]*N0))**(2/3)\n",
    "print('tau >= {:P}\\trelative error: {:0.2f}%\\tTheta >= {:P} °C'.format(\n",
    "        tau,\n",
    "        100*tau.s/tau.n, \n",
    "        constants.K2C(T/(1-tau))\n",
    "    ))"
   ]
  },
  {
   "cell_type": "code",
   "execution_count": 137,
   "metadata": {
    "collapsed": false
   },
   "outputs": [
    {
     "name": "stdout",
     "output_type": "stream",
     "text": [
      "Maximum extension is B = 2.41 > 1+gamma_c = 1.89±0.26\n"
     ]
    }
   ],
   "source": [
    "print('Maximum extension is B = {} > 1+gamma_c = {:P}'.format(2.41, 1+gamma_c[-1]))"
   ]
  },
  {
   "cell_type": "markdown",
   "metadata": {},
   "source": [
    "There is a charge every A monomers."
   ]
  },
  {
   "cell_type": "code",
   "execution_count": 134,
   "metadata": {
    "collapsed": false
   },
   "outputs": [
    {
     "name": "stdout",
     "output_type": "stream",
     "text": [
      "with B = 2.41, A = 5.98±0.21\n"
     ]
    }
   ],
   "source": [
    "print('with B = {:0.2f}, A = {:P}'.format(2.41, u**(1/2) * (2.41/tau)**(3/4)))"
   ]
  },
  {
   "cell_type": "markdown",
   "metadata": {},
   "source": [
    "### Estimation of extension parameter $B$\n",
    "\n",
    "In abscence of salt, the screening length and the correlation lengths are equal. Above this length, the polyelectrolyte makes a random walk composed of linear blobs containing $g_\\mathrm{src}$ monomer.\n",
    "\n",
    "$$g_\\mathrm{src} = g_e \\frac{r_\\mathrm{src}}{D} = \\left(\\frac{B^3}{cb^3}\\right)^{1/2}$$.\n",
    "\n",
    "The exit from the linear domain of the material corresponds to the full extension of the persistent random walk:\n",
    "$$\\gamma_0 = \\frac{R_0}{R} - 1,$$\n",
    "with\n",
    "$$\\left. \\begin{array}{ll}\n",
    "R &= r_\\mathrm{scr} \\left(\\frac{N}{g_\\mathrm{scr}}\\right)^{1/2}\\\\\n",
    "R_0 &= r_\\mathrm{scr} \\frac{N}{g_\\mathrm{scr}}\n",
    "\\end{array}\\right\\rbrace\\quad\n",
    "\\gamma_0 = \\left(\\frac{N}{g_\\mathrm{scr}}\\right)^{1/2} -1\n",
    "$$\n",
    "\n",
    "Finally\n",
    "$$B = \\left(b^3 c \\frac{N^2}{(\\gamma_0+1)^4}\\right)^{1/3} = bc \\left(\\frac{k_\\mathrm{B}T}{G\\left(\\gamma_0+1\\right)^2}\\right)^{2/3}$$"
   ]
  },
  {
   "cell_type": "code",
   "execution_count": 139,
   "metadata": {
    "collapsed": false
   },
   "outputs": [
    {
     "name": "stdout",
     "output_type": "stream",
     "text": [
      "PImBr:\tB =      228.7±       2.2 \trelative error: 0.97%\n",
      "PImI:\tB =      58.23±      0.17 \trelative error: 0.28%\n",
      "PPyrCl:\tB =      35.87±      0.16 \trelative error: 0.43%\n",
      "PPyrBr:\tB =      2.793±     0.008 \trelative error: 0.27%\n",
      "PPyrI:\tB =      2.537±     0.006 \trelative error: 0.25%\n"
     ]
    }
   ],
   "source": [
    "B = b * c * (constants.k * T / G / (gamma_c0+1)**2)**(2/3)\n",
    "for name, g in zip(names, B):\n",
    "    print('{}:\\tB = {:10P} \\trelative error: {:0.2f}%'.format(name,g,100*g.s/g.n))"
   ]
  },
  {
   "cell_type": "markdown",
   "metadata": {},
   "source": [
    "If head-to-body bonds break within the linear regime of the chain, the bonding energy can be deduced from the critical strain:\n",
    "$$\\frac{E_c}{k_\\mathrm{B}T} = \\gamma_c^2$$"
   ]
  },
  {
   "cell_type": "code",
   "execution_count": 10,
   "metadata": {
    "collapsed": false
   },
   "outputs": [
    {
     "name": "stdout",
     "output_type": "stream",
     "text": [
      "PImBr:\tE_c =         81±        19 kT =        202±        47 kJ/mol \trelative error: 23.06%\n",
      "PImI:\tE_c =      0.032±     0.009 kT =     0.0802±    0.0215 kJ/mol \trelative error: 26.81%\n",
      "PPyrCl:\tE_c =       0.03±      0.05 kT =      0.082±     0.136 kJ/mol \trelative error: 166.64%\n",
      "PPyrBr:\tE_c =     0.0009±    0.0011 kT =    0.00214±   0.00265 kJ/mol \trelative error: 123.76%\n",
      "PPyrI:\tE_c =     0.0020±    0.0004 kT =    0.00488±   0.00111 kJ/mol \trelative error: 22.66%\n"
     ]
    }
   ],
   "source": [
    "for name, g in zip(names, gamma_c**2):\n",
    "    print('{}:\\tE_c = {:10P} kT = {:10.3P} kJ/mol \\trelative error: {:0.2f}%'.format(\n",
    "            name, g, \n",
    "            g * constants.k * T * constants.N_A / 1000,\n",
    "            100*g.s/g.n))"
   ]
  },
  {
   "cell_type": "markdown",
   "metadata": {},
   "source": [
    "Only PImBr has $E_c>k_\\mathrm{B}T$."
   ]
  },
  {
   "cell_type": "markdown",
   "metadata": {},
   "source": [
    "### Estimation of extension parameter $B$\n",
    "\n",
    "In abscence of salt, the screening length is\n",
    "$$r_\\mathrm{scr} = \\left(\\frac{B}{cb}\\right)^{1/2}$$\n",
    "where $b\\approx 0.26$ nm is the monomer size and $B$ is the extension parameter\n",
    "$$B = \\frac{b g_e}{D} = \\frac{b g_\\mathrm{src}}{r_\\mathrm{src}}$$\n",
    "describes the electrostatic blob of diameter $D$ containing $g_e$ monomers. Between $D$ and $r_\\mathrm{scr}$ the polyelectrolyte is a linear assembly of electrostatic blobs, thus\n",
    "$$g_\\mathrm{src} = g_e \\frac{r_\\mathrm{src}}{D} = \\left(\\frac{B^3}{cb^3}\\right)^{1/2}$$.\n",
    "\n",
    "The exit from the linear domain of the material corresponds to the full extension of the persistent random walk:\n",
    "$$\\gamma_c = \\frac{R_0}{R} - 1,$$\n",
    "with\n",
    "$$\\left. \\begin{array}{ll}\n",
    "R &= r_\\mathrm{scr} \\left(\\frac{N}{g_\\mathrm{scr}}\\right)^{1/2}\\\\\n",
    "R_0 &= r_\\mathrm{scr} \\frac{N}{g_\\mathrm{scr}}\n",
    "\\end{array}\\right\\rbrace\\quad\n",
    "\\gamma_c = \\left(\\frac{N}{g_\\mathrm{scr}}\\right)^{1/2} -1\n",
    "$$\n",
    "\n",
    "Finally\n",
    "$$B = \\left(b^3 c \\frac{N^2}{(\\gamma_c+1)^4}\\right)^{1/3} = bc \\left(\\frac{k_\\mathrm{B}T}{G\\left(\\gamma_c+1\\right)^2}\\right)^{2/3}$$"
   ]
  },
  {
   "cell_type": "markdown",
   "metadata": {},
   "source": [
    "#### Narrow linear regime\n",
    "For $\\gamma_c \\ll 1$ the extension parameter is almost independent of $\\gamma_c$. At 0th order\n",
    "$$B \\approx bc \\left(\\frac{k_\\mathrm{B}T}{G}\\right)^{2/3}$$"
   ]
  },
  {
   "cell_type": "code",
   "execution_count": 11,
   "metadata": {
    "collapsed": false
   },
   "outputs": [
    {
     "name": "stdout",
     "output_type": "stream",
     "text": [
      "PImBr:\tB =      232.1±       2.2 \trelative error: 0.95%\n",
      "PImI:\tB =      59.62±      0.07 \trelative error: 0.11%\n",
      "PPyrCl:\tB =      37.23±      0.05 \trelative error: 0.13%\n",
      "PPyrBr:\tB =      2.806±     0.008 \trelative error: 0.27%\n",
      "PPyrI:\tB =      2.541±     0.006 \trelative error: 0.25%\n"
     ]
    }
   ],
   "source": [
    "B0 = b * c * (constants.k * T / G)**(2/3)\n",
    "for name, g in zip(names, B0):\n",
    "    print('{}:\\tB = {:10P} \\trelative error: {:0.2f}%'.format(name,g,100*g.s/g.n))"
   ]
  },
  {
   "cell_type": "markdown",
   "metadata": {},
   "source": [
    "Full calculation would be necessary for PImBr, but we set it aside because head-to-body link broke before full extension of the persistent random walk"
   ]
  },
  {
   "cell_type": "code",
   "execution_count": 10,
   "metadata": {
    "collapsed": false
   },
   "outputs": [
    {
     "name": "stdout",
     "output_type": "stream",
     "text": [
      "PImBr:\tB =       10.7±       1.5 \trelative error: 13.87%\n",
      "PImI:\tB =       47.8±       1.3 \trelative error: 2.73%\n",
      "PPyrCl:\tB =         30±         5 \trelative error: 17.08%\n",
      "PPyrBr:\tB =       2.70±      0.06 \trelative error: 2.37%\n",
      "PPyrI:\tB =      2.398±     0.017 \trelative error: 0.69%\n"
     ]
    }
   ],
   "source": [
    "b = 0.26e-9\n",
    "B = b * c * (constants.k * T / G / (gamma_c+1)**2)**(2/3)\n",
    "for name, g in zip(names, B):\n",
    "    print('{}:\\tB = {:10P} \\trelative error: {:0.2f}%'.format(name,g,100*g.s/g.n))"
   ]
  },
  {
   "cell_type": "markdown",
   "metadata": {},
   "source": [
    "Conversly, \n",
    "$$\\gamma_c = \\left(\\frac{N^2 c b^3}{B^3}\\right)^{1/4} -1 = \\left(\\frac{k_\\mathrm{B}T}{G}\\right)^{1/2}\\left(\\frac{cb}{B}\\right)^{3/4} -1$$\n",
    "\n",
    "We know that PImBr has even less charges than than PImI, so we assume a $B$ at least equal in PImBr with respect to PImI\n",
    "$$\\gamma_c(\\mathrm{PImBr}) < \\left(\\frac{k_\\mathrm{B}T}{G(\\mathrm{PImBr})}\\right)^{1/2}\\left(\\frac{c(\\mathrm{PImBr})b}{B(\\mathrm{PImI})}\\right)^{3/4} -1$$"
   ]
  },
  {
   "cell_type": "code",
   "execution_count": 11,
   "metadata": {
    "collapsed": false
   },
   "outputs": [
    {
     "name": "stdout",
     "output_type": "stream",
     "text": [
      "gamma_c_max = 2.27±0.07\trelative error:  3.12%\n",
      "but gamma_c = 9.0±1.0\n"
     ]
    }
   ],
   "source": [
    "g = (constants.k * T / G[0])**(1/2) * (c[0] * b / B[1])**(3/4)-1\n",
    "print('gamma_c_max = {:P}\\trelative error:  {:0.2f}%'.format(g,100*g.s/g.n))\n",
    "print('but gamma_c = {:P}'.format(gamma_c[0]))"
   ]
  },
  {
   "cell_type": "markdown",
   "metadata": {},
   "source": [
    "Therefore PImBr has a linear regime much larger than what we expect."
   ]
  },
  {
   "cell_type": "markdown",
   "metadata": {},
   "source": [
    "### Estimation of the charge density\n",
    "\n",
    "From the extension parameter $B$ and provided an assumption on the $\\Theta$-temperature, we can deduce the number $A$ of monomers between dissociated charges. If $A=1$, there is no counterion condensation and the polyelectrolyte is fully charged.\n",
    "$$B = \\left(\\frac{A^2}{u}\\right)^{2/3}\\tau \\Leftrightarrow A = u^{1/2} \\left(\\frac{B}{\\tau}\\right)^{3/4}$$\n",
    "where $u = b/\\ell_\\mathrm{B}$, with $\\ell_\\mathrm{B} = 0.7$ nm the Bjerrum length in water and $\\tau = 1-T/\\Theta$ the reduced temperature. We know that $\\Theta>100$C so $0.2<\\tau<1$."
   ]
  },
  {
   "cell_type": "code",
   "execution_count": 58,
   "metadata": {
    "collapsed": false
   },
   "outputs": [
    {
     "ename": "NameError",
     "evalue": "name 'B' is not defined",
     "output_type": "error",
     "traceback": [
      "\u001b[1;31m---------------------------------------------------------------------------\u001b[0m",
      "\u001b[1;31mNameError\u001b[0m                                 Traceback (most recent call last)",
      "\u001b[1;32m<ipython-input-58-fbdcdfc4a745>\u001b[0m in \u001b[0;36m<module>\u001b[1;34m()\u001b[0m\n\u001b[0;32m      2\u001b[0m \u001b[0mu\u001b[0m \u001b[1;33m=\u001b[0m \u001b[0mlB\u001b[0m\u001b[1;33m/\u001b[0m\u001b[0mb\u001b[0m\u001b[1;33m\u001b[0m\u001b[0m\n\u001b[0;32m      3\u001b[0m \u001b[0mtau\u001b[0m \u001b[1;33m=\u001b[0m \u001b[1;36m0.2\u001b[0m\u001b[1;33m\u001b[0m\u001b[0m\n\u001b[1;32m----> 4\u001b[1;33m \u001b[0mA\u001b[0m \u001b[1;33m=\u001b[0m \u001b[0mu\u001b[0m\u001b[1;33m**\u001b[0m\u001b[1;33m(\u001b[0m\u001b[1;36m1\u001b[0m\u001b[1;33m/\u001b[0m\u001b[1;36m2\u001b[0m\u001b[1;33m)\u001b[0m \u001b[1;33m*\u001b[0m \u001b[1;33m(\u001b[0m\u001b[0mB\u001b[0m\u001b[1;33m/\u001b[0m\u001b[0mtau\u001b[0m\u001b[1;33m)\u001b[0m\u001b[1;33m**\u001b[0m\u001b[1;33m(\u001b[0m\u001b[1;36m3\u001b[0m\u001b[1;33m/\u001b[0m\u001b[1;36m4\u001b[0m\u001b[1;33m)\u001b[0m\u001b[1;33m\u001b[0m\u001b[0m\n\u001b[0m\u001b[0;32m      5\u001b[0m \u001b[1;32mfor\u001b[0m \u001b[0mname\u001b[0m\u001b[1;33m,\u001b[0m \u001b[0mg\u001b[0m \u001b[1;32min\u001b[0m \u001b[0mzip\u001b[0m\u001b[1;33m(\u001b[0m\u001b[0mnames\u001b[0m\u001b[1;33m,\u001b[0m \u001b[0mA\u001b[0m\u001b[1;33m)\u001b[0m\u001b[1;33m:\u001b[0m\u001b[1;33m\u001b[0m\u001b[0m\n\u001b[0;32m      6\u001b[0m     \u001b[0mprint\u001b[0m\u001b[1;33m(\u001b[0m\u001b[1;34m'{}:\\tA = {:10P} \\trelative error: {:0.2f}%'\u001b[0m\u001b[1;33m.\u001b[0m\u001b[0mformat\u001b[0m\u001b[1;33m(\u001b[0m\u001b[0mname\u001b[0m\u001b[1;33m,\u001b[0m\u001b[0mg\u001b[0m\u001b[1;33m,\u001b[0m\u001b[1;36m100\u001b[0m\u001b[1;33m*\u001b[0m\u001b[0mg\u001b[0m\u001b[1;33m.\u001b[0m\u001b[0ms\u001b[0m\u001b[1;33m/\u001b[0m\u001b[0mg\u001b[0m\u001b[1;33m.\u001b[0m\u001b[0mn\u001b[0m\u001b[1;33m)\u001b[0m\u001b[1;33m)\u001b[0m\u001b[1;33m\u001b[0m\u001b[0m\n",
      "\u001b[1;31mNameError\u001b[0m: name 'B' is not defined"
     ]
    }
   ],
   "source": [
    "lB = 0.7e-9\n",
    "u = lB/b\n",
    "tau = 0.2\n",
    "A = u**(1/2) * (B/tau)**(3/4)\n",
    "for name, g in zip(names, A):\n",
    "    print('{}:\\tA = {:10P} \\trelative error: {:0.2f}%'.format(name,g,100*g.s/g.n))"
   ]
  },
  {
   "cell_type": "markdown",
   "metadata": {},
   "source": [
    "Is it possible to have $A>N_0$?"
   ]
  },
  {
   "cell_type": "markdown",
   "metadata": {},
   "source": [
    "### Lower bound for $\\tau$\n",
    "\n",
    "for the polymer to be soluble, we want at least a charge per polymer, or $A<N_0$ that yields\n",
    "$$\\tau > \\left(\\frac{n u}{N_0}\\right)^{2/3} \\frac{c^{1/3}b}{(\\gamma_c+1)^{4/3}}$$"
   ]
  },
  {
   "cell_type": "code",
   "execution_count": 13,
   "metadata": {
    "collapsed": false
   },
   "outputs": [
    {
     "name": "stdout",
     "output_type": "stream",
     "text": [
      "PImBr:\ttau_max =      0.072±     0.010 \trelative error: 13.87%\n",
      "PImI:\ttau_max =      0.321±     0.009 \trelative error: 2.73%\n",
      "PPyrCl:\ttau_max =      0.200±     0.034 \trelative error: 17.08%\n",
      "PPyrBr:\ttau_max =     0.0181±    0.0004 \trelative error: 2.37%\n",
      "PPyrI:\ttau_max =    0.01608±   0.00011 \trelative error: 0.69%\n"
     ]
    }
   ],
   "source": [
    "for name, g in zip(names, (n*u/N0)**(2/3) * c**(1/3) * b /(gamma_c+1)**(4/3)):\n",
    "    print('{}:\\ttau_max = {:10P} \\trelative error: {:0.2f}%'.format(name,g,100*g.s/g.n))"
   ]
  },
  {
   "cell_type": "code",
   "execution_count": 14,
   "metadata": {
    "collapsed": false
   },
   "outputs": [
    {
     "name": "stdout",
     "output_type": "stream",
     "text": [
      "PImBr:\tA =       22.4±       2.3 \trelative error: 10.40%\n",
      "PImI:\tA =       68.5±       1.4 \trelative error: 2.05%\n",
      "PPyrCl:\tA =         48±         6 \trelative error: 12.81%\n",
      "PPyrBr:\tA =       7.94±      0.14 \trelative error: 1.78%\n",
      "PPyrI:\tA =       7.26±      0.04 \trelative error: 0.52%\n"
     ]
    }
   ],
   "source": [
    "lB = 0.7e-9\n",
    "u = lB/b\n",
    "tau = 0.33\n",
    "A = u**(1/2) * (B/tau)**(3/4)\n",
    "for name, g in zip(names, A):\n",
    "    print('{}:\\tA = {:10P} \\trelative error: {:0.2f}%'.format(name,g,100*g.s/g.n))"
   ]
  },
  {
   "cell_type": "markdown",
   "metadata": {},
   "source": [
    "### Are Phosphonate charges negigible ?\n",
    "\n",
    "In presence of additional salts in concentration $c_s$, the screening length becomes\n",
    "$$r_\\mathrm{scr} = \\left(\\frac{B}{cb}\\right)^{1/2}\\left(1 + B u \\frac{c_s}{c}\\right)^{-1/2}$$\n",
    "\n",
    "So we have to estimate $B u c_s/c$ relative to 1 with $c_s/c = 2/N_0$."
   ]
  },
  {
   "cell_type": "code",
   "execution_count": 62,
   "metadata": {
    "collapsed": false
   },
   "outputs": [
    {
     "name": "stdout",
     "output_type": "stream",
     "text": [
      "PImBr:\t      4.342±     0.020 \trelative error: 0.45%\n",
      "PImI:\t     2.3635±    0.0011 \trelative error: 0.05%\n",
      "PPyrCl:\t     1.9657±    0.0010 \trelative error: 0.05%\n",
      "PPyrBr:\t    1.10265±   0.00026 \trelative error: 0.02%\n",
      "PPyrI:\t    1.09336±   0.00023 \trelative error: 0.02%\n"
     ]
    }
   ],
   "source": [
    "for name, g in zip(names, (1 + B0*u*2/N0)**(1/2)):\n",
    "    print('{}:\\t {:10P} \\trelative error: {:0.2f}%'.format(name,g,100*g.s/g.n))"
   ]
  },
  {
   "cell_type": "markdown",
   "metadata": {},
   "source": [
    "### Estimation of extension parameter $B$\n",
    "\n",
    "When counting the screening from phosphonates, we have to distinguish between the screening length\n",
    "$$r_\\mathrm{scr} = \\left(\\frac{B}{cb}\\right)^{1/2}\\left(1 + 2 B u / N_0 \\right)^{-1/2}$$\n",
    "and the correlation length\n",
    "$$\\xi = \\left(\\frac{B}{cb}\\right)^{1/2}\\left(1 + 2 B u / N_0 \\right)^{1/4}$$\n",
    "where $b\\approx 0.26$ nm is the monomer size and $B$ is the extension parameter\n",
    "$$B = \\frac{b g_e}{D} = \\frac{b g_\\mathrm{src}}{r_\\mathrm{src}}$$\n",
    "that describes the electrostatic blob of diameter $D$ containing $g_e$ monomers. \n",
    "\n",
    "Between $D$ and $r_\\mathrm{scr}$ the polyelectrolyte is a linear assembly of electrostatic blobs, thus\n",
    "$$g_\\mathrm{src} = B \\frac{r_\\mathrm{src}}{b} = \\left(\\frac{B^3}{cb^3}\\right)^{1/2} \\left(1 + 2 B u / N_0 \\right)^{-1/2}$$\n",
    "\n",
    "Between the electrostatic screening length and the correlation length $\\xi$, the polyelectrolyte chain is a self-avoiding walk. Each correlation blob has $g$ ($=c\\xi^3$) monomers in it.\n",
    "$$g = \\left(\\frac{B^3}{c b^3}\\right)^{1/2} \\left(1 + 2 B u / N_0 \\right)^{3/4}$$\n",
    "\n",
    "Beyond the correlation length, the chain statistics are Gaussian. We can thus define a first critical strain corresponding to the full extention of this random walk:\n",
    "$$\\gamma_0 = \\frac{R_0}{R} - 1,$$\n",
    "with\n",
    "$$\\left. \\begin{array}{ll}\n",
    "R &= \\xi \\left(\\frac{N}{g}\\right)^{1/2}\\\\\n",
    "R_0 &= \\xi \\frac{N}{g}\n",
    "\\end{array}\\right\\rbrace\\quad\n",
    "\\gamma_0 = \\left(\\frac{N}{g}\\right)^{1/2} -1\n",
    "$$\n",
    "\n",
    "The exit from the linear domain of the material corresponds to the full extension of the self avoiding walk of $r_\\mathrm{src}$-long rods:\n",
    "$$\\gamma_c = \\frac{R_1}{R} - 1,$$\n",
    "with\n",
    "$$ R_1 = r_\\mathrm{scr} \\frac{N}{g_\\mathrm{scr}} = D \\frac{N}{g_e}$$\n",
    "thus\n",
    "$$\\gamma_c +1 = \\frac{r_\\mathrm{scr}}{\\xi} \\left(\\frac{N g}{g_\\mathrm{scr}^2}\\right)^{1/2} = N^{1/2} \\left(\\frac{c b^3}{B^3}\\right)^{1/4} \\left(1 + 2 B u / N_0 \\right)^{1/8} = \\left(\\frac{k_\\mathrm{B}T}{G}\\right)^{1/2} \\left(\\frac{c b}{B}\\right)^{3/4} \\left(1 + 2 B u / N_0 \\right)^{1/8}$$\n",
    "\n",
    "Finally we can solve for B\n",
    "$$\\frac{\\left(\\gamma_c +1\\right)^8}{c^6 b^6}\\left(\\frac{G}{k_\\mathrm{B}T}\\right)^4 B^6 = 1 + \\frac{2u}{N_0} B$$"
   ]
  },
  {
   "cell_type": "code",
   "execution_count": 16,
   "metadata": {
    "collapsed": false
   },
   "outputs": [
    {
     "data": {
      "text/plain": [
       "12.999999999999998"
      ]
     },
     "execution_count": 16,
     "metadata": {},
     "output_type": "execute_result"
    }
   ],
   "source": [
    "N0/(2*u)"
   ]
  },
  {
   "cell_type": "markdown",
   "metadata": {},
   "source": [
    "If $B\\ll \\frac{N_0}{2u}\\approx 13$ phosphonate charges are negligibles and we recover\n",
    "$$B = c b \\left(\\frac{k_\\mathrm{B}T}{G\\left(\\gamma_c +1\\right)^2}\\right)^{2/3}$$\n",
    "\n",
    "If $B\\gg \\frac{N_0}{2u}\\approx 13$ phosphonate charges are dominant\n",
    "$$B = \\left(cb\\right)^{6/5} \\left(\\frac{2u}{N_0}\\right)^{1/5} \\left(\\frac{k_\\mathrm{B}T}{G\\left(\\gamma_c +1\\right)^2}\\right)^{4/5}$$"
   ]
  },
  {
   "cell_type": "code",
   "execution_count": 17,
   "metadata": {
    "collapsed": false
   },
   "outputs": [
    {
     "name": "stdout",
     "output_type": "stream",
     "text": [
      "PImBr:\tB =       10.3±       1.7 \trelative error: 16.64%\n",
      "PImI:\tB =       62.0±       2.0 \trelative error: 3.27%\n",
      "PPyrCl:\tB =         35±         7 \trelative error: 20.50%\n",
      "PPyrBr:\tB =       1.97±      0.06 \trelative error: 2.85%\n",
      "PPyrI:\tB =      1.710±     0.014 \trelative error: 0.83%\n"
     ]
    }
   ],
   "source": [
    "B2 = (b * c)**(6/5) * (2*u/N0)**(1/5) * (constants.k * T / G / (gamma_c+1)**2)**(4/5)\n",
    "for name, g in zip(names, B2):\n",
    "    print('{}:\\tB = {:10P} \\trelative error: {:0.2f}%'.format(name,g,100*g.s/g.n))"
   ]
  },
  {
   "cell_type": "markdown",
   "metadata": {},
   "source": [
    "In the phosphonate dominated case \n",
    "$$\\gamma_c +1 \\approx \\left(\\frac{k_\\mathrm{B}T}{G}\\right)^{1/2} \\left(c b\\right)^{3/4} \\left(\\frac{2 u}{N_0} \\right)^{1/8} B^{-5/8}$$\n",
    "\n",
    "We know that PImBr has even less charges than than PImI, so we assume a $B$ at least equal in PImBr with respect to PImI\n",
    "$$\\gamma_c(\\mathrm{PImBr}) < \\left(\\frac{k_\\mathrm{B}T}{G(\\mathrm{PImBr})}\\right)^{1/2} \\left(c(\\mathrm{PImBr}) b\\right)^{3/4} \\left(\\frac{2 u}{N_0} \\right)^{1/8} B(\\mathrm{PImI})^{-5/8}-1$$"
   ]
  },
  {
   "cell_type": "code",
   "execution_count": 18,
   "metadata": {
    "collapsed": false
   },
   "outputs": [
    {
     "name": "stdout",
     "output_type": "stream",
     "text": [
      "PImBr:\tgamma_c_max = 9.0±1.0\trelative error:  11.53%\n",
      "PImI:\tgamma_c_max = 2.27±0.07\trelative error:  3.12%\n",
      "PPyrCl:\tgamma_c_max = 3.7±0.6\trelative error:  16.33%\n",
      "PPyrBr:\tgamma_c_max = 27.2±0.5\trelative error:  1.99%\n",
      "PPyrI:\tgamma_c_max = 29.86±0.27\trelative error:  0.91%\n",
      "but gamma_c = 9.0±1.0\n"
     ]
    }
   ],
   "source": [
    "for name, g in zip(names, (constants.k * T / G[0])**(1/2) * (c[0] * b)**(3/4) * (2*u/N0)**(1/8) / B2**(5/8) - 1):\n",
    "    print('{}:\\tgamma_c_max = {:P}\\trelative error:  {:0.2f}%'.format(name,g,100*g.s/g.n))\n",
    "print('but gamma_c = {:P}'.format(gamma_c[0]))"
   ]
  },
  {
   "cell_type": "markdown",
   "metadata": {},
   "source": [
    "Actually solve for $B$"
   ]
  },
  {
   "cell_type": "code",
   "execution_count": 19,
   "metadata": {
    "collapsed": false
   },
   "outputs": [],
   "source": [
    "@uncertainties.wrap\n",
    "def f(n=0, *P):\n",
    "    ''' compute the nth root of the polynomial P and the uncertainty of the root'''\n",
    "    p =  np.array(P)\n",
    "    N = len(p)\n",
    "    \n",
    "    M = np.diag(np.ones((N-2,), p.dtype), -1)\n",
    "    M[0, :] = -p[1:] / p[0]\n",
    "    r = np.linalg.eigvals(M)\n",
    "    r.sort()  # there is no telling what order the values come out in\n",
    "    return r[n]"
   ]
  },
  {
   "cell_type": "code",
   "execution_count": 20,
   "metadata": {
    "collapsed": false
   },
   "outputs": [
    {
     "name": "stdout",
     "output_type": "stream",
     "text": [
      "PImBr:\tB = 12.0±1.8\n",
      "PImI:\tB = 64.4±2.0\n",
      "PPyrCl:\tB = 37±7\n",
      "PPyrBr:\tB = 2.79±0.07\n",
      "PPyrI:\tB = 2.468±0.017\n"
     ]
    },
    {
     "name": "stderr",
     "output_type": "stream",
     "text": [
      "/home/mathieu/anaconda3/lib/python3.5/site-packages/uncertainties/core.py:1538: ComplexWarning: Casting complex values to real discards the imaginary part\n",
      "  self._nominal_value = float(nominal_value)\n"
     ]
    }
   ],
   "source": [
    "B3 = np.array([\n",
    "        f(5, 1,0,0,0,0,-b1**5,-b0**6)\n",
    "        for b0,b1 in zip(B,B2)\n",
    "        ])\n",
    "for name, g in zip(names, B3):\n",
    "    print('{}:\\tB = {:P}'.format(name,g))"
   ]
  },
  {
   "cell_type": "code",
   "execution_count": 21,
   "metadata": {
    "collapsed": false
   },
   "outputs": [
    {
     "name": "stdout",
     "output_type": "stream",
     "text": [
      "PImBr:\tgamma_c_max = 8.1±0.9\trelative error:  10.55%\n",
      "PImI:\tgamma_c_max = 2.20±0.07\trelative error:  3.06%\n",
      "PPyrCl:\tgamma_c_max = 3.5±0.5\trelative error:  15.70%\n",
      "PPyrBr:\tgamma_c_max = 21.7±0.4\trelative error:  1.76%\n",
      "PPyrI:\tgamma_c_max = 23.53±0.21\trelative error:  0.88%\n",
      "but gamma_c = 9.0±1.0\n"
     ]
    }
   ],
   "source": [
    "for name, g in zip(names, (constants.k * T / G[0])**(1/2) * (c[0] * b)**(3/4) * (2*u/N0)**(1/8) / B3**(5/8) - 1):\n",
    "    print('{}:\\tgamma_c_max = {:P}\\trelative error:  {:0.2f}%'.format(name,g,100*g.s/g.n))\n",
    "print('but gamma_c = {:P}'.format(gamma_c[0]))"
   ]
  },
  {
   "cell_type": "markdown",
   "metadata": {},
   "source": [
    "### Some geometry\n",
    "\n",
    "In the case $\\tau=0.33$, how many monomers are contained in an electrostatic blob ?\n",
    "$$g_e = \\left(\\frac{B^3}{\\tau}\\right)^{1/2}$$"
   ]
  },
  {
   "cell_type": "code",
   "execution_count": 57,
   "metadata": {
    "collapsed": false
   },
   "outputs": [
    {
     "name": "stdout",
     "output_type": "stream",
     "text": [
      "PImBr:\tge =  4.493×10⁴± 0.095×10⁴ \trelative error: 2.11%\n",
      "PImI:\tge =       2401±         5 \trelative error: 0.23%\n",
      "PPyrCl:\tge =      931.3±       2.5 \trelative error: 0.26%\n",
      "PPyrBr:\tge =      11.14±      0.05 \trelative error: 0.42%\n",
      "PPyrI:\tge =      9.546±     0.038 \trelative error: 0.39%\n"
     ]
    }
   ],
   "source": [
    "tau=0.2\n",
    "for name, g in zip(names, (B**3/tau)**(1/2)):\n",
    "    print('{}:\\tge = {:10.4P} \\trelative error: {:0.2f}%'.format(name,g,100*g.s/g.n))"
   ]
  },
  {
   "cell_type": "markdown",
   "metadata": {},
   "source": [
    "Or in number of chains per electrostatic blobs"
   ]
  },
  {
   "cell_type": "code",
   "execution_count": 58,
   "metadata": {
    "collapsed": false
   },
   "outputs": [
    {
     "name": "stdout",
     "output_type": "stream",
     "text": [
      "PImBr:\tge/N0 =        642±        14 \trelative error: 2.11%\n",
      "PImI:\tge/N0 =      34.30±      0.08 \trelative error: 0.23%\n",
      "PPyrCl:\tge/N0 =     13.305±     0.035 \trelative error: 0.26%\n",
      "PPyrBr:\tge/N0 =     0.1591±    0.0007 \trelative error: 0.42%\n",
      "PPyrI:\tge/N0 =     0.1364±    0.0005 \trelative error: 0.39%\n"
     ]
    }
   ],
   "source": [
    "for name, g in zip(names, (B**3/tau)**(1/2) / N0):\n",
    "    print('{}:\\tge/N0 = {:10P} \\trelative error: {:0.2f}%'.format(name,g,100*g.s/g.n))"
   ]
  },
  {
   "cell_type": "markdown",
   "metadata": {
    "collapsed": false
   },
   "source": [
    "Number of chains in a rod\n",
    "$$g_\\mathrm{scr} = \\left(\\frac{B^3}{c b^3}\\right)^{1/2} \\left(1 + \\frac{B}{B_s}\\right)^{-1/2}$$\n",
    "does not depend on $\\tau$"
   ]
  },
  {
   "cell_type": "code",
   "execution_count": 59,
   "metadata": {
    "collapsed": false
   },
   "outputs": [
    {
     "name": "stdout",
     "output_type": "stream",
     "text": [
      "PImBr:\tg_scr/N0 =        863±        12 \trelative error: 1.43%\n",
      "PImI:\tg_scr/N0 =     122.59±      0.20 \trelative error: 0.17%\n",
      "PPyrCl:\tg_scr/N0 =      50.58±      0.10 \trelative error: 0.20%\n",
      "PPyrBr:\tg_scr/N0 =      1.154±     0.005 \trelative error: 0.40%\n",
      "PPyrI:\tg_scr/N0 =      1.084±     0.004 \trelative error: 0.38%\n"
     ]
    }
   ],
   "source": [
    "for name, g in zip(names, (B**3/c/b**3)**(1/2) / N0 / (1+B/Bs)**(1/2)):\n",
    "    print('{}:\\tg_scr/N0 = {:10P} \\trelative error: {:0.2f}%'.format(name,g,100*g.s/g.n))"
   ]
  },
  {
   "cell_type": "markdown",
   "metadata": {},
   "source": [
    "Number of electrostatic blobs per rod\n",
    "$$\\frac{g_\\mathrm{src}}{g_e} = \\left(\\frac{\\tau}{c b^3}\\right)^{1/2}\\left(1 + \\frac{B}{B_s}\\right)^{-1/2}$$"
   ]
  },
  {
   "cell_type": "code",
   "execution_count": 60,
   "metadata": {
    "collapsed": false
   },
   "outputs": [
    {
     "name": "stdout",
     "output_type": "stream",
     "text": [
      "PImBr:\tg_scr/ge = 1.34+/-0.01\n",
      "PImI:\tg_scr/ge = 3.57+/-0.00\n",
      "PPyrCl:\tg_scr/ge = 3.80+/-0.00\n",
      "PPyrBr:\tg_scr/ge = 7.25+/-0.00\n",
      "PPyrI:\tg_scr/ge = 7.95+/-0.00\n"
     ]
    }
   ],
   "source": [
    "for name, g in zip(names, (tau/c/b**3)**(1/2)/ (1+B/Bs)**(1/2)):\n",
    "    print('{}:\\tg_scr/ge = {:0.2f}'.format(name,g))"
   ]
  },
  {
   "cell_type": "markdown",
   "metadata": {
    "collapsed": false
   },
   "source": [
    "Number of chains in a correlation blob\n",
    "$$g = \\left(\\frac{B^3}{c b^3}\\right)^{1/2} \\left(1 + \\frac{B}{B_s}\\right)^{3/4}$$\n",
    "does not depend on $\\tau$"
   ]
  },
  {
   "cell_type": "code",
   "execution_count": 61,
   "metadata": {
    "collapsed": false
   },
   "outputs": [
    {
     "name": "stdout",
     "output_type": "stream",
     "text": [
      "PImBr:\tg/N0 =   6.64×10⁴±  0.21×10⁴ \trelative error: 3.14%\n",
      "PImI:\tg/N0 =     1018.1±       3.3 \trelative error: 0.32%\n",
      "PPyrCl:\tg/N0 =      230.2±       0.8 \trelative error: 0.36%\n",
      "PPyrBr:\tg/N0 =      1.335±     0.006 \trelative error: 0.44%\n",
      "PPyrI:\tg/N0 =      1.237±     0.005 \trelative error: 0.41%\n"
     ]
    }
   ],
   "source": [
    "for name, g in zip(names, (B**3/c/b**3)**(1/2) / N0 * (1+B/Bs)**(3/4)):\n",
    "    print('{}:\\tg/N0 = {:10P} \\trelative error: {:0.2f}%'.format(name,g,100*g.s/g.n))"
   ]
  },
  {
   "cell_type": "markdown",
   "metadata": {},
   "source": [
    "Number of rods in a correlation blob\n",
    "$$\\frac{g}{g_\\mathrm{scr}} = \\left(1 + \\frac{B}{B_s}\\right)^{5/4}$$\n",
    "does not depend on $\\tau$"
   ]
  },
  {
   "cell_type": "code",
   "execution_count": 56,
   "metadata": {
    "collapsed": false
   },
   "outputs": [
    {
     "name": "stdout",
     "output_type": "stream",
     "text": [
      "PImBr:\tg/g_scr =       77.0±       1.3 \trelative error: 1.71%\n",
      "PImI:\tg/g_scr =      8.305±     0.013 \trelative error: 0.15%\n",
      "PPyrCl:\tg/g_scr =      4.551±     0.007 \trelative error: 0.15%\n",
      "PPyrBr:\tg/g_scr =     1.1567±    0.0004 \trelative error: 0.04%\n",
      "PPyrI:\tg/g_scr =     1.1411±    0.0004 \trelative error: 0.03%\n"
     ]
    }
   ],
   "source": [
    "for name, g in zip(names, (1+B/Bs)**(5/4)):\n",
    "    print('{}:\\tg/g_scr = {:10P} \\trelative error: {:0.2f}%'.format(name,g,100*g.s/g.n))"
   ]
  },
  {
   "cell_type": "markdown",
   "metadata": {},
   "source": [
    "Number of correlation blobs between cross-links\n",
    "$$\\frac{N}{g_\\mathcal{scr}} = n N_0 \\left(\\frac{c b^3}{B^3}\\right)^{1/2}$$"
   ]
  },
  {
   "cell_type": "code",
   "execution_count": 51,
   "metadata": {
    "collapsed": false
   },
   "outputs": [
    {
     "name": "stdout",
     "output_type": "stream",
     "text": [
      "PImBr:\tN/g_scr =    0.01429±   0.00000 \trelative error: 0.00%\n",
      "PImI:\tN/g_scr =    0.01429±   0.00000 \trelative error: 0.00%\n",
      "PPyrCl:\tN/g_scr =    0.01429±   0.00000 \trelative error: 0.00%\n",
      "PPyrBr:\tN/g_scr =    0.01429±   0.00000 \trelative error: 0.00%\n",
      "PPyrI:\tN/g_scr =    0.01429±   0.00000 \trelative error: 0.00%\n"
     ]
    }
   ],
   "source": [
    "for name, g in zip(names, n*N0*(c * b**3/B0**3)**(1/2) / N0):\n",
    "    print('{}:\\tN/g_scr = {:10.4P} \\trelative error: {:0.2f}%'.format(name,g,100*g.s/g.n))"
   ]
  },
  {
   "cell_type": "markdown",
   "metadata": {},
   "source": [
    "We know that PImBr has even less charges than than PImI, therefore a larger $A$ and a larger $B$.\n",
    "\n",
    "$$B(\\mathrm{PImBr}) > B(\\mathrm{PImI}) \n",
    "\\Leftrightarrow \\frac{c^{1/4} n^{1/2}}{R_0/R}(\\mathrm{PImBr}) > \\frac{c^{1/4} n^{1/2}}{\\gamma_c+1}(\\mathrm{PImI})\n",
    "\\Leftrightarrow \\frac{R_0}{R}(\\mathrm{PImBr}) < \\frac{c^{1/4} n^{1/2}(\\mathrm{PImBr})}{c^{1/4} n^{1/2}(\\mathrm{PImI})}(\\gamma_c(\\mathrm{PImI})+1)$$"
   ]
  },
  {
   "cell_type": "code",
   "execution_count": 27,
   "metadata": {
    "collapsed": false
   },
   "outputs": [
    {
     "data": {
      "text/plain": [
       "3.2700280266277737+/-0.07085980250636678"
      ]
     },
     "execution_count": 27,
     "metadata": {},
     "output_type": "execute_result"
    }
   ],
   "source": [
    "(c[0]/c[1])**(1/4) * (n[0]/n[1])**(1/2) * (gamma_c[1]+1)"
   ]
  },
  {
   "cell_type": "markdown",
   "metadata": {},
   "source": [
    "Instead of $\\gamma_c+1 = 9$.\n",
    "\n",
    "Actually, to get the equality we need \n",
    "$$\\frac{n_\\mathrm{PImBr}}{n_\\mathrm{PImI}} = \\left(\\frac{c_\\mathrm{PImBr}}{c_\\mathrm{PImI}}\\right)^{1/2} \\left(\\frac{\\gamma_{c,\\mathrm{PImBr}}+1}{\\gamma_{c,\\mathrm{PImI}}+1}\\right)^2 \\approx \\left(\\frac{\\gamma_{c,\\mathrm{PImBr}}+1}{\\gamma_{c,\\mathrm{PImI}}+1}\\right)^2 \\approx 81$$ \n",
    "and we only have 7."
   ]
  },
  {
   "cell_type": "code",
   "execution_count": 28,
   "metadata": {
    "collapsed": false
   },
   "outputs": [
    {
     "data": {
      "text/plain": [
       "7.040469338487859+/-0.10140111983448306"
      ]
     },
     "execution_count": 28,
     "metadata": {},
     "output_type": "execute_result"
    }
   ],
   "source": [
    "n[0]/n[1]"
   ]
  },
  {
   "cell_type": "markdown",
   "metadata": {},
   "source": [
    "Thinking in terms of fractal dimension, we need an aggregate of dimension $d$ so that\n",
    "\n",
    "$$\\left(\\frac{n_\\mathrm{PImBr}}{n_\\mathrm{PImI}}\\right)^d = \\left(\\frac{c_\\mathrm{PImBr}}{c_\\mathrm{PImI}}\\right)^{1/2} \\left(\\frac{\\gamma_{c,\\mathrm{PImBr}}+1}{\\gamma_{c,\\mathrm{PImI}}+1}\\right)^2$$"
   ]
  },
  {
   "cell_type": "code",
   "execution_count": 21,
   "metadata": {
    "collapsed": false
   },
   "outputs": [
    {
     "data": {
      "text/plain": [
       "0.99981846876862512"
      ]
     },
     "execution_count": 21,
     "metadata": {},
     "output_type": "execute_result"
    }
   ],
   "source": [
    "(np.log(c[0]/c[1]) + 2*np.log(n[0]/n[1]))/np.log((gamma_c[0]+1) / (gamma_c[1]+1)) /2"
   ]
  },
  {
   "cell_type": "code",
   "execution_count": 31,
   "metadata": {
    "collapsed": false
   },
   "outputs": [
    {
     "data": {
      "image/png": "[encoded data removed]",
      "text/plain": [
       "<matplotlib.figure.Figure at 0x7f19ea69ba58>"
      ]
     },
     "metadata": {},
     "output_type": "display_data"
    }
   ],
   "source": [
    "plt.figure(figsize=(10,6))\n",
    "for i,(a,g,gc,g0,gg) in enumerate(zip(\n",
    "        sweeps, G,gamma_c, [8e-3,4e-3,2e-2,3e-3,3e-3], \n",
    "        (0.33**12 * (n*N0)**6 / (c*b**3*B0))**(1/8)\n",
    "        )):\n",
    "    plt.subplot(2,3,2+i)\n",
    "    plt.plot(a[:,0], a[:,1], 'ko')\n",
    "    plt.plot(a[:,0], a[:,2], 'k*')\n",
    "    plt.plot(a[:,0], a[0,2]*(a[:,0]+1)**2, 'r-')\n",
    "    plt.plot(a[:,0], a[0,2]*(a[:,0]+1)**(5/2), 'g-')\n",
    "    plt.plot(a[:,0], a[0,2]*(a[:,0]+1)**(1/2)*gg.n, 'b-')\n",
    "    plt.axhline(g.n, color='r')\n",
    "    plt.axvline(gc.n, color='b')\n",
    "    plt.axvline(g0, color='g')\n",
    "    #plt.plot(a[:,0], g.n*(a[:,0]+1)**(-2), 'r-')\n",
    "    plt.xscale('log')\n",
    "    plt.yscale('log')\n",
    "    plt.xlim(1e-3,1e2)\n",
    "    plt.ylim(1e-1,3e4)\n",
    "    plt.xlabel(r'$\\gamma$')\n",
    "    plt.ylabel(r'$G^\\prime$')\n",
    "plt.tight_layout()"
   ]
  },
  {
   "cell_type": "code",
   "execution_count": 93,
   "metadata": {
    "collapsed": false
   },
   "outputs": [
    {
     "name": "stdout",
     "output_type": "stream",
     "text": [
      "PImBr:\tB =      198.4±       1.9 \trelative error: 0.95%\n",
      "PImI:\tB =      59.31±      0.07 \trelative error: 0.11%\n",
      "PPyrCl:\tB =      36.26±      0.05 \trelative error: 0.13%\n",
      "PPyrBr:\tB =      2.795±     0.008 \trelative error: 0.27%\n",
      "PPyrI:\tB =      2.531±     0.006 \trelative error: 0.25%\n"
     ]
    }
   ],
   "source": [
    "B4 = b * c * (constants.k * T / G / (np.array([1.25e-1,4e-3,2e-2,3e-3,3e-3])+1)**2)**(2/3)\n",
    "for name, g in zip(names, B4):\n",
    "    print('{}:\\tB = {:10P} \\trelative error: {:0.2f}%'.format(name,g,100*g.s/g.n))"
   ]
  },
  {
   "cell_type": "code",
   "execution_count": 25,
   "metadata": {
    "collapsed": false
   },
   "outputs": [
    {
     "data": {
      "image/png": "[encoded data removed]",
      "text/plain": [
       "<matplotlib.figure.Figure at 0x7f19eab73438>"
      ]
     },
     "metadata": {},
     "output_type": "display_data"
    }
   ],
   "source": [
    "plt.figure(figsize=(10,6))\n",
    "for i,(a,g,gc,g0) in enumerate(zip(sweeps, G,gamma_c, [1.25e-1,4e-3,2e-2,3e-3,3e-3])):\n",
    "    plt.subplot(2,3,2+i)\n",
    "    plt.plot(a[:,0], np.gradient(a[:,2]), 'k^')\n",
    "    plt.axhline(0, color='k')\n",
    "    plt.axvline(gc.n, color='b')\n",
    "    plt.axvline(g0, color='g')\n",
    "    plt.xscale('log')\n",
    "    plt.xlim(1e-3,1e2)\n",
    "plt.tight_layout()"
   ]
  },
  {
   "cell_type": "code",
   "execution_count": 56,
   "metadata": {
    "collapsed": false
   },
   "outputs": [
    {
     "data": {
      "image/png": "[encoded data removed]",
      "text/plain": [
       "<matplotlib.figure.Figure at 0x7f19eb733da0>"
      ]
     },
     "metadata": {},
     "output_type": "display_data"
    }
   ],
   "source": [
    "plt.figure(figsize=(10,6))\n",
    "for i,a in enumerate(sweeps):\n",
    "    plt.subplot(2,3,2+i)\n",
    "    gg = np.abs(a[:,1]+1j*a[:,1])\n",
    "    plt.plot(a[:,0], gg/gg[0], 'ko')\n",
    "    plt.plot(a[:,0], a[:,2]/a[0,2]/(gg/gg[0]), '*r')\n",
    "    plt.plot(a[:,0], (a[:,0]+1)**(1/2), 'b-')\n",
    "    plt.xscale('log')\n",
    "    plt.yscale('log')\n",
    "    plt.xlim(1e-3,1e2)\n",
    "    #plt.ylim(1e-1,3e4)\n",
    "    plt.xlabel(r'$\\gamma$')\n",
    "    plt.ylabel(r'$G^\\prime$')\n",
    "plt.tight_layout()"
   ]
  },
  {
   "cell_type": "markdown",
   "metadata": {},
   "source": [
    "### Extention thresholds function of B\n",
    "\n",
    "$$\\begin{array}{rcl}\n",
    "\\gamma_0+1 &=& \\left(\\frac{N}{g}\\right)^{1/2}\\\\\n",
    "\\gamma_1+1 &=& \\left(\\frac{N}{g}\\right)^{1/2} \\left(\\frac{g}{g_\\mathrm{scr}}\\right)^{2/5}\\\\\n",
    "\\gamma_2+1 &=& \\left(\\frac{N}{g}\\right)^{1/2} \\left(\\frac{g}{g_\\mathrm{scr}}\\right)^{2/5} B\n",
    "\\end{array}$$"
   ]
  },
  {
   "cell_type": "code",
   "execution_count": 101,
   "metadata": {
    "collapsed": false
   },
   "outputs": [
    {
     "data": {
      "image/png": "[encoded data removed]",
      "text/plain": [
       "<matplotlib.figure.Figure at 0x7f19eb6ca1d0>"
      ]
     },
     "metadata": {},
     "output_type": "display_data"
    }
   ],
   "source": [
    "plt.figure(figsize=(10,6))\n",
    "for i,(BB,nn,cc, gc) in enumerate(zip(B0, n, c, [8e-3,4e-3,2e-2,3e-3,3e-3])):\n",
    "    plt.subplot(2,3,2+i)\n",
    "    Bs = np.logspace(0,np.log10(BB.n),200, base=10)\n",
    "    gamma_0 = (nn*N0 / (Bs**3/(cc*b**3) * (1 + Bs*u*2/N0)**(3/4)))**(1/2) - 1\n",
    "    gamma_1 = np.where(\n",
    "        gamma_0>0, \n",
    "        (gamma_0+1) * (1 + Bs*u*2/N0)**(1/2),\n",
    "        ((nn*N0)**2 * b**3 / cc / Bs**3 * (1 + Bs*u*2/N0))**(1/5)\n",
    "        ) -1\n",
    "    gamma_2 = np.maximum(1, (gamma_1+1)) * Bs -1\n",
    "    plt.errorbar(Bs, unp.nominal_values(gamma_0), unp.std_devs(gamma_0))\n",
    "    plt.errorbar(Bs, unp.nominal_values(gamma_1), unp.std_devs(gamma_1))\n",
    "    plt.errorbar(Bs, unp.nominal_values(gamma_2), unp.std_devs(gamma_2))\n",
    "    plt.xlabel(r'$B$')\n",
    "    plt.ylabel(r'$\\gamma$')\n",
    "    plt.xscale('log')\n",
    "    plt.yscale('log')\n",
    "    plt.axhline(gc)\n",
    "    #plt.axvline((b**6 * (nn.n*N0)**4 * N0/ (2*u*cc))**(1/9))\n",
    "plt.tight_layout()"
   ]
  },
  {
   "cell_type": "markdown",
   "metadata": {},
   "source": [
    "## Structure from probability distributions"
   ]
  },
  {
   "cell_type": "code",
   "execution_count": 22,
   "metadata": {
    "collapsed": true
   },
   "outputs": [],
   "source": [
    "from scipy.stats import binom, poisson"
   ]
  },
  {
   "cell_type": "code",
   "execution_count": 23,
   "metadata": {
    "collapsed": false
   },
   "outputs": [
    {
     "data": {
      "image/png": "[encoded data removed]",
      "text/plain": [
       "<matplotlib.figure.Figure at 0x7fa930a75d30>"
      ]
     },
     "metadata": {},
     "output_type": "display_data"
    }
   ],
   "source": [
    "plt.plot(binom.pmf(np.arange(N0/2+1), N0/2, 2/N0), 'bo', ms=8, label='binom pmf')\n",
    "plt.plot(poisson.pmf(np.arange(N0/2+1), 1), 'g.', ms=8, label='binom pmf')\n",
    "for i,a in enumerate(2**np.arange(6)):\n",
    "    plt.plot(binom.pmf(np.arange(N0/a/2+1), N0/a/2, 2*a/N0), 'o', color=plt.cm.autumn(i/5.), ms=8, label='binom pmf')\n",
    "plt.yscale('log')"
   ]
  },
  {
   "cell_type": "markdown",
   "metadata": {},
   "source": [
    "If the electrostatic blob cannot contain even the shortest side chain, then every side chain sticks out and thus the branching counts as a cross link. The precise boundary is when the electrostatic blob contains the main chain and a single monomeric side chain $ge<2N_0$. This translates in a condition on $A$ (provided $\\tau$):\n",
    "$$A < A_1 = \\left(\\frac{2N_0 u}{\\tau}\\right)^{1/2}$$."
   ]
  },
  {
   "cell_type": "code",
   "execution_count": 24,
   "metadata": {
    "collapsed": false
   },
   "outputs": [
    {
     "data": {
      "text/plain": [
       "array([ 43.41215711,  33.79631847,  27.45625892,  19.41450687])"
      ]
     },
     "execution_count": 24,
     "metadata": {},
     "output_type": "execute_result"
    }
   ],
   "source": [
    "(2*N0*u/np.array([0.2,tau,0.5,1]))**(1/2)"
   ]
  },
  {
   "cell_type": "markdown",
   "metadata": {},
   "source": [
    "Since there is exactly one head per body, the average number of heads attached to a given body is 1. The probability to have a head attached to a monomer is thus $1/N_0$. The probability of having a given number of monomers between crosslinks is thus given by a geometric distribution of parameter $1/N_0$. The average number of monomers between crosslinks is thus $N_0$. Therefore $n=k=1$."
   ]
  },
  {
   "cell_type": "markdown",
   "metadata": {},
   "source": [
    "If $A>A_1$, monomeric side chains are able to fully collapse on the main chain and thus do not count as cross-link anymore. The probability to have a crosslink is thus the probability to have a side chain AND that this side chain is not monomeric.\n",
    "\n",
    "Let us suppose that the probability of attaching a head to a given body is ndependent of the number of heads already attached, with a maximum of $N_0/2A$ heads per body (bivalent phosphonate head need two monovalent cationic groups to attach, and ony $N_0/A$ are available). The probability $P(h)$ of having $h$ heads attached to the same body is thus given by a binomial law of mean 1. The probability to have no head attached and thus a tail is \n",
    "$$P(h=0) = \\left(1-\\frac{2A}{N_0}\\right)^{N_0/2A}$$"
   ]
  },
  {
   "cell_type": "code",
   "execution_count": 25,
   "metadata": {
    "collapsed": false
   },
   "outputs": [
    {
     "data": {
      "text/plain": [
       "0.36256054767581464"
      ]
     },
     "execution_count": 25,
     "metadata": {},
     "output_type": "execute_result"
    }
   ],
   "source": [
    "def P(h,A=1): \n",
    "    return binom.pmf(h, N0/2/A, 2*A/N0)\n",
    "P(0)"
   ]
  },
  {
   "cell_type": "code",
   "execution_count": 26,
   "metadata": {
    "collapsed": false
   },
   "outputs": [
    {
     "data": {
      "text/plain": [
       "<matplotlib.lines.Line2D at 0x7fa93179c4a8>"
      ]
     },
     "execution_count": 26,
     "metadata": {},
     "output_type": "execute_result"
    },
    {
     "data": {
      "image/png": "[encoded data removed]",
      "text/plain": [
       "<matplotlib.figure.Figure at 0x7fa9317c3ac8>"
      ]
     },
     "metadata": {},
     "output_type": "display_data"
    }
   ],
   "source": [
    "plt.plot(range(1,N0//2+1), [P(0, a) for a in range(1,N0//2+1)], label='h=0')\n",
    "plt.plot(range(1,N0//2+1), [P(1, a) for a in range(1,N0//2+1)], label='h=1')\n",
    "plt.xlabel('A')\n",
    "plt.ylabel('P(h)')\n",
    "plt.legend(loc='upper left')\n",
    "plt.axvline((2*N0*u/tau)**(1/2))"
   ]
  },
  {
   "cell_type": "markdown",
   "metadata": {},
   "source": [
    "The probability for a given monomer to hold a crosslink is thus\n",
    "$$\\frac{1-P(h=0)}{N_0}$$\n",
    "The number of monomers betwenn crosslinks is the inverse of the latter. Finally, the number of chains between crosslinks is \n",
    "$$n = \\frac{1}{1-P(h=0)}$$"
   ]
  },
  {
   "cell_type": "code",
   "execution_count": 27,
   "metadata": {
    "collapsed": false
   },
   "outputs": [
    {
     "data": {
      "text/plain": [
       "<matplotlib.lines.Line2D at 0x7fa9317af390>"
      ]
     },
     "execution_count": 27,
     "metadata": {},
     "output_type": "execute_result"
    },
    {
     "data": {
      "image/png": "[encoded data removed]",
      "text/plain": [
       "<matplotlib.figure.Figure at 0x7fa931781828>"
      ]
     },
     "metadata": {},
     "output_type": "display_data"
    }
   ],
   "source": [
    "plt.plot(range(1,N0//2+1), [1/(1-P(0, a)) for a in range(1,N0//2+1)])\n",
    "plt.xlabel('A')\n",
    "plt.ylabel('n')\n",
    "plt.axvline((2*N0*u/tau)**(1/2))"
   ]
  },
  {
   "cell_type": "code",
   "execution_count": 28,
   "metadata": {
    "collapsed": false
   },
   "outputs": [
    {
     "data": {
      "text/plain": [
       "1.5687764482632396"
      ]
     },
     "execution_count": 28,
     "metadata": {},
     "output_type": "execute_result"
    }
   ],
   "source": [
    "1/(1-P(0))"
   ]
  },
  {
   "cell_type": "markdown",
   "metadata": {},
   "source": [
    "There is also a threshold $A_2 = \\left(\\frac{3N_0 u}{\\tau}\\right)^{1/2}$ when a dimeric side chains can collapse on the main chain. For $A>A_2$\n",
    "$$n = \\frac{1}{1-P(h=0)-P(h=1)P(h=0)}$$"
   ]
  },
  {
   "cell_type": "code",
   "execution_count": 29,
   "metadata": {
    "collapsed": false
   },
   "outputs": [
    {
     "data": {
      "text/plain": [
       "1.9915434258974904"
      ]
     },
     "execution_count": 29,
     "metadata": {},
     "output_type": "execute_result"
    }
   ],
   "source": [
    "1/(1-P(0) - P(0)*P(1))"
   ]
  },
  {
   "cell_type": "markdown",
   "metadata": {},
   "source": [
    "For $A>A_3$\n",
    "$$n = \\frac{1}{1 - P(h=0) - P(h=1)\\left(P(h=0)+P(h=1)P(h=0)\\right) - P(h=2)P(h=0)^2}$$"
   ]
  },
  {
   "cell_type": "code",
   "execution_count": 30,
   "metadata": {
    "collapsed": false
   },
   "outputs": [
    {
     "data": {
      "text/plain": [
       "2.4463089358439283"
      ]
     },
     "execution_count": 30,
     "metadata": {},
     "output_type": "execute_result"
    }
   ],
   "source": [
    "1/(1 - P(0)*(1 + P(1) + P(1)**2) - P(0)**2*P(2)*(1+2*P(1)))"
   ]
  },
  {
   "cell_type": "code",
   "execution_count": 31,
   "metadata": {
    "collapsed": false
   },
   "outputs": [
    {
     "data": {
      "text/plain": [
       "2.6539150687299284"
      ]
     },
     "execution_count": 31,
     "metadata": {},
     "output_type": "execute_result"
    }
   ],
   "source": [
    "1/(1 - P(0)*(1 + P(1) + P(1)**2 + P(1)**3) - P(0)**2*P(2)*(1+2*P(1)+3*P(1)**2) - P(0)**3*P(3))"
   ]
  },
  {
   "cell_type": "markdown",
   "metadata": {},
   "source": [
    "A single head attached and thus a linear procession has probability of P(h=1)"
   ]
  },
  {
   "cell_type": "code",
   "execution_count": 32,
   "metadata": {
    "collapsed": false
   },
   "outputs": [
    {
     "data": {
      "text/plain": [
       "0.37322409319569066"
      ]
     },
     "execution_count": 32,
     "metadata": {},
     "output_type": "execute_result"
    }
   ],
   "source": [
    "binom.pmf(1, N0/2, 2/N0)"
   ]
  },
  {
   "cell_type": "markdown",
   "metadata": {},
   "source": [
    "And the probability to branch is $P(h\\geq 2)$"
   ]
  },
  {
   "cell_type": "code",
   "execution_count": 33,
   "metadata": {
    "collapsed": false
   },
   "outputs": [
    {
     "data": {
      "text/plain": [
       "0.2642153591284947"
      ]
     },
     "execution_count": 33,
     "metadata": {},
     "output_type": "execute_result"
    }
   ],
   "source": [
    "1 - np.sum(binom.pmf([0,1], N0/2, 2/N0))"
   ]
  },
  {
   "cell_type": "markdown",
   "metadata": {},
   "source": [
    "Therefore, the number of chains beween cross links n=k is"
   ]
  },
  {
   "cell_type": "code",
   "execution_count": 34,
   "metadata": {
    "collapsed": false
   },
   "outputs": [
    {
     "data": {
      "text/plain": [
       "3.7847913281743564"
      ]
     },
     "execution_count": 34,
     "metadata": {},
     "output_type": "execute_result"
    }
   ],
   "source": [
    "1/(1-np.sum(binom.pmf([0,1], N0/2, 2/N0)))"
   ]
  },
  {
   "cell_type": "markdown",
   "metadata": {},
   "source": [
    "More complete expression taking into account the probability to have a second branching (third head) on the same \n",
    "$$\\frac{P(h=2) \\times 1/P(h\\geq 2) + P(h>3)}{P(h\\geq 2)}$$"
   ]
  },
  {
   "cell_type": "code",
   "execution_count": 35,
   "metadata": {
    "collapsed": false
   },
   "outputs": [
    {
     "data": {
      "text/plain": [
       "2.9668637387798635"
      ]
     },
     "execution_count": 35,
     "metadata": {},
     "output_type": "execute_result"
    }
   ],
   "source": [
    "(binom.pmf(2, N0/2, 2/N0) / (1-np.sum(binom.pmf([0,1], N0/2, 2/N0))) + (1-np.sum(binom.pmf([0,1,2], N0/2, 2/N0)))) / (1-np.sum(binom.pmf([0,1], N0/2, 2/N0)))"
   ]
  },
  {
   "cell_type": "code",
   "execution_count": 36,
   "metadata": {
    "collapsed": false
   },
   "outputs": [
    {
     "data": {
      "text/plain": [
       "<matplotlib.lines.Line2D at 0x7fa931d1fd68>"
      ]
     },
     "execution_count": 36,
     "metadata": {},
     "output_type": "execute_result"
    },
    {
     "data": {
      "image/png": "[encoded data removed]",
      "text/plain": [
       "<matplotlib.figure.Figure at 0x7fa931d1f748>"
      ]
     },
     "metadata": {},
     "output_type": "display_data"
    }
   ],
   "source": [
    "plt.plot(range(1,N0//2), [1/(1-P(1,a)) for a in range(1,N0//2)])\n",
    "plt.xlabel('A')\n",
    "plt.ylabel('n')\n",
    "plt.axvline((2*N0*u/tau)**(1/2))"
   ]
  },
  {
   "cell_type": "markdown",
   "metadata": {},
   "source": [
    "$N_0/A$ is not actually a hard upper bound to the number of possible sites on a chain. The number of charges on a given chain follows a binomial law of mean $N_0/A$ and upper bound $N_0$. We have to combine this and the previous law giving the probability distribution of the number of heads knowing the number of charges.\n",
    "$$P(h,A) = \\sum_{i=0}^{N_0} P(h|i)P(i,A)$$"
   ]
  },
  {
   "cell_type": "code",
   "execution_count": 37,
   "metadata": {
    "collapsed": false
   },
   "outputs": [
    {
     "data": {
      "text/plain": [
       "<matplotlib.text.Text at 0x7fa930973e80>"
      ]
     },
     "execution_count": 37,
     "metadata": {},
     "output_type": "execute_result"
    },
    {
     "data": {
      "image/png": "[encoded data removed]",
      "text/plain": [
       "<matplotlib.figure.Figure at 0x7fa931765a20>"
      ]
     },
     "metadata": {},
     "output_type": "display_data"
    }
   ],
   "source": [
    "for a in 2**np.arange(6):\n",
    "    plt.plot(np.arange(N0+1), binom.pmf(np.arange(N0+1), N0, 1/a), color=plt.cm.autumn(np.log2(a)/6))\n",
    "plt.xlabel('#charge')"
   ]
  },
  {
   "cell_type": "code",
   "execution_count": 38,
   "metadata": {
    "collapsed": false
   },
   "outputs": [
    {
     "data": {
      "text/plain": [
       "<matplotlib.text.Text at 0x7fa93177a438>"
      ]
     },
     "execution_count": 38,
     "metadata": {},
     "output_type": "execute_result"
    },
    {
     "data": {
      "image/png": "[encoded data removed]",
      "text/plain": [
       "<matplotlib.figure.Figure at 0x7fa930931f28>"
      ]
     },
     "metadata": {},
     "output_type": "display_data"
    }
   ],
   "source": [
    "i=70\n",
    "for i in N0/2**np.arange(6):\n",
    "    plt.plot(range(N0//2+1), binom.pmf(np.arange(N0//2+1), i/2, 2/i), color=plt.cm.autumn(np.log2(N0/i)/6))\n",
    "plt.xlabel('#heads')\n",
    "plt.ylabel('P(h|#charges)')"
   ]
  },
  {
   "cell_type": "code",
   "execution_count": 39,
   "metadata": {
    "collapsed": false
   },
   "outputs": [
    {
     "data": {
      "text/plain": [
       "<matplotlib.text.Text at 0x7fa9317a0588>"
      ]
     },
     "execution_count": 39,
     "metadata": {},
     "output_type": "execute_result"
    },
    {
     "data": {
      "image/png": "[encoded data removed]",
      "text/plain": [
       "<matplotlib.figure.Figure at 0x7fa9341360b8>"
      ]
     },
     "metadata": {},
     "output_type": "display_data"
    }
   ],
   "source": [
    "for a in 2**np.arange(6):\n",
    "    Pcharges = binom.pmf(np.arange(2,N0+1), N0, 1/a)\n",
    "    plt.plot(\n",
    "        range(N0//2+1), \n",
    "        [np.sum(Pcharges * np.array([binom.pmf(h, i/2, 2/i) for i in range(2,N0+1)])) for h in range(N0//2+1)],\n",
    "        color=plt.cm.autumn(np.log2(a)/6)\n",
    "    )\n",
    "plt.xlabel('#heads')"
   ]
  },
  {
   "cell_type": "code",
   "execution_count": 40,
   "metadata": {
    "collapsed": false
   },
   "outputs": [
    {
     "data": {
      "text/plain": [
       "<matplotlib.text.Text at 0x7fa93098f5c0>"
      ]
     },
     "execution_count": 40,
     "metadata": {},
     "output_type": "execute_result"
    },
    {
     "data": {
      "image/png": "[encoded data removed]",
      "text/plain": [
       "<matplotlib.figure.Figure at 0x7fa930998208>"
      ]
     },
     "metadata": {},
     "output_type": "display_data"
    }
   ],
   "source": [
    "for a in 2**np.arange(6):\n",
    "    Pcharges = binom.pmf(np.arange(2,N0+1), N0, 1/a)\n",
    "    plt.plot(\n",
    "        range(N0//2+1), \n",
    "        [np.sum(Pcharges * np.array([binom.pmf(h, i, 1/i) for i in range(2,N0+1)])) for h in range(N0//2+1)],\n",
    "        color=plt.cm.autumn(np.log2(a)/6)\n",
    "    )\n",
    "plt.xlabel('#heads')"
   ]
  },
  {
   "cell_type": "code",
   "execution_count": 41,
   "metadata": {
    "collapsed": true
   },
   "outputs": [],
   "source": [
    "def P(h, A=1):\n",
    "    Pcharges = binom.pmf(np.arange(1,N0+1), N0, 1/A)\n",
    "    Pheads = np.array([binom.pmf(h, i/1, 1/i) for i in range(1,N0+1)])\n",
    "    return np.sum(Pheads * Pcharges, -1)"
   ]
  },
  {
   "cell_type": "code",
   "execution_count": 42,
   "metadata": {
    "collapsed": false
   },
   "outputs": [
    {
     "data": {
      "text/plain": [
       "0.36523597711796002"
      ]
     },
     "execution_count": 42,
     "metadata": {},
     "output_type": "execute_result"
    }
   ],
   "source": [
    "P(0)"
   ]
  },
  {
   "cell_type": "code",
   "execution_count": 43,
   "metadata": {
    "collapsed": false
   },
   "outputs": [
    {
     "data": {
      "text/plain": [
       "<matplotlib.lines.Line2D at 0x7fa9309ce550>"
      ]
     },
     "execution_count": 43,
     "metadata": {},
     "output_type": "execute_result"
    },
    {
     "data": {
      "image/png": "[encoded data removed]",
      "text/plain": [
       "<matplotlib.figure.Figure at 0x7fa930926860>"
      ]
     },
     "metadata": {},
     "output_type": "display_data"
    }
   ],
   "source": [
    "plt.plot(range(1,N0+1), [P(0, a) for a in range(1,N0+1)], label='h=0')\n",
    "plt.plot(range(1,N0+1), [P(1, a) for a in range(1,N0+1)], label='h=1')\n",
    "plt.plot(range(1,N0+1), [1-P(0,a)-P(1, a) for a in range(1,N0+1)], label='h>1')\n",
    "plt.xlabel('A')\n",
    "plt.ylabel('P(h)')\n",
    "plt.legend(loc='center right')\n",
    "plt.axvline((2*N0*u/tau)**(1/2))"
   ]
  },
  {
   "cell_type": "code",
   "execution_count": 44,
   "metadata": {
    "collapsed": false
   },
   "outputs": [
    {
     "data": {
      "text/plain": [
       "(0, 2.5)"
      ]
     },
     "execution_count": 44,
     "metadata": {},
     "output_type": "execute_result"
    },
    {
     "data": {
      "image/png": "[encoded data removed]",
      "text/plain": [
       "<matplotlib.figure.Figure at 0x7fa931d23eb8>"
      ]
     },
     "metadata": {},
     "output_type": "display_data"
    }
   ],
   "source": [
    "plt.plot(range(1,N0+1), [1/(1-P(1,a))-1 for a in range(1,N0+1)])\n",
    "plt.xlabel('A')\n",
    "plt.ylabel('n')\n",
    "plt.axvline((2*N0*u/tau)**(1/2))\n",
    "plt.ylim(0,2.5)"
   ]
  },
  {
   "cell_type": "markdown",
   "metadata": {
    "collapsed": true
   },
   "source": [
    "Probability to have 2 neighbouring charges for a given A."
   ]
  },
  {
   "cell_type": "code",
   "execution_count": 45,
   "metadata": {
    "collapsed": false
   },
   "outputs": [
    {
     "data": {
      "text/plain": [
       "<matplotlib.text.Text at 0x7fa930848ba8>"
      ]
     },
     "execution_count": 45,
     "metadata": {},
     "output_type": "execute_result"
    },
    {
     "data": {
      "image/png": "[encoded data removed]",
      "text/plain": [
       "<matplotlib.figure.Figure at 0x7fa930a737b8>"
      ]
     },
     "metadata": {},
     "output_type": "display_data"
    }
   ],
   "source": [
    "plt.plot(range(1,N0+1), [binom.pmf(2,2,1/a) for a in range(1,N0+1)])\n",
    "plt.xlabel('A')"
   ]
  },
  {
   "cell_type": "markdown",
   "metadata": {},
   "source": [
    "Distance beween two couples of neighbouring charges function of A"
   ]
  },
  {
   "cell_type": "code",
   "execution_count": 46,
   "metadata": {
    "collapsed": false
   },
   "outputs": [
    {
     "data": {
      "text/plain": [
       "[<matplotlib.lines.Line2D at 0x7fa930715048>]"
      ]
     },
     "execution_count": 46,
     "metadata": {},
     "output_type": "execute_result"
    },
    {
     "data": {
      "image/png": "[encoded data removed]",
      "text/plain": [
       "<matplotlib.figure.Figure at 0x7fa93075c7f0>"
      ]
     },
     "metadata": {},
     "output_type": "display_data"
    }
   ],
   "source": [
    "plt.plot(range(1,N0+1), [1/binom.pmf(2,2,1/a) for a in range(1,N0+1)])\n",
    "plt.xlabel('A')\n",
    "plt.ylabel('N')\n",
    "plt.xscale('log')\n",
    "plt.yscale('log')\n",
    "plt.plot(np.sqrt(n*N0), n*N0, 'o')"
   ]
  },
  {
   "cell_type": "code",
   "execution_count": 47,
   "metadata": {
    "collapsed": false
   },
   "outputs": [
    {
     "data": {
      "text/plain": [
       "0.00040816326530612246"
      ]
     },
     "execution_count": 47,
     "metadata": {},
     "output_type": "execute_result"
    }
   ],
   "source": [
    "2/N0**2"
   ]
  },
  {
   "cell_type": "code",
   "execution_count": 50,
   "metadata": {
    "collapsed": false
   },
   "outputs": [
    {
     "data": {
      "text/plain": [
       "array([ 43.41215711,  35.44587785,  30.69703068,  27.45625892,\n",
       "        25.06402059,  23.20477404,  21.70607855,  20.46468712,  19.41450687])"
      ]
     },
     "execution_count": 50,
     "metadata": {},
     "output_type": "execute_result"
    }
   ],
   "source": [
    "(2*u*N0/np.arange(2,11)*10)**0.5"
   ]
  },
  {
   "cell_type": "code",
   "execution_count": null,
   "metadata": {
    "collapsed": true
   },
   "outputs": [],
   "source": []
  }
 ],
 "metadata": {
  "kernelspec": {
   "display_name": "Python 3",
   "language": "python",
   "name": "python3"
  },
  "language_info": {
   "codemirror_mode": {
    "name": "ipython",
    "version": 3
   },
   "file_extension": ".py",
   "mimetype": "text/x-python",
   "name": "python",
   "nbconvert_exporter": "python",
   "pygments_lexer": "ipython3",
   "version": "3.5.1"
  }
 },
 "nbformat": 4,
 "nbformat_minor": 0
}
