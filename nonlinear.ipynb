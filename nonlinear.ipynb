{
 "cells": [
  {
   "cell_type": "code",
   "execution_count": 1,
   "metadata": {
    "collapsed": true
   },
   "outputs": [],
   "source": [
    "import numpy as np\n",
    "from scipy import constants\n",
    "from scipy.optimize import leastsq\n",
    "import uncertainties\n",
    "from uncertainties import unumpy as unp\n",
    "from matplotlib import pyplot as plt\n",
    "%matplotlib inline"
   ]
  },
  {
   "cell_type": "code",
   "execution_count": 2,
   "metadata": {
    "collapsed": false
   },
   "outputs": [],
   "source": [
    "@uncertainties.wrap\n",
    "def f(n=0, *P):\n",
    "    ''' compute the nth root of the polynomial P and the uncertainty of the root'''\n",
    "    p =  np.array(P)\n",
    "    N = len(p)\n",
    "    \n",
    "    M = np.diag(np.ones((N-2,), p.dtype), -1)\n",
    "    M[0, :] = -p[1:] / p[0]\n",
    "    r = np.linalg.eigvals(M)\n",
    "    r.sort()  # there is no telling what order the values come out in\n",
    "    return r[n]"
   ]
  },
  {
   "cell_type": "markdown",
   "metadata": {},
   "source": [
    "Molar masses"
   ]
  },
  {
   "cell_type": "code",
   "execution_count": 3,
   "metadata": {
    "collapsed": true
   },
   "outputs": [],
   "source": [
    "N0 = 70\n",
    "M = {\n",
    "    'P':31, 'N':14, 'C':12, 'O':8, 'H':1, \n",
    "    'F':19, 'Cl':35.5, 'Br':80, 'I':127}\n",
    "M['head_Ph'] = 6 * M['C'] + 5 * M['O'] + 10 * M['H'] + M['P']\n",
    "M['head_Et'] = 6 * M['C'] + 2 * M['O'] + 11 * M['H']\n",
    "M['monoBr'] = 5 * M['C'] + 2 * M['O'] + 7 * M['H'] + M['Br']\n",
    "M['Imidazolium'] = 4 * M['C'] + 6 * M['H'] + 2 * M['N']\n",
    "M['Pyrrolidinium'] = 5 * M['C'] + 11 * M['H'] + M['N']\n",
    "for short, full in [('Im', 'Imidazolium'), ('Pyr', 'Pyrrolidinium')]:\n",
    "    for X in ['F','Cl','Br','I']:\n",
    "        M['P'+short+X] = M['head_Ph'] + N0 * (M['monoBr'] + M[full] - M['Br'] + M[X])\n",
    "        M['P'+short+X+'_Et'] = M['head_Et'] + N0 * (M['monoBr'] + M[full] - M['Br'] + M[X])"
   ]
  },
  {
   "cell_type": "code",
   "execution_count": 4,
   "metadata": {
    "collapsed": false
   },
   "outputs": [
    {
     "data": {
      "text/plain": [
       "{'Br': 80,\n",
       " 'C': 12,\n",
       " 'Cl': 35.5,\n",
       " 'F': 19,\n",
       " 'H': 1,\n",
       " 'I': 127,\n",
       " 'Imidazolium': 82,\n",
       " 'N': 14,\n",
       " 'O': 8,\n",
       " 'P': 31,\n",
       " 'PImBr': 17303,\n",
       " 'PImBr_Et': 17249,\n",
       " 'PImCl': 14188.0,\n",
       " 'PImCl_Et': 14134.0,\n",
       " 'PImF': 13033,\n",
       " 'PImF_Et': 12979,\n",
       " 'PImI': 20593,\n",
       " 'PImI_Et': 20539,\n",
       " 'PPyrBr': 17513,\n",
       " 'PPyrBr_Et': 17459,\n",
       " 'PPyrCl': 14398.0,\n",
       " 'PPyrCl_Et': 14344.0,\n",
       " 'PPyrF': 13243,\n",
       " 'PPyrF_Et': 13189,\n",
       " 'PPyrI': 20803,\n",
       " 'PPyrI_Et': 20749,\n",
       " 'Pyrrolidinium': 85,\n",
       " 'head_Et': 99,\n",
       " 'head_Ph': 153,\n",
       " 'monoBr': 163}"
      ]
     },
     "execution_count": 4,
     "metadata": {},
     "output_type": "execute_result"
    }
   ],
   "source": [
    "M"
   ]
  },
  {
   "cell_type": "markdown",
   "metadata": {},
   "source": [
    "Other constants"
   ]
  },
  {
   "cell_type": "code",
   "execution_count": 5,
   "metadata": {
    "collapsed": false
   },
   "outputs": [
    {
     "name": "stdout",
     "output_type": "stream",
     "text": [
      "u = 1.90\n"
     ]
    }
   ],
   "source": [
    "T = constants.C2K(25) #temperature\n",
    "b = 2.45*0.15e-9 # Kuhn length for a freely rotating chain of thetrahedral carbons\n",
    "gK = 1.5 #number of monomers (2 carbons on the chain) in a Kuhn segment\n",
    "lB = 0.7e-9 #Bjerum length\n",
    "u = lB / b\n",
    "print('u = {:0.2f}'.format(u))"
   ]
  },
  {
   "cell_type": "markdown",
   "metadata": {},
   "source": [
    "From now on, in dissociation order: PImBr, PImI, PPyrCl, PPyrBr, PPyrI\n",
    "\n",
    "Monomer number density for a weight fraction of 80 g/kg"
   ]
  },
  {
   "cell_type": "code",
   "execution_count": 6,
   "metadata": {
    "collapsed": true
   },
   "outputs": [],
   "source": [
    "names = ['PImBr', 'PImI', 'PPyrCl', 'PPyrBr', 'PPyrI']\n",
    "w = 80\n",
    "c = N0 * constants.N_A / np.array([M[s] for s in names]) * w * 1000"
   ]
  },
  {
   "cell_type": "markdown",
   "metadata": {},
   "source": [
    "Load strain sweeps at $f=1$ Hz."
   ]
  },
  {
   "cell_type": "code",
   "execution_count": 7,
   "metadata": {
    "collapsed": false
   },
   "outputs": [],
   "source": [
    "sweeps = [\n",
    "    np.loadtxt('ImBr_70_PO3_8pc_bis.strain', skiprows=5, usecols=[4,6,7]),\n",
    "    np.loadtxt('PImI0CL70unit_80gperL.strain', skiprows=2),\n",
    "    np.loadtxt('PPyCl0CL70unit_80gperL.strain', skiprows=2),\n",
    "    np.loadtxt('PPyBr_70_0pc.strain', skiprows=5, usecols=[4,6,7])[:20],\n",
    "    np.loadtxt('PPyI0CL70unit_80gperL_bis.strain', skiprows=5, usecols=[4,6,7]),\n",
    "    ]"
   ]
  },
  {
   "cell_type": "code",
   "execution_count": 8,
   "metadata": {
    "collapsed": false
   },
   "outputs": [
    {
     "data": {
      "image/png": "[encoded data removed]",
      "text/plain": [
       "<matplotlib.figure.Figure at 0x7f693426a240>"
      ]
     },
     "metadata": {},
     "output_type": "display_data"
    }
   ],
   "source": [
    "plt.figure(figsize=(10,6))\n",
    "for i,(a,name) in enumerate(zip(sweeps,names)):\n",
    "    plt.subplot(2,3,2+i)\n",
    "    plt.title(name)\n",
    "    plt.scatter(a[:,0], a[:,1], facecolors='k')\n",
    "    plt.scatter(a[:,0], a[:,2], edgecolors='k', facecolors='none')\n",
    "    plt.xscale('log')\n",
    "    plt.yscale('log')\n",
    "    plt.xlim(1e-3,1e2)\n",
    "    plt.ylim(1e-1,3e4)\n",
    "    plt.xlabel(r'$\\gamma$')\n",
    "    plt.ylabel(r'$G^\\prime,\\, G^{\\prime\\prime}$')\n",
    "plt.tight_layout()"
   ]
  },
  {
   "cell_type": "markdown",
   "metadata": {},
   "source": [
    "All 5 samples are solidlike ($G^\\prime \\gg G^{\\prime\\prime}$) at small strains and flow at large strains ($G^{\\prime\\prime} \\gg G^\\prime$) with a steep decrease of the moduli. Moderatly charged PImI and PPyrCl show a plateau in both moduli at low strain corresponding to the linear regime of the material; an overshoot of $G^{\\prime\\prime}$ and a downward slope of $G^\\prime$ at intermediate strains corresponding to the onset of plasticity~\\cite{Hyun2011}; and a decrease of both moduli at large strains, steeper for $G^\\prime$ than for $G^{\\prime\\prime}$, indicating shear thinning. The linear regime is either extremely narrow or non existent in heavily charged PPyrBr and PPyrI. By contrast the lightly charged PImBr displays a broad intermediate regime (tree decades of strain) between the linear regime and the crossing of the moduli."
   ]
  },
  {
   "cell_type": "markdown",
   "metadata": {},
   "source": [
    "Measure $G'(\\gamma \\rightarrow 0)$ and the error"
   ]
  },
  {
   "cell_type": "code",
   "execution_count": 9,
   "metadata": {
    "collapsed": false
   },
   "outputs": [
    {
     "name": "stdout",
     "output_type": "stream",
     "text": [
      "PImBr:\tG' =      13.59±      0.19 Pa\trelative error: 1.40%\n",
      "PImI:\tG' =      79.70±      0.13 Pa\trelative error: 0.16%\n",
      "PPyrCl:\tG' =      272.9±       0.6 Pa\trelative error: 0.20%\n",
      "PPyrBr:\tG' =       9917±        40 Pa\trelative error: 0.40%\n",
      "PPyrI:\tG' =       8939±        34 Pa\trelative error: 0.37%\n"
     ]
    }
   ],
   "source": [
    "G = unp.uarray(\n",
    "    [np.abs(a[0,1]+1j*a[0,2]) for a in sweeps],\n",
    "    np.abs([(a[0,1]-a[1,1])/2 for a in sweeps])\n",
    ")\n",
    "for name, g in zip(names, G):\n",
    "    print('{}:\\tG\\' = {:10.4P} Pa\\trelative error: {:0.2f}%'.format(name,g,100*g.s/g.n))"
   ]
  },
  {
   "cell_type": "markdown",
   "metadata": {},
   "source": [
    "Measure the critical strain $\\gamma_c$ such that the moduli cross, and the error."
   ]
  },
  {
   "cell_type": "code",
   "execution_count": 10,
   "metadata": {
    "collapsed": false
   },
   "outputs": [
    {
     "name": "stdout",
     "output_type": "stream",
     "text": [
      "PImBr:\tgamma_c' =        8.1±       1.0\trelative error: 12.88%\n",
      "PImI:\tgamma_c' =      0.184±     0.024\trelative error: 13.11%\n",
      "PPyrCl:\tgamma_c' =       0.12±      0.15\trelative error: 124.44%\n",
      "PPyrBr:\tgamma_c' =      0.022±     0.018\trelative error: 82.26%\n",
      "PPyrI:\tgamma_c' =       0.89±      0.26\trelative error: 29.38%\n"
     ]
    }
   ],
   "source": [
    "imaxs = np.array([np.where(a[:,2]<a[:,1])[0][-1] for a in sweeps])\n",
    "gamma_c = unp.uarray(\n",
    "    np.exp([\n",
    "        np.interp(0, np.log(a[imax:imax+2,2]/a[imax:imax+2,1]), np.log(a[imax:imax+2,0])) \n",
    "        for a,imax in zip(sweeps, imaxs)\n",
    "        ]),\n",
    "    [(a[imax+1,0]-a[imax,0])/2 for a,imax in zip(sweeps, imaxs)]\n",
    "    )\n",
    "for name, g in zip(names, gamma_c):\n",
    "    print('{}:\\tgamma_c\\' = {:10P}\\trelative error: {:0.2f}%'.format(name,g,100*g.s/g.n))"
   ]
  },
  {
   "cell_type": "markdown",
   "metadata": {},
   "source": [
    "Estimate the end of the linear regime."
   ]
  },
  {
   "cell_type": "code",
   "execution_count": 11,
   "metadata": {
    "collapsed": false
   },
   "outputs": [
    {
     "name": "stdout",
     "output_type": "stream",
     "text": [
      "PImBr:\tgamma_c0' =     0.0112±    0.0013\trelative error: 11.35%\n",
      "PImI:\tgamma_c0' =     0.0179±    0.0020\trelative error: 11.16%\n",
      "PPyrCl:\tgamma_c0' =     0.0283±    0.0032\trelative error: 11.21%\n",
      "PPyrBr:\tgamma_c0' =     0.0035±    0.0004\trelative error: 10.95%\n",
      "PPyrI:\tgamma_c0' =    0.00113±   0.00013\trelative error: 11.45%\n"
     ]
    }
   ],
   "source": [
    "#i0 = np.array([np.where((a[:,2] > 1.15 *a[:np.argmax(a[:,2]),2].min()) & (a[:,1] < 0.95 * a[0,1].max()))[0][0] for a in sweeps])\n",
    "i0 = np.array([10, 12, 14, 5, 0])\n",
    "gamma_c0 = unp.uarray(\n",
    "    [np.exp((np.log(a[imax,0])+np.log(a[imax+1,0]))/2) for a,imax in zip(sweeps, i0)],\n",
    "    [(a[imax+1,0]-a[imax,0])/2 for a,imax in zip(sweeps, i0)]\n",
    "    )\n",
    "for name, g in zip(names, gamma_c0):\n",
    "    print('{}:\\tgamma_c0\\' = {:10P}\\trelative error: {:0.2f}%'.format(name,g,100*g.s/g.n))"
   ]
  },
  {
   "cell_type": "code",
   "execution_count": 12,
   "metadata": {
    "collapsed": false
   },
   "outputs": [
    {
     "data": {
      "image/png": "[encoded data removed]",
      "text/plain": [
       "<matplotlib.figure.Figure at 0x7f6930fe37f0>"
      ]
     },
     "metadata": {},
     "output_type": "display_data"
    }
   ],
   "source": [
    "plt.figure(figsize=(10,6))\n",
    "for i,(a,name, gc0, gc) in enumerate(zip(sweeps,names, gamma_c0, gamma_c)):\n",
    "    plt.subplot(2,3,2+i)\n",
    "    plt.title(name)\n",
    "    plt.axvspan(gc0.n,gc.n, color=(0.9,0.9,0.9), zorder=-1)\n",
    "    plt.axhline(a[0,1],color=[0.5]*3)\n",
    "    plt.scatter(a[:,0], a[:,1], facecolors='k')\n",
    "    plt.scatter(a[:,0], a[:,2], edgecolors='k', facecolors='none')\n",
    "    plt.xscale('log')\n",
    "    plt.yscale('log')\n",
    "    plt.xlim(1e-3,1e2)\n",
    "    plt.ylim(1e-1,3e4)\n",
    "    plt.xlabel(r'$\\gamma$')\n",
    "    plt.ylabel(r'$G^\\prime,\\, G^{\\prime\\prime}$')\n",
    "plt.tight_layout()"
   ]
  },
  {
   "cell_type": "code",
   "execution_count": 13,
   "metadata": {
    "collapsed": false,
    "scrolled": false
   },
   "outputs": [
    {
     "data": {
      "image/png": "[encoded data removed]",
      "text/plain": [
       "<matplotlib.figure.Figure at 0x7f693146a438>"
      ]
     },
     "metadata": {},
     "output_type": "display_data"
    }
   ],
   "source": [
    "plt.figure(figsize=(10,6))\n",
    "for i,(a,name, gc0, gc) in enumerate(zip(sweeps,names, gamma_c0, gamma_c)):\n",
    "    plt.subplot(2,3,2+i)\n",
    "    plt.title(name)\n",
    "    plt.axvspan(gc0.n,gc.n, color=(0.9,0.9,0.9), zorder=-1)\n",
    "    plt.axhline(0.25,color=[0.5]*3)\n",
    "    plt.scatter(a[:,0], np.arctan2(a[:,2],a[:,1])/np.pi, facecolors='k')\n",
    "    #plt.scatter(a[:,0], a[:,2], edgecolors='k', facecolors='none')\n",
    "    plt.xscale('log')\n",
    "    #plt.yscale('log')\n",
    "    plt.xlim(1e-3,1e2)\n",
    "    plt.ylim(0,0.5)\n",
    "    plt.xlabel(r'$\\gamma$')\n",
    "    plt.ylabel(r'$\\arctan(G^{\\prime\\prime}/G^\\prime)/\\pi$')\n",
    "plt.tight_layout()"
   ]
  },
  {
   "cell_type": "markdown",
   "metadata": {},
   "source": [
    "## Linear regime till the end\n",
    "\n",
    "In absence of strain, the structure of a polyelectrolyte chain is organised at various scales.\n",
    "\n",
    "The smallest scale is the Kuhn length $b$ containing $g_\\mathrm{K}$ monomers. For a freely joint chain of tetrahedral carbons $b\\approx 367$ pm. Since a monomer counts 2 carbons along the chain $g_\\mathrm{K}\\approx 3/2$.\n",
    "\n",
    "\n",
    "Since we are in bad solvent, the thermal length $\\xi_T$ is larger than $b$. The thermal blob contains $g_T$ monomers and its density is set by the reduced temperature $(g_T/g_\\mathrm{K})/\\xi_T^3 = \\tau/b^3$. Between $b$ and $\\xi_T$ we have a persistent random walk $\\xi_T = b (g_T/g_\\mathrm{K})^{1/2}$. These conditions yields $\\xi_T = b/\\tau$ and $g_T = g_\\mathrm{K}/\\tau^2$."
   ]
  },
  {
   "cell_type": "markdown",
   "metadata": {},
   "source": [
    "At a scale $D$, the electrostatic energy balances the surface energy of the collapsed polymer. We name $g_e$ the number of monomers in the electrostatic blob. If there is a charge every $A$ monomers and there are $g_e/A$ charges in the electrostatic blob. The surface tension is proportional to the number of thermal blobs exposed on the surface $k_\\mathrm{B}T/\\xi_T^2$, with $k_\\mathrm{B}$ is the Boltzmann constant and $T$ the temperature. Thus the balance of energies writes:\n",
    "$$\\left(\\frac{D}{\\xi_T}\\right)^2 = \\left(\\frac{g_e}{A}\\right)^2 \\frac{\\ell_\\mathrm{B}}{D},$$\n",
    "where $\\ell_\\mathrm{B} = e^2/(4\\pi\\epsilon k_\\mathrm{B}T)$ is the Bjerrum length with $e$ the elementary charge, $\\epsilon$ the dielectric constant of the solvent. Since thermal blobs fill the volume of the electrostatic blob $D = \\xi_T \\left(g_e/g_T\\right)^{1/3}$, we obtain\n",
    "$$g_e = \\frac{A^2}{u g_\\mathrm{K}} \\tau, \\qquad D = b\\left(\\frac{A^2}{u g_\\mathrm{K}^2}\\right)^{1/3},\\qquad \\text{with }u = \\ell_\\mathrm{B}/b.$$"
   ]
  },
  {
   "cell_type": "markdown",
   "metadata": {},
   "source": [
    "We define the extension parameter $B$ as the ratio between the length of a chain of $g_e$ monomers fully extended and the actual size of the electrostatic blob: \n",
    "$$B = \\frac{g_e}{g_\\mathrm{K}}\\frac{b}{D} = \\left(\\frac{A^2}{u g_\\mathrm{K}^2}\\right)^{2/3} \\tau$$\n",
    "\n",
    "We want to evaluate $B$ since it is monotonically related to the amount of counterion condensation (at constant solvent quality)."
   ]
  },
  {
   "cell_type": "markdown",
   "metadata": {},
   "source": [
    "It can be convinient to express $g_e$ and $D$ function of $B$:\n",
    "$$g_e = \\left(\\frac{B^3}{\\tau}\\right)^{1/2} g_\\mathrm{K},\\qquad D = b \\left(\\frac{B}{\\tau}\\right)^{1/2}$$"
   ]
  },
  {
   "cell_type": "markdown",
   "metadata": {},
   "source": [
    "Electrostatic repulsion decays with a characteristic length $r_\\mathrm{src}$, the screening length. In general this screening length is set by the concentration of dissociated counterions and the concentration of $c_s$ added salts.\n",
    "Between $D$ and $r_\\mathrm{src}$ the electrostatic blobs are organised in a linear rod containing $g_\\mathrm{src}$ monomers. The length of this rod is $B$ times shorter than if the electrostatic blobs were extended: \n",
    "$$r_\\mathrm{src} = \\frac{g_\\mathrm{src} b}{g_\\mathrm{K}B}$$\n",
    "\n",
    "The last length scale is the correlation length $\\xi$. Between $r_\\mathrm{src}$ and $\\xi$ the chain forms a self avoiding walk of persistence length $r_\\mathrm{src}$.\n",
    "\n",
    "Above the correlation length the polyelectrolyte chain forms a random walk of correlation blobs containing $g=c\\xi^3$ monomers."
   ]
  },
  {
   "cell_type": "markdown",
   "metadata": {},
   "source": [
    "A chain perfoming a random walk or self avoiding walk can be considered an entropic spring of constant stiffness $k_\\mathrm{B}T$. The number density of chains is $c/N$ with $c$ the monomer concentration and $N=n N_0$ the number of monomers between cross-links or entanglements. Therefore, the shear modulus at low strain is given by:\n",
    "$$G = \\frac{c}{N}k_\\mathrm{B}T.$$\n",
    "\n",
    "Conversly, we extract the number $n$ of polymers between crosslinks or entanglements from $G'(\\gamma \\rightarrow 0)$."
   ]
  },
  {
   "cell_type": "code",
   "execution_count": 14,
   "metadata": {
    "collapsed": false
   },
   "outputs": [
    {
     "name": "stdout",
     "output_type": "stream",
     "text": [
      "PImBr:\tn =        843±        12\trelative error: 1.40%\n",
      "PImI:\tn =     120.83±      0.20\trelative error: 0.16%\n",
      "PPyrCl:\tn =      50.48±      0.10\trelative error: 0.20%\n",
      "PPyrBr:\tn =      1.142±     0.005\trelative error: 0.40%\n",
      "PPyrI:\tn =      1.066±     0.004\trelative error: 0.37%\n"
     ]
    }
   ],
   "source": [
    "T = constants.C2K(25)\n",
    "n = c/N0 * constants.k * T / G\n",
    "for name, g in zip(names, n):\n",
    "    print('{}:\\tn = {:10P}\\trelative error: {:0.2f}%'.format(name,g,100*g.s/g.n))"
   ]
  },
  {
   "cell_type": "markdown",
   "metadata": {},
   "source": [
    "As the material is strained, the random walk is stretched, then the self-avoiding walk. When the correlation blobs are fully streched, the chain is a linear assembly of electrostatic blobs. Stretching the chain further means exposing more monomer to the solvent, a process that cannot be reduced to spring of constant stiffness. This condition is thus the limit between the linear and non linear regimes.\n",
    "\n",
    "For all our samples, the linear regime is narrow $\\gamma_0\\approx 10^{-2}\\ll 1$ if existing. It means that the self-avoiding walk is very short and the random walk probably non existent (the chain is too short). In other words the number $N$ of monomer between crosslinks is comparable to $g_\\mathrm{scr}$. We are thus dealing with a semiflexible filament network\\cite{MacKintosh1995,Meng2016}. Shearing a permanent network of semiflexible filaments implies fibrer buckling\\cite{Meng2016} and strong shear thickening. Here the processions are able to break apart (decrease in $G^\\prime$) and reform (maximum in $G^{\\prime\\prime}$). The picture in the plastic regime is even more complex due to stress localisation on the remaining processions. Therefore, we focus on the simpler case of the exit from the linear regime. "
   ]
  },
  {
   "cell_type": "markdown",
   "metadata": {},
   "source": [
    "In dilute solution, the chain is a linear rod of length $$L= \\frac{N b}{g_\\mathrm{K}B}.$$\n",
    "\n",
    "The overlap concentration is thus $$c^* = \\frac{N}{L^3} = \\frac{g_\\mathrm{K}B}{b L^2}.$$\n",
    "\n",
    "Following \\cite{Dobrynin1995}, the screening length in abscence of salt is \n",
    "$$r_\\mathrm{src} = L \\left(\\frac{c^*}{c}\\right)^{1/2} =  \\left(\\frac{g_\\mathrm{K}B}{cb}\\right)^{1/2}$$"
   ]
  },
  {
   "cell_type": "markdown",
   "metadata": {},
   "source": [
    "In the presence of added salt, electrostatic interactions are screened at the Debye length\n",
    "$$r_\\mathrm{src} = \\left(\\ell_\\mathrm{B} c_s\\right)^{-1/2}.$$\n",
    "\n",
    "For arbitrary salt concentration,\n",
    "$$r_\\mathrm{src} = \\left(\\frac{g_\\mathrm{K}B}{cb}\\right)^{1/2} \\left(1+ g_\\mathrm{K}Bu \\frac{c_s}{c}\\right)^{-1/2}.$$"
   ]
  },
  {
   "cell_type": "markdown",
   "metadata": {},
   "source": [
    "We deduce the number of monomers in the rod \n",
    "$$g_\\mathrm{src} = g_\\mathrm{K} B \\frac{r_\\mathrm{src}}{b} = \\left(\\frac{g_\\mathrm{K}^3 B^3}{cb^3}\\right)^{1/2} \\left(1 + g_\\mathrm{K}Bu \\frac{c_s}{c}\\right)^{-1/2}.$$\n",
    "\n",
    "Let us note\n",
    "$$B_s = \\frac{c}{g_\\mathrm{K} u c_s}$$\n",
    "$$B_0 = b c^{1/3} N^{2/3} g_\\mathrm{K}^{-1} = \\frac{bc}{g_\\mathrm{K}} \\left(\\frac{k_\\mathrm{B}T}{G}\\right)^{2/3}$$\n",
    "\n",
    "The condition $g_\\mathrm{src}\\approx N$ writes\n",
    "$$\\left(\\frac{B}{B_0}\\right)^3 = 1 + \\frac{B}{B_s}$$\n",
    "\n",
    "This equation can be solved numerically to yield B. Nonetheless, we identify two physically relevant limit cases:\n",
    "\n",
    "- if $B \\ll B_s$ (low salt condition) then $B = B_0$\n",
    "\n",
    "- if $B \\gg B_s$ (high salt condition) then $B = \\left(\\frac{B_0^3}{B_s}\\right)^{1/2} > B_0$"
   ]
  },
  {
   "cell_type": "markdown",
   "metadata": {},
   "source": [
    "Here, the \"salt\" are the phosphonate heads, that is to say two charges per chain. Thus $c_s/c = 2/N_0$ and $B_s = N_0/2g_\\mathrm{K}u$."
   ]
  },
  {
   "cell_type": "code",
   "execution_count": 15,
   "metadata": {
    "collapsed": false
   },
   "outputs": [
    {
     "name": "stdout",
     "output_type": "stream",
     "text": [
      "Bs = 12.25\n"
     ]
    }
   ],
   "source": [
    "Bs = N0/u/2/gK\n",
    "print('Bs = {:g}'.format(Bs))"
   ]
  },
  {
   "cell_type": "code",
   "execution_count": 16,
   "metadata": {
    "collapsed": false
   },
   "outputs": [
    {
     "name": "stdout",
     "output_type": "stream",
     "text": [
      "Supposing low salt\n",
      "PImBr:\tB0 =      215.3±       2.0 \trelative error: 0.93%\n",
      "PImI:\tB0 =      55.64±      0.06 \trelative error: 0.11%\n",
      "PPyrCl:\tB0 =      35.04±      0.05 \trelative error: 0.13%\n",
      "PPyrBr:\tB0 =      2.625±     0.007 \trelative error: 0.27%\n",
      "PPyrI:\tB0 =      2.368±     0.006 \trelative error: 0.25%\n"
     ]
    }
   ],
   "source": [
    "print('Supposing low salt')\n",
    "B0 = b * c * (constants.k * T / G)**(2/3) / gK\n",
    "for name, g in zip(names, B0):\n",
    "    print('{}:\\tB0 = {:10P} \\trelative error: {:0.2f}%'.format(name,g,100*g.s/g.n))"
   ]
  },
  {
   "cell_type": "code",
   "execution_count": 17,
   "metadata": {
    "collapsed": false
   },
   "outputs": [
    {
     "name": "stdout",
     "output_type": "stream",
     "text": [
      "Supposing high salt\n",
      "PImBr:\tB1 =        903±        13 \trelative error: 1.40%\n",
      "PImI:\tB1 =     118.59±      0.19 \trelative error: 0.16%\n",
      "PPyrCl:\tB1 =      59.25±      0.12 \trelative error: 0.20%\n",
      "PPyrBr:\tB1 =      1.215±     0.005 \trelative error: 0.40%\n",
      "PPyrI:\tB1 =      1.041±     0.004 \trelative error: 0.37%\n"
     ]
    }
   ],
   "source": [
    "print('Supposing high salt')\n",
    "for name, g in zip(names, (B0**3 / Bs)**(1/2)):\n",
    "    print('{}:\\tB1 = {:10P} \\trelative error: {:0.2f}%'.format(name,g,100*g.s/g.n))"
   ]
  },
  {
   "cell_type": "markdown",
   "metadata": {},
   "source": [
    "Numerical solution"
   ]
  },
  {
   "cell_type": "code",
   "execution_count": 18,
   "metadata": {
    "collapsed": false
   },
   "outputs": [
    {
     "name": "stdout",
     "output_type": "stream",
     "text": [
      "PImBr:\tB =        909±        13 \trelative error: 1.39%\n",
      "PImI:\tB =     124.30±      0.19 \trelative error: 0.16%\n",
      "PPyrCl:\tB =      64.62±      0.12 \trelative error: 0.19%\n",
      "PPyrBr:\tB =      2.813±     0.008 \trelative error: 0.28%\n",
      "PPyrI:\tB =      2.521±     0.007 \trelative error: 0.26%\n"
     ]
    },
    {
     "name": "stderr",
     "output_type": "stream",
     "text": [
      "/home/mathieu/anaconda3/lib/python3.5/site-packages/uncertainties/core.py:1538: ComplexWarning: Casting complex values to real discards the imaginary part\n",
      "  self._nominal_value = float(nominal_value)\n"
     ]
    }
   ],
   "source": [
    "B = np.array([\n",
    "        f(2, 1/(b0**3),0,-1/Bs,-1)\n",
    "        for b0 in B0\n",
    "        ])\n",
    "for name, g in zip(names, B):\n",
    "    print('{}:\\tB = {:10P} \\trelative error: {:0.2f}%'.format(name,g,100*g.s/g.n))"
   ]
  },
  {
   "cell_type": "markdown",
   "metadata": {},
   "source": [
    "For the same quality of solvent $B$ is monotonically related to the amount of counterion condensation. We thus confirm that our samples are sorted by decreasing counterion condensation (decreasing $B$). More quantitatively, the number $A$ of monomers between dissociated charges is\n",
    "$$A = u^{1/2} \\left(\\frac{B}{\\tau}\\right)^{3/4} g_\\mathrm{K}$$\n",
    "where $u = b/\\ell_\\mathrm{B}$, with $\\ell_\\mathrm{B} = 0.7$ nm the Bjerrum length in water and $\\tau = 1-T/\\Theta$ the reduced temperature. \n",
    "\n",
    "We know that $\\Theta>100$°C so $0.2<\\tau<1$. In the following we will deduce a more precise measure of $\\tau$ and thus values of $A$."
   ]
  },
  {
   "cell_type": "markdown",
   "metadata": {},
   "source": [
    "## Extention of the electrostatic blobs\n",
    "\n",
    "If we neglect the extension of the self-avoiding walk, appying a strain $\\gamma$ to the material implies stretching the rod to a length $R = (\\gamma+1)N b /B$ and thus exposing more monomers to the solvent. The maximum extention is reached for $R = Nb/g_K$ or $\\gamma+1=B$."
   ]
  },
  {
   "cell_type": "code",
   "execution_count": 19,
   "metadata": {
    "collapsed": false
   },
   "outputs": [
    {
     "data": {
      "text/plain": [
       "array([ True,  True,  True,  True,  True], dtype=bool)"
      ]
     },
     "execution_count": 19,
     "metadata": {},
     "output_type": "execute_result"
    }
   ],
   "source": [
    "gamma_c+1 < B"
   ]
  },
  {
   "cell_type": "markdown",
   "metadata": {},
   "source": [
    "The fully extended self-avoiding walk is a cylinder of length $R_0 = Nb/(B g_K)$, of diameter $D$, of volume $V = R_0 D^2$ and of area $\\Sigma_0 = R_0 D = (R_0 V)^{1/2}$. Extending the cylinder to $R$ while keeping the volume $V$ constant thus creates an extra area \n",
    "$$\\Delta\\Sigma = \\left(\\left(\\gamma +1\\right)^{1/2} -1\\right) \\frac{N b}{g_\\mathrm{K} B}D$$\n",
    "that translates into a stretching energy due to the surface tension $k_\\mathrm{B}T/\\xi_T^2$:\n",
    "$$\\frac{E}{k_\\mathrm{B}T} = \\left(\\left(\\gamma +1\\right)^{1/2} -1\\right) \\frac{N b}{g_\\mathrm{K} B\\xi_T^2}D \n",
    "= \\left(\\left(\\gamma +1\\right)^{1/2} -1\\right) \\frac{N}{g_\\mathrm{K}} \\left(\\frac{\\tau^3}{B}\\right)^{1/2} $$"
   ]
  },
  {
   "cell_type": "markdown",
   "metadata": {},
   "source": [
    "If we consider that the head-to-body bonds break at $\\gamma_c$, we can express the reduced temperature as\n",
    "$$\\tau = B^{1/3} \\left(\\frac{1}{(\\gamma_c +1)^{1/2} -1}\\frac{g_\\mathrm{K}}{N}\\frac{E_c}{k_\\mathrm{B}T}\\right)^{2/3}$$\n",
    "where $E_c$ is the energy of the head-to-body bond.\n",
    "\n",
    "The head-to-body bond consists in two ionic bonds, each typically $5\\pm 1$ kJ/mol in water\\cite{Schneider1992}, thus $E_c\\approx 2 k_\\mathrm{B}T$. However the medium surrounding the ionic bond is not water. One has to keep in mind that the chain is in bad solvent, thus forming locally compact blobs of low water content. Such a low polarity microenvironement is well known to enhance otherwise weak electrostatic interactions in protein folding or engineered self-assembly\\cite{Rehm2010}. We thus expect stronger head-to-body bonds when $B$ is large and the low-polarity environement is extended. A contrario, the weakest ionic links, closest to their strength in water, should be found in \\ce{PPyr+I-} where $B$ is minimum."
   ]
  },
  {
   "cell_type": "code",
   "execution_count": 20,
   "metadata": {
    "collapsed": false
   },
   "outputs": [
    {
     "name": "stdout",
     "output_type": "stream",
     "text": [
      "bonding energy 2.0±0.4 kT\n",
      "tau = 0.31±0.07\trelative error: 21.54%\tTheta >= (1.6±0.4)×10² °C\n"
     ]
    }
   ],
   "source": [
    "Ec0 = uncertainties.ufloat(5e3,1e3) / (constants.N_A* constants.k * T)\n",
    "print('bonding energy {:P} kT'.format(Ec0))\n",
    "tau = B[-1]**(1/3) * (gK * Ec0 / (n[-1] * N0 * ((1+gamma_c[-1])**(1/2) -1)))**(2/3)\n",
    "print('tau = {:P}\\trelative error: {:0.2f}%\\tTheta >= {:P} °C'.format(\n",
    "        tau,\n",
    "        100*tau.s/tau.n, \n",
    "        constants.K2C(T/(1-tau))\n",
    "    ))"
   ]
  },
  {
   "cell_type": "markdown",
   "metadata": {},
   "source": [
    "We can then obtain the bonding energies:"
   ]
  },
  {
   "cell_type": "code",
   "execution_count": 21,
   "metadata": {
    "collapsed": false
   },
   "outputs": [
    {
     "name": "stdout",
     "output_type": "stream",
     "text": [
      "PImBr:\tEc = 84±17 kT = 208.2±41.7 kJ/mol \trelative error: 20.01\n",
      "PImI:\tEc = 33±7 kT = 80.68±16.14 kJ/mol \trelative error: 20.00\n",
      "PPyrCl:\tEc = 19±4 kT = 46.74±9.35 kJ/mol \trelative error: 20.00\n",
      "PPyrBr:\tEc = 2.0±0.4 kT = 5.069±1.014 kJ/mol \trelative error: 20.00\n",
      "PPyrI:\tEc = 2.0±0.4 kT = 5.000±1.000 kJ/mol \trelative error: 20.00\n"
     ]
    }
   ],
   "source": [
    "Ec = ((1+gamma_c[-1])**(1/2) -1) * (n*N0/gK) * (tau**3/B)**(1/2)\n",
    "for name, g in zip(names, Ec):\n",
    "    print('{}:\\tEc = {:P} kT = {:.4P} kJ/mol \\trelative error: {:0.2f}'.format(\n",
    "            name, g, \n",
    "            g * constants.k * T * constants.N_A / 1000, \n",
    "            100*g.s/g.n))"
   ]
  },
  {
   "cell_type": "code",
   "execution_count": 53,
   "metadata": {
    "collapsed": false
   },
   "outputs": [
    {
     "data": {
      "text/plain": [
       "0.8507138184481564+/-0.14917395290990876"
      ]
     },
     "execution_count": 53,
     "metadata": {},
     "output_type": "execute_result"
    }
   ],
   "source": [
    "Ec[0]/140"
   ]
  },
  {
   "cell_type": "markdown",
   "metadata": {},
   "source": [
    "In the most dissociated PPyrI and PPyrBr, the head-to-body bonding energy $E_c$ is within the range of typical ionic bonds, $5\\pm 1$ kJ/mol in water\\cite{Schneider1992}. However the bonding energy increases with increasing counterion condensation to reach 60% of the carbon-carbon single bond (350 kJ/mol or $140 k_\\mathrm{B}T$) in the case of PImBr. Indeed, at high counterion condensation, the electrostatic blobs are large, up to 530 polymers for PImBr, and embed head-to-body bonds into compact blobs of low water content. Such a low polarity microenvironement is well known to enhance otherwise weak electrostatic interactions in protein folding or engineered self-assembly\\cite{Rehm2010}."
   ]
  },
  {
   "cell_type": "markdown",
   "metadata": {},
   "source": [
    "$$g_e = \\left(\\frac{B^3}{\\tau}\\right)^{1/2} g_\\mathrm{K}$$"
   ]
  },
  {
   "cell_type": "code",
   "execution_count": 54,
   "metadata": {
    "collapsed": false
   },
   "outputs": [
    {
     "name": "stdout",
     "output_type": "stream",
     "text": [
      "PImBr:\tge/N0 =    9.4×10²±   0.9×10² \trelative error: 9.45%\n",
      "PImI:\tge/N0 =         48±         4 \trelative error: 9.22%\n",
      "PPyrCl:\tge/N0 =       17.8±       1.6 \trelative error: 9.23%\n",
      "PPyrBr:\tge/N0 =      0.162±     0.015 \trelative error: 9.23%\n",
      "PPyrI:\tge/N0 =      0.137±     0.013 \trelative error: 9.23%\n"
     ]
    }
   ],
   "source": [
    "for name, g in zip(names, (B**3/tau)**(1/2)*gK / N0):\n",
    "    print('{}:\\tge/N0 = {:10P} \\trelative error: {:0.2f}%'.format(name,g,100*g.s/g.n))"
   ]
  },
  {
   "cell_type": "markdown",
   "metadata": {},
   "source": [
    "$$D = \\left(\\frac{B}{\\tau}\\right)^{1/2} b$$"
   ]
  },
  {
   "cell_type": "code",
   "execution_count": 55,
   "metadata": {
    "collapsed": false
   },
   "outputs": [
    {
     "name": "stdout",
     "output_type": "stream",
     "text": [
      "PImBr:\tD/lB =       25.3±       2.3 \trelative error: 9.25%\n",
      "PImI:\tD/lB =        9.4±       0.9 \trelative error: 9.22%\n",
      "PPyrCl:\tD/lB =        6.8±       0.6 \trelative error: 9.22%\n",
      "PPyrBr:\tD/lB =       1.41±      0.13 \trelative error: 9.22%\n",
      "PPyrI:\tD/lB =       1.33±      0.12 \trelative error: 9.22%\n"
     ]
    }
   ],
   "source": [
    "for name, g in zip(names, (B/tau)**(1/2)*b/lB):\n",
    "    print('{}:\\tD/lB = {:10P} \\trelative error: {:0.2f}%'.format(name,g,100*g.s/g.n))"
   ]
  },
  {
   "cell_type": "markdown",
   "metadata": {},
   "source": [
    "Quantitatively, the bonding energy of an ionic bond is inversely proportional to the relative dielectric constant $\\epsilon_r$, therefore we need to suppose a local $\\epsilon_r$ around 2 (typical of water-insoluble polymers) instead of 80 for water to recover the large bonding energy that we measure."
   ]
  },
  {
   "cell_type": "code",
   "execution_count": 56,
   "metadata": {
    "collapsed": false
   },
   "outputs": [
    {
     "data": {
      "text/plain": [
       "1.3548134339374047+/-0.06345437525980205"
      ]
     },
     "execution_count": 56,
     "metadata": {},
     "output_type": "execute_result"
    }
   ],
   "source": [
    "80*Ec[-1]/Ec[0]"
   ]
  },
  {
   "cell_type": "markdown",
   "metadata": {},
   "source": [
    "From this value of $\\tau$ we also obtain $A$"
   ]
  },
  {
   "cell_type": "code",
   "execution_count": 26,
   "metadata": {
    "collapsed": false
   },
   "outputs": [
    {
     "name": "stdout",
     "output_type": "stream",
     "text": [
      "PImBr:\tA = (8.3±1.3)×10²\tN0/A = 0.085±0.014\tA/N0 = 11.8±1.9\trelative error: 16.19\n",
      "PImI:\tA = 186±30\tN0/A = 0.38±0.06\tA/N0 = 2.7±0.4\trelative error: 16.16\n",
      "PPyrCl:\tA = 114±18\tN0/A = 0.61±0.10\tA/N0 = 1.63±0.26\trelative error: 16.16\n",
      "PPyrBr:\tA = 10.9±1.8\tN0/A = 6.4±1.0\tA/N0 = 0.155±0.025\trelative error: 16.16\n",
      "PPyrI:\tA = 10.0±1.6\tN0/A = 7.0±1.1\tA/N0 = 0.143±0.023\trelative error: 16.16\n"
     ]
    }
   ],
   "source": [
    "A = u**(1/2) * gK *(B/tau)**(3/4)\n",
    "for name, g in zip(names, A):\n",
    "    print('{}:\\tA = {:P}\\tN0/A = {:P}\\tA/N0 = {:P}\\trelative error: {:0.2f}'.format(name, g, N0/g, g/N0, 100*g.s/g.n))"
   ]
  },
  {
   "cell_type": "markdown",
   "metadata": {},
   "source": [
    "Whereas in low salt we would have"
   ]
  },
  {
   "cell_type": "code",
   "execution_count": 27,
   "metadata": {
    "collapsed": false
   },
   "outputs": [
    {
     "name": "stdout",
     "output_type": "stream",
     "text": [
      "PImBr:\tA0 = (2.8±0.5)×10²\tN0/A0 = 0.25±0.04\tA0/N0 = 4.0±0.6\trelative error: 16.17\n",
      "PImI:\tA0 = 102±16\tN0/A0 = 0.69±0.11\tA0/N0 = 1.45±0.23\trelative error: 16.16\n",
      "PPyrCl:\tA0 = 72±12\tN0/A0 = 0.97±0.16\tA0/N0 = 1.03±0.17\trelative error: 16.16\n",
      "PPyrBr:\tA0 = 10.3±1.7\tN0/A0 = 6.8±1.1\tA0/N0 = 0.147±0.024\trelative error: 16.16\n",
      "PPyrI:\tA0 = 9.5±1.5\tN0/A0 = 7.3±1.2\tA0/N0 = 0.136±0.022\trelative error: 16.16\n"
     ]
    }
   ],
   "source": [
    "A0 = u**(1/2) * gK *(B0/tau)**(3/4)\n",
    "for name, g in zip(names, A0):\n",
    "    print('{}:\\tA0 = {:P}\\tN0/A0 = {:P}\\tA0/N0 = {:P}\\trelative error: {:0.2f}'.format(name, g, N0/g, g/N0, 100*g.s/g.n))"
   ]
  },
  {
   "cell_type": "markdown",
   "metadata": {},
   "source": [
    "### Some geometry\n",
    "\n",
    "How many monomers are contained in an electrostatic blob ?"
   ]
  },
  {
   "cell_type": "code",
   "execution_count": 28,
   "metadata": {
    "collapsed": false
   },
   "outputs": [
    {
     "name": "stdout",
     "output_type": "stream",
     "text": [
      "PImBr:\tge =  7.396×10⁴± 0.811×10⁴ \trelative error: 10.97%\n",
      "PImI:\tge =       3741±       403 \trelative error: 10.77%\n",
      "PPyrCl:\tge =       1402±       151 \trelative error: 10.77%\n",
      "PPyrBr:\tge =      12.73±      1.37 \trelative error: 10.78%\n",
      "PPyrI:\tge =      10.80±      1.16 \trelative error: 10.78%\n"
     ]
    }
   ],
   "source": [
    "for name, g in zip(names, (B**3/tau)**(1/2)*gK):\n",
    "    print('{}:\\tge = {:10.4P} \\trelative error: {:0.2f}%'.format(name,g,100*g.s/g.n))"
   ]
  },
  {
   "cell_type": "markdown",
   "metadata": {},
   "source": [
    "Or in number of chains per electrostatic blobs"
   ]
  },
  {
   "cell_type": "code",
   "execution_count": 29,
   "metadata": {
    "collapsed": false
   },
   "outputs": [
    {
     "name": "stdout",
     "output_type": "stream",
     "text": [
      "PImBr:\tge/N0 =   1.06×10³±  0.12×10³ \trelative error: 10.97%\n",
      "PImI:\tge/N0 =         53±         6 \trelative error: 10.77%\n",
      "PPyrCl:\tge/N0 =       20.0±       2.2 \trelative error: 10.77%\n",
      "PPyrBr:\tge/N0 =      0.182±     0.020 \trelative error: 10.78%\n",
      "PPyrI:\tge/N0 =      0.154±     0.017 \trelative error: 10.78%\n"
     ]
    }
   ],
   "source": [
    "for name, g in zip(names, (B**3/tau)**(1/2) * gK / N0):\n",
    "    print('{}:\\tge/N0 = {:10P} \\trelative error: {:0.2f}%'.format(name,g,100*g.s/g.n))"
   ]
  },
  {
   "cell_type": "markdown",
   "metadata": {},
   "source": [
    "Number of electrostatic blobs per rod\n",
    "$$\\frac{g_\\mathrm{src}}{g_e} = \\frac{N}{g_\\mathrm{K}} \\frac{B^{3/2}\\tau^{1/2}}{B_0^3} \\left(1 + \\frac{B}{B_s}\\right)^{-1/2} $$"
   ]
  },
  {
   "cell_type": "code",
   "execution_count": 30,
   "metadata": {
    "collapsed": false
   },
   "outputs": [
    {
     "name": "stdout",
     "output_type": "stream",
     "text": [
      "PImBr:\tg_scr/ge = 6.92+/-0.75\n",
      "PImI:\tg_scr/ge = 7.55+/-0.81\n",
      "PPyrCl:\tg_scr/ge = 6.31+/-0.68\n",
      "PPyrBr:\tg_scr/ge = 6.96+/-0.75\n",
      "PPyrI:\tg_scr/ge = 7.59+/-0.82\n"
     ]
    }
   ],
   "source": [
    "for name, g in zip(names, n*N0/gK * B**(3/2) * tau**(1/2)/ B0**3 * (1+B/Bs)**(-1/2)):\n",
    "    print('{}:\\tg_scr/ge = {:0.2f}'.format(name,g))"
   ]
  },
  {
   "cell_type": "markdown",
   "metadata": {
    "collapsed": false
   },
   "source": [
    "Number of chains in a correlation blob\n",
    "$$\\frac{g}{N_0} = \\frac{N}{N_0} \\frac{g}{N} = n\\left(\\frac{B}{B_0}\\right)^{3/2} \\left(1 + \\frac{B}{B_s}\\right)^{3/4}$$\n",
    "does not depend on $\\tau$"
   ]
  },
  {
   "cell_type": "code",
   "execution_count": 31,
   "metadata": {
    "collapsed": false
   },
   "outputs": [
    {
     "name": "stdout",
     "output_type": "stream",
     "text": [
      "PImBr:\tg/N0 =   1.87×10⁵±  0.06×10⁵ \trelative error: 3.11%\n",
      "PImI:\tg/N0 =       2461±         8 \trelative error: 0.34%\n",
      "PPyrCl:\tg/N0 =      501.4±       2.0 \trelative error: 0.40%\n",
      "PPyrBr:\tg/N0 =      1.479±     0.007 \trelative error: 0.46%\n",
      "PPyrI:\tg/N0 =      1.347±     0.006 \trelative error: 0.43%\n"
     ]
    }
   ],
   "source": [
    "for name, g in zip(names, n * (B/B0)**(3/2) * (1+B/Bs)**(3/4)):\n",
    "    print('{}:\\tg/N0 = {:10P} \\trelative error: {:0.2f}%'.format(name,g,100*g.s/g.n))"
   ]
  },
  {
   "cell_type": "markdown",
   "metadata": {},
   "source": [
    "Number of rods in a correlation blob\n",
    "$$\\frac{g}{g_\\mathrm{scr}} = \\left(1 + \\frac{B}{B_s}\\right)^{5/4}$$\n",
    "does not depend on $\\tau$"
   ]
  },
  {
   "cell_type": "code",
   "execution_count": 32,
   "metadata": {
    "collapsed": false
   },
   "outputs": [
    {
     "name": "stdout",
     "output_type": "stream",
     "text": [
      "PImBr:\tg/g_scr =        221±         4 \trelative error: 1.71%\n",
      "PImI:\tg/g_scr =      20.37±      0.04 \trelative error: 0.18%\n",
      "PPyrCl:\tg/g_scr =      9.932±     0.019 \trelative error: 0.20%\n",
      "PPyrBr:\tg/g_scr =     1.2948±    0.0009 \trelative error: 0.07%\n",
      "PPyrI:\tg/g_scr =     1.2635±    0.0007 \trelative error: 0.06%\n"
     ]
    }
   ],
   "source": [
    "for name, g in zip(names, (1+B/Bs)**(5/4)):\n",
    "    print('{}:\\tg/g_scr = {:10P} \\trelative error: {:0.2f}%'.format(name,g,100*g.s/g.n))"
   ]
  },
  {
   "cell_type": "markdown",
   "metadata": {},
   "source": [
    "### Crossing of $D$ and $\\xi_T$\n",
    "\n",
    "$$D = \\xi_T \\Leftrightarrow B^* = \\frac{1}{\\tau} \\Leftrightarrow A^* = \\frac{u^{1/2} g_\\mathrm{K}}{\\tau^{3/2}}$$"
   ]
  },
  {
   "cell_type": "markdown",
   "metadata": {},
   "source": [
    "For $B<B^*$ the polyelectrolyte is heavily charged and monomer attraction due to poor solvent are directly competing with electrostatic repulsion.\n",
    "$$\\left(\\frac{b}{D}\\right)^3\\left(\\frac{g_e}{g_K}\\right)^2 \\tau = \\left(\\frac{ge}{A}\\right)^2 \\frac{\\ell_\\mathrm{B}}{D}$$\n",
    "yielding\n",
    "$$D = b \\left(\\frac{A^2\\tau}{u g_\\mathrm{K}^2}\\right)^{1/2}$$\n",
    "\n",
    "Below $D$ the chain is ideal\n",
    "$$D = b\\left(\\frac{g_e}{g_\\mathrm{K}}\\right)^{1/2} \\Leftrightarrow g_e = \\frac{A^2\\tau}{u g_\\mathrm{K}}$$\n",
    "\n",
    "\n",
    "Therefore\n",
    "$$B = \\frac{g_e}{g_\\mathrm{K}}\\frac{b}{D} = \\left(\\frac{g_e}{g_\\mathrm{K}^2}\\right)^{1/2}, \\qquad D = bB, \\qquad g_e = B^2 g_\\mathrm{K}$$"
   ]
  },
  {
   "cell_type": "markdown",
   "metadata": {},
   "source": [
    "The crossover between high and low charging is well described by\n",
    "$$\\begin{array}{ccl}\n",
    "D = bB (1+B\\tau)^{-1/2} &\\xrightarrow{B\\ll 1/\\tau}& D=bB\\\\\n",
    "&\\xrightarrow{B\\gg 1/\\tau}& D=b(B/\\tau)^{1/2}\n",
    "\\end{array}$$"
   ]
  },
  {
   "cell_type": "markdown",
   "metadata": {},
   "source": [
    "The stretching energy is thus\n",
    "$$\\frac{E}{k_\\mathrm{B}T} = \\left(\\left(\\gamma +1\\right)^{1/2} -1\\right) \\frac{N b}{g_\\mathrm{K} B\\xi_T^2}D \n",
    "= \\left(\\left(\\gamma +1\\right)^{1/2} -1\\right) \\frac{N}{g_\\mathrm{K}} (1+B\\tau)^{-1/2} \\tau^2$$"
   ]
  },
  {
   "cell_type": "markdown",
   "metadata": {},
   "source": [
    "If we consider that the head-to-body bonds break at $\\gamma_c$, the reduced temperature is solution of\n",
    "$$\\left(\\left((\\gamma_c +1)^{1/2} -1\\right)\\frac{k_\\mathrm{B}T}{E_c}\\frac{N}{g_\\mathrm{K}}\\right)^2 \\tau^4 - B\\tau -1 = 0$$\n",
    "where $E_c$ is the energy of the head-to-body bond."
   ]
  },
  {
   "cell_type": "code",
   "execution_count": 52,
   "metadata": {
    "collapsed": false
   },
   "outputs": [
    {
     "name": "stdout",
     "output_type": "stream",
     "text": [
      "tau = 0.39±0.07\trelative error: 18.44%\tTheta >= (2.2±0.6)×10² °C\n"
     ]
    },
    {
     "name": "stderr",
     "output_type": "stream",
     "text": [
      "/home/mathieu/anaconda3/lib/python3.5/site-packages/uncertainties/core.py:1538: ComplexWarning: Casting complex values to real discards the imaginary part\n",
      "  self._nominal_value = float(nominal_value)\n"
     ]
    }
   ],
   "source": [
    "Ec0 = uncertainties.ufloat(5e3,1e3) / (constants.N_A* constants.k * T)\n",
    "tau = f(3, (((1+gamma_c[-1])**(1/2) -1) / Ec0 * (n[-1] * N0) / gK)**2,0,0,-B[-1],-1)\n",
    "print('tau = {:P}\\trelative error: {:0.2f}%\\tTheta >= {:P} °C'.format(\n",
    "        tau,\n",
    "        100*tau.s/tau.n, \n",
    "        constants.K2C(T/(1-tau))\n",
    "    ))"
   ]
  },
  {
   "cell_type": "code",
   "execution_count": 34,
   "metadata": {
    "collapsed": false
   },
   "outputs": [
    {
     "name": "stdout",
     "output_type": "stream",
     "text": [
      "PImBr:\tEc = 119±21 kT = 295.2±51.8 kJ/mol \trelative error: 17.54%\n",
      "PImI:\tEc = 46±8 kT = 113.4±20.0 kJ/mol \trelative error: 17.59%\n",
      "PPyrCl:\tEc = 26±5 kT = 65.10±11.50 kJ/mol \trelative error: 17.67%\n",
      "PPyrBr:\tEc = 2.1±0.4 kT = 5.207±1.034 kJ/mol \trelative error: 19.85%\n",
      "PPyrI:\tEc = 2.0±0.4 kT = 5.000±1.000 kJ/mol \trelative error: 20.00%\n"
     ]
    }
   ],
   "source": [
    "Ec = ((1+gamma_c[-1])**(1/2) -1) * (n*N0/gK) * tau**2 *(1 + B*tau)**(-1/2)\n",
    "for name, g in zip(names, Ec):\n",
    "    print('{}:\\tEc = {:P} kT = {:.4P} kJ/mol \\trelative error: {:0.2f}%'.format(\n",
    "            name, g, \n",
    "            g * constants.k * T * constants.N_A / 1000, \n",
    "            100*g.s/g.n))"
   ]
  },
  {
   "cell_type": "code",
   "execution_count": 58,
   "metadata": {
    "collapsed": false
   },
   "outputs": [
    {
     "name": "stdout",
     "output_type": "stream",
     "text": [
      "PImBr:\tA = (6.9±1.0)×10²\tN0/A = 0.101±0.014\tA/N0 = 9.9±1.4\trelative error: 13.86\n",
      "PImI:\tA = 155±21\tN0/A = 0.45±0.06\tA/N0 = 2.22±0.30\trelative error: 13.74\n",
      "PPyrCl:\tA = 95±13\tN0/A = 0.74±0.10\tA/N0 = 1.35±0.18\trelative error: 13.66\n",
      "PPyrBr:\tA = 7.7±0.9\tN0/A = 9.0±1.1\tA/N0 = 0.111±0.013\trelative error: 11.64\n",
      "PPyrI:\tA = 7.0±0.8\tN0/A = 9.9±1.1\tA/N0 = 0.101±0.012\trelative error: 11.51\n"
     ]
    }
   ],
   "source": [
    "A = u**(1/2) * gK * B/tau**(1/2)* (1 + B*tau)**(-1/4)\n",
    "for name, g in zip(names, A):\n",
    "    print('{}:\\tA = {:P}\\tN0/A = {:P}\\tA/N0 = {:P}\\trelative error: {:0.2f}'.format(name, g, N0/g, g/N0, 100*g.s/g.n))"
   ]
  },
  {
   "cell_type": "markdown",
   "metadata": {},
   "source": [
    "$$A_s = u^{1/2} \\left(\\frac{B_s}{\\tau}\\right)^{3/4} g_\\mathrm{K} \n",
    "= \\left(\\frac{g_\\mathrm{K}}{u}\\right)^{1/4} \\left(\\frac{N_0}{2\\tau}\\right)^{3/4}$$\n",
    "\n",
    "Crossing of $D$ and $r_\\mathrm{scr}$:\n",
    "$$\n",
    "D = r_\\mathrm{scr} \\Leftrightarrow B = B_s\\left(\\frac{g_\\mathrm{K}\\tau}{c b^3} -1\\right)\n",
    "\\Leftrightarrow A = A_s\\left(\\frac{g_\\mathrm{K}\\tau}{c b^3} -1\\right)^{3/4}\n",
    "$$\n",
    "\n",
    "Check that $D<r_\\mathrm{scr}$"
   ]
  },
  {
   "cell_type": "code",
   "execution_count": 35,
   "metadata": {
    "collapsed": false
   },
   "outputs": [
    {
     "data": {
      "text/plain": [
       "array([False,  True,  True,  True,  True], dtype=bool)"
      ]
     },
     "execution_count": 35,
     "metadata": {},
     "output_type": "execute_result"
    }
   ],
   "source": [
    "B < Bs * (gK*tau/c/b**3 - 1)"
   ]
  },
  {
   "cell_type": "code",
   "execution_count": 47,
   "metadata": {
    "collapsed": false
   },
   "outputs": [
    {
     "data": {
      "text/plain": [
       "(1, 1000.0)"
      ]
     },
     "execution_count": 47,
     "metadata": {},
     "output_type": "execute_result"
    },
    {
     "data": {
      "image/png": "[encoded data removed]",
      "text/plain": [
       "<matplotlib.figure.Figure at 0x7f69312c0278>"
      ]
     },
     "metadata": {},
     "output_type": "display_data"
    }
   ],
   "source": [
    "As = (gK/u)**(1/4) * (N0/2/tau)**(3/4)\n",
    "AAs = 2.0**np.arange(11)\n",
    "AAs[-1] = As.n * (gK*tau.n/c[0]/b**3 -1)**(3/4)\n",
    "AAs[3] = u**(1/2) * gK / tau.n**(3/2) * ((1+5**(1/2))/2)**(3/4)\n",
    "BBs = (AAs**2/u/gK**2)**(2/3) * tau.n\n",
    "Ds = b * BBs * (1 + BBs*tau.n)**(-1/2)\n",
    "#Ds = np.where(AAs<AAs[3], b * BBs, b * (BBs/tau.n)**(1/2))\n",
    "rscr = (BBs*gK/c[0]/b)**(1/2) * (1 + BBs/Bs)**(-1/2)\n",
    "xi = (BBs*gK/c[0]/b)**(1/2) * (1 + BBs/Bs)**(1/4)\n",
    "for BB in B:\n",
    "    plt.axvline(BB.n, color='k')\n",
    "#for AA in A2:\n",
    " #   plt.axvline(AA.n, color='r')\n",
    "\n",
    "yM = 1e3\n",
    "    \n",
    "#compact region\n",
    "col = [0.5]*3\n",
    "plt.fill_betweenx(Ds[3:]/b, BBs[3:], 1e4, color=col)\n",
    "plt.fill_between([BBs[-2], 1e4], (lB*2/N0*c[0])**(-1/2)/b, yM, color=col)\n",
    "#random walk\n",
    "col = [0.7]*3\n",
    "plt.fill_betweenx(Ds[:4]/b, BBs[:4], 1e4, color=col)\n",
    "plt.fill_between(BBs, xi/b, yM, color=col)\n",
    "#self avoiding walk\n",
    "col = [0.9]*3\n",
    "plt.fill_between(BBs, rscr/b, xi/b, color=col)\n",
    "plt.axhline(1/tau.n, label=r'thermal $\\xi_T$')\n",
    "plt.axhline(lB/b, ls='--', label=r'Bjerrum $\\ell_\\mathrm{B}$')\n",
    "plt.axhline((lB*2/N0*c[0])**(-1/2)/b, ls='--', label='Debye')\n",
    "#plt.plot(BBs, Ds/b, label=r'electrostatic $D$')\n",
    "#plt.plot(BBs, rscr/b, label=r'screening $r_\\mathrm{scr}$')\n",
    "#plt.plot(AAs, xi/b, label=r'correlation $\\xi$')\n",
    "plt.xscale('log')\n",
    "plt.yscale('log')\n",
    "plt.xlabel('B')\n",
    "plt.ylabel('length/b')\n",
    "plt.xlim(BBs[0],1e3)\n",
    "plt.ylim(1,yM)"
   ]
  },
  {
   "cell_type": "code",
   "execution_count": 49,
   "metadata": {
    "collapsed": false
   },
   "outputs": [
    {
     "data": {
      "text/plain": [
       "(1, 100.0)"
      ]
     },
     "execution_count": 49,
     "metadata": {},
     "output_type": "execute_result"
    },
    {
     "data": {
      "image/png": "[encoded data removed]",
      "text/plain": [
       "<matplotlib.figure.Figure at 0x7f6930ea45f8>"
      ]
     },
     "metadata": {},
     "output_type": "display_data"
    }
   ],
   "source": [
    "for AA in A:\n",
    "    plt.axvline(AA.n, color='k')\n",
    "\n",
    "#compact region\n",
    "col = [0.5]*3\n",
    "plt.fill_betweenx(Ds[3:]/b, AAs[3:], 1e3, color=col)\n",
    "plt.fill_between([AAs[-1], 1e3], (lB*2/N0*c[0])**(-1/2)/b, 1e2, color=col)\n",
    "#random walk\n",
    "col = [0.7]*3\n",
    "plt.fill_betweenx(Ds[:4]/b, AAs[:4], 1e3, color=col)\n",
    "plt.fill_between(AAs, xi/b, 1e2, color=col)\n",
    "#self avoiding walk\n",
    "col = [0.9]*3\n",
    "plt.fill_between(AAs, rscr/b, xi/b, color=col)\n",
    "plt.axhline(1/tau.n, label=r'thermal $\\xi_T$')\n",
    "plt.axhline(lB/b, ls='--', label=r'Bjerrum $\\ell_\\mathrm{B}$')\n",
    "plt.axhline((lB*2/N0*c[0])**(-1/2)/b, ls='--', label='Debye')\n",
    "#plt.plot(AAs, Ds/b, label=r'electrostatic $D$')\n",
    "#plt.plot(AAs, rscr/b, label=r'screening $r_\\mathrm{scr}$')\n",
    "#plt.plot(AAs, xi/b, label=r'correlation $\\xi$')\n",
    "plt.xscale('log')\n",
    "plt.yscale('log')\n",
    "plt.xlabel('A')\n",
    "plt.ylabel('length/b')\n",
    "plt.ylim(1,1e2)"
   ]
  },
  {
   "cell_type": "code",
   "execution_count": 42,
   "metadata": {
    "collapsed": false
   },
   "outputs": [
    {
     "data": {
      "text/plain": [
       "(6.6351852492036585,\n",
       " 2.1738402720050654,\n",
       " 0.32762314695975747,\n",
       " 3.052287389580662)"
      ]
     },
     "execution_count": 42,
     "metadata": {},
     "output_type": "execute_result"
    }
   ],
   "source": [
    "AAs[3], 1/tau.n, (1/u/gK**2 * tau.n)**(1/2), u**(1/2)*gK / tau.n**(1/2)"
   ]
  },
  {
   "cell_type": "code",
   "execution_count": 53,
   "metadata": {
    "collapsed": false
   },
   "outputs": [
    {
     "data": {
      "text/plain": [
       "(591.46814629920243, 43.379029893969232)"
      ]
     },
     "execution_count": 53,
     "metadata": {},
     "output_type": "execute_result"
    }
   ],
   "source": [
    "AAs[-1], Ds[-1]/b"
   ]
  },
  {
   "cell_type": "code",
   "execution_count": 175,
   "metadata": {
    "collapsed": false
   },
   "outputs": [
    {
     "data": {
      "text/plain": [
       "(6.3680760907077563, 17.904654796015073)"
      ]
     },
     "execution_count": 175,
     "metadata": {},
     "output_type": "execute_result"
    }
   ],
   "source": [
    "(gK/u)**(1/3) * (tau.n/c[0]/b)**(1/2)/b, (N0/2/tau.n)**(3/4)/u**(1/4)/gK**(1/2)"
   ]
  },
  {
   "cell_type": "code",
   "execution_count": 176,
   "metadata": {
    "collapsed": false
   },
   "outputs": [
    {
     "data": {
      "text/plain": [
       "(1.9047619047619044, 43.583176380685231)"
      ]
     },
     "execution_count": 176,
     "metadata": {},
     "output_type": "execute_result"
    }
   ],
   "source": [
    "lB/b, (lB*2/N0*c[0])**(-1/2)/b"
   ]
  },
  {
   "cell_type": "code",
   "execution_count": 76,
   "metadata": {
    "collapsed": false
   },
   "outputs": [
    {
     "data": {
      "text/plain": [
       "(1, 100000.0)"
      ]
     },
     "execution_count": 76,
     "metadata": {},
     "output_type": "execute_result"
    },
    {
     "data": {
      "image/png": "[encoded data removed]",
      "text/plain": [
       "<matplotlib.figure.Figure at 0x7fd696318358>"
      ]
     },
     "metadata": {},
     "output_type": "display_data"
    }
   ],
   "source": [
    "#AAs = 2.0**np.arange(11)\n",
    "#AAs[-1] = u**(1/2) * (gK**2 * tau.n / b**3 / c[0] - 1)**(3/4) * (Bs/tau.n)**(3/4) * gK**(1/4) \n",
    "#AAs[3] = u**(1/2) * gK / tau.n**(3/2)\n",
    "#BBs = (AAs**2/u)**(2/3) / gK**(1/3) * tau.n\n",
    "ge = AAs**2/u/gK * tau.n\n",
    "gscr = BBs * rscr/b * gK #(BBs**3 * gK**3 / c[0] / b**3)**(1/2) * (1 + BBs/Bs)**(-1/2)\n",
    "g = (BBs**3 * gK**3 / c[0] / b**3)**(1/2) * (1 + BBs/Bs)**(1/4)\n",
    "for AA in A:\n",
    "    plt.axvline(AA.n, color='k')\n",
    "\n",
    "#compact region\n",
    "col = [0.5]*3\n",
    "plt.fill_betweenx(ge[3:], AAs[3:], 1e3, color=col)\n",
    "plt.fill_between([AAs[-1], 1e3], (gK**2*tau.n/c[0]/b**3 -1)**(3/2) * Bs**(3/2) * (tau.n/gK)**(1/2), 1e6, color=col)\n",
    "#random walk\n",
    "col = [0.7]*3\n",
    "plt.fill_betweenx(ge[:4], AAs[:4], 1e3, color=col)\n",
    "plt.fill_between(AAs, g, 1e6, color=col)\n",
    "#self avoiding walk\n",
    "col = [0.9]*3\n",
    "plt.fill_between(AAs, gscr, g, color=col)\n",
    "plt.axhline(gK, label=r'Kuhn $g_K$')\n",
    "plt.axhline(gK/tau.n**2, label=r'thermal $g_T$')\n",
    "#plt.axhline(lB/b, ls='--', label=r'Bjerrum $\\ell_\\mathrm{B}$')\n",
    "#plt.axhline((lB*2/N0*c[0])**(-1/2)/b, ls='--', label='Debye')\n",
    "#plt.plot(AAs, ge, label=r'electrostatic $g_e$')\n",
    "#plt.plot(AAs, gscr, label=r'screening $g_\\mathrm{scr}$')\n",
    "#plt.plot(AAs, g, label=r'correlation $g$')\n",
    "plt.xscale('log')\n",
    "plt.yscale('log')\n",
    "plt.xlabel('A')\n",
    "plt.ylabel('#')\n",
    "plt.ylim(1,1e5)"
   ]
  },
  {
   "cell_type": "markdown",
   "metadata": {},
   "source": [
    "The condition $D = r_\\mathrm{scr}$ does not give $g_e = g_\\mathrm{scr}$. Lengths cross before numbers."
   ]
  },
  {
   "cell_type": "markdown",
   "metadata": {},
   "source": [
    "#### Are PPyrI and PPyrBr in a different regime?\n",
    "\n",
    "When the polyelectrolyte is heavily charged, monomer attraction due to poor solvent are directly competing with electrostatic repulsion.\n",
    "$$\\left(\\frac{b}{D}\\right)^3\\left(\\frac{g_e}{g_K}\\right)^2 \\tau = \\left(\\frac{ge}{A}\\right)^2 \\frac{\\ell_\\mathrm{B}}{D}$$\n",
    "yielding\n",
    "$$D = b \\left(\\frac{A^2\\tau}{u g_\\mathrm{K}^2}\\right)^{1/2}$$\n",
    "\n",
    "Below $D$ the chain is ideal\n",
    "$$D = b\\left(\\frac{g_e}{g_\\mathrm{K}}\\right)^{1/2} \\Leftrightarrow g_e = \\frac{A^2\\tau}{u g_\\mathrm{K}}$$\n",
    "\n",
    "\n",
    "Therefore\n",
    "$$B = \\frac{g_e}{g_\\mathrm{K}}\\frac{b}{D} = \\left(\\frac{g_e}{g_\\mathrm{K}^2}\\right)^{1/2}, \\qquad D = bB, \\qquad g_e = B^2 g_\\mathrm{K}$$"
   ]
  },
  {
   "cell_type": "markdown",
   "metadata": {},
   "source": [
    "Limit with the other regime is when $D=\\xi_T \\Leftrightarrow b\\left(\\frac{B}{g_\\mathrm{K}^3\\tau}\\right)^{1/2} = b/\\tau \\Leftrightarrow B = g_\\mathrm{K}^3/\\tau$"
   ]
  },
  {
   "cell_type": "code",
   "execution_count": 117,
   "metadata": {
    "collapsed": false
   },
   "outputs": [
    {
     "data": {
      "text/plain": [
       "array([False, False, False,  True,  True], dtype=bool)"
      ]
     },
     "execution_count": 117,
     "metadata": {},
     "output_type": "execute_result"
    }
   ],
   "source": [
    "B<1/tau"
   ]
  },
  {
   "cell_type": "code",
   "execution_count": 118,
   "metadata": {
    "collapsed": false
   },
   "outputs": [
    {
     "data": {
      "text/plain": [
       "array([ True, False, False, False, False], dtype=bool)"
      ]
     },
     "execution_count": 118,
     "metadata": {},
     "output_type": "execute_result"
    }
   ],
   "source": [
    "B > Bs*(gK*tau/c/b**3 -1)"
   ]
  },
  {
   "cell_type": "code",
   "execution_count": 86,
   "metadata": {
    "collapsed": false
   },
   "outputs": [
    {
     "name": "stdout",
     "output_type": "stream",
     "text": [
      "PImBr:\tA = (4.6±0.7)×10²\tN0/A = 0.152±0.025\tA/N0 = 6.6±1.1\trelative error: 16.19\n",
      "PImI:\tA = 103±17\tN0/A = 0.68±0.11\tA/N0 = 1.47±0.24\trelative error: 16.16\n",
      "PPyrCl:\tA = 62±10\tN0/A = 1.12±0.18\tA/N0 = 0.89±0.14\trelative error: 16.16\n",
      "PPyrBr:\tA = 8.7±0.9\tN0/A = 8.1±0.9\tA/N0 = 0.124±0.013\trelative error: 10.77\n",
      "PPyrI:\tA = 7.8±0.8\tN0/A = 9.0±1.0\tA/N0 = 0.111±0.012\trelative error: 10.78\n"
     ]
    }
   ],
   "source": [
    "A2 = u**(1/2) * gK * B/tau**(1/2)\n",
    "for name, g in zip(names, np.where(B < gK**3/tau, A2, A)):\n",
    "    print('{}:\\tA = {:P}\\tN0/A = {:P}\\tA/N0 = {:P}\\trelative error: {:0.2f}'.format(name, g, N0/g, g/N0, 100*g.s/g.n))"
   ]
  },
  {
   "cell_type": "code",
   "execution_count": 90,
   "metadata": {
    "collapsed": false
   },
   "outputs": [
    {
     "data": {
      "text/plain": [
       "(1, 100.0)"
      ]
     },
     "execution_count": 90,
     "metadata": {},
     "output_type": "execute_result"
    },
    {
     "data": {
      "image/png": "[encoded data removed]",
      "text/plain": [
       "<matplotlib.figure.Figure at 0x7fd695cd9518>"
      ]
     },
     "metadata": {},
     "output_type": "display_data"
    }
   ],
   "source": [
    "AAs = 2.0**np.arange(11)\n",
    "AAs[-1] = u**(1/2) * (gK**2 * tau.n / b**3 / c[-1] - 1)**(3/4) * (Bs/tau.n)**(3/4) * gK**(1/4) \n",
    "AAs[3] = u**(1/2) * gK / tau.n**(3/2)\n",
    "BBs = (AAs**2/u)**(2/3) * gK**(-1/3) * tau.n\n",
    "Ds = np.where(\n",
    "    AAs<AAs[3],\n",
    "    b * BBs,#(AAs**2/u/gK**2 * tau.n)**(1/2),\n",
    "    b * (AAs**2/u/gK**2)**(1/3)\n",
    "    )\n",
    "rscr = (BBs*gK/c[-1]/b)**(1/2) * (1 + BBs/Bs)**(-1/2)\n",
    "xi = (BBs*gK/c[-1]/b)**(1/2) * (1 + BBs/Bs)**(1/4)\n",
    "for AA in A:\n",
    "    plt.axvline(AA.n, color='k')\n",
    "for AA in A2:\n",
    "    plt.axvline(AA.n, color='r')\n",
    "\n",
    "#compact region\n",
    "col = [0.5]*3\n",
    "plt.fill_betweenx(Ds[3:]/b, AAs[3:], 1e3, color=col)\n",
    "plt.fill_between([AAs[-1], 1e3], (lB*2/N0*c[-1])**(-1/2)/b, 1e2, color=col)\n",
    "#random walk\n",
    "col = [0.7]*3\n",
    "plt.fill_betweenx(Ds[:4]/b, AAs[:4], 1e3, color=col)\n",
    "plt.fill_between(AAs, xi/b, 1e2, color=col)\n",
    "#self avoiding walk\n",
    "col = [0.9]*3\n",
    "plt.fill_between(AAs, rscr/b, xi/b, color=col)\n",
    "plt.axhline(1/tau.n, label=r'thermal $\\xi_T$')\n",
    "plt.axhline(lB/b, ls='--', label=r'Bjerrum $\\ell_\\mathrm{B}$')\n",
    "plt.axhline((lB*2/N0*c[-1])**(-1/2)/b, ls='--', label='Debye')\n",
    "plt.plot(AAs, Ds/b, label=r'electrostatic $D$')\n",
    "plt.plot(AAs, rscr/b, label=r'screening $r_\\mathrm{scr}$')\n",
    "#plt.plot(AAs, xi/b, label=r'correlation $\\xi$')\n",
    "plt.xscale('log')\n",
    "plt.yscale('log')\n",
    "plt.xlabel('A')\n",
    "plt.ylabel('length/b')\n",
    "plt.ylim(1,1e2)"
   ]
  },
  {
   "cell_type": "code",
   "execution_count": 96,
   "metadata": {
    "collapsed": false
   },
   "outputs": [
    {
     "data": {
      "text/plain": [
       "(1, 100.0)"
      ]
     },
     "execution_count": 96,
     "metadata": {},
     "output_type": "execute_result"
    },
    {
     "data": {
      "image/png": "[encoded data removed]",
      "text/plain": [
       "<matplotlib.figure.Figure at 0x7fd695d9b198>"
      ]
     },
     "metadata": {},
     "output_type": "display_data"
    }
   ],
   "source": [
    "AAs = 2.0**np.arange(11)\n",
    "AAs[-1] = u**(1/2) * (gK**2 * tau.n / b**3 / c[-1] - 1)**(3/4) * (Bs/tau.n)**(3/4) * gK**(1/4) \n",
    "AAs[3] = u**(1/2) * gK / tau.n**(3/2)\n",
    "BBs = (AAs**2/u)**(2/3) * gK**(-1/3) * tau.n\n",
    "Ds = np.where(\n",
    "    AAs<AAs[3],\n",
    "    b * BBs,#(AAs**2/u/gK**2 * tau.n)**(1/2),\n",
    "    b * (AAs**2/u/gK**2)**(1/3)\n",
    "    )\n",
    "rscr = (BBs*gK/c[-1]/b)**(1/2) * (1 + BBs/Bs)**(-1/2)\n",
    "xi = (BBs*gK/c[-1]/b)**(1/2) * (1 + BBs/Bs)**(1/4)\n",
    "for BB in B:\n",
    "    plt.axvline(BB.n, color='k')\n",
    "#for AA in A2:\n",
    " #   plt.axvline(AA.n, color='r')\n",
    "\n",
    "#compact region\n",
    "col = [0.5]*3\n",
    "plt.fill_betweenx(Ds[3:]/b, BBs[3:], 1e4, color=col)\n",
    "plt.fill_between([BBs[-1], 1e4], (lB*2/N0*c[-1])**(-1/2)/b, 1e2, color=col)\n",
    "#random walk\n",
    "col = [0.7]*3\n",
    "plt.fill_betweenx(Ds[:4]/b, BBs[:4], 1e4, color=col)\n",
    "plt.fill_between(BBs, xi/b, 1e2, color=col)\n",
    "#self avoiding walk\n",
    "col = [0.9]*3\n",
    "plt.fill_between(BBs, rscr/b, xi/b, color=col)\n",
    "plt.axhline(1/tau.n, label=r'thermal $\\xi_T$')\n",
    "plt.axhline(lB/b, ls='--', label=r'Bjerrum $\\ell_\\mathrm{B}$')\n",
    "plt.axhline((lB*2/N0*c[-1])**(-1/2)/b, ls='--', label='Debye')\n",
    "plt.plot(BBs, Ds/b, label=r'electrostatic $D$')\n",
    "plt.plot(BBs, rscr/b, label=r'screening $r_\\mathrm{scr}$')\n",
    "#plt.plot(AAs, xi/b, label=r'correlation $\\xi$')\n",
    "plt.xscale('log')\n",
    "plt.yscale('log')\n",
    "plt.xlabel('B')\n",
    "plt.ylabel('length/b')\n",
    "plt.xlim(BBs[0],1e4)\n",
    "plt.ylim(1,1e2)"
   ]
  },
  {
   "cell_type": "markdown",
   "metadata": {},
   "source": [
    "### Estimating $\\tau$ from relative size of thermal and electrostatic blobs"
   ]
  },
  {
   "cell_type": "code",
   "execution_count": 20,
   "metadata": {
    "collapsed": false
   },
   "outputs": [
    {
     "data": {
      "text/plain": [
       "<matplotlib.text.Text at 0x7fa3770d9f60>"
      ]
     },
     "execution_count": 20,
     "metadata": {},
     "output_type": "execute_result"
    },
    {
     "data": {
      "image/png": "[encoded data removed]",
      "text/plain": [
       "<matplotlib.figure.Figure at 0x7fa377626b70>"
      ]
     },
     "metadata": {},
     "output_type": "display_data"
    }
   ],
   "source": [
    "taus = np.linspace(0.2,1)\n",
    "plt.axhline(gK, color='k', label=r'$g_K$')\n",
    "plt.plot(taus, gK/taus**2, 'k--', label=r'$g_T$')\n",
    "for name, BB in zip(names, B):\n",
    "    plt.plot(taus, (BB.n**3 /gK/taus)**(1/2), label=r'$g_e$ '+name)\n",
    "plt.legend(loc='upper right')\n",
    "plt.yscale('log')\n",
    "plt.xlabel(r'$\\tau$')\n",
    "plt.ylabel('#monomers')"
   ]
  },
  {
   "cell_type": "markdown",
   "metadata": {},
   "source": [
    "We express $g_e$ function of $B$ and $\\tau$:\n",
    "$$g_e = \\left(\\frac{B^3}{g_\\mathrm{K}\\tau}\\right)^{1/2}$$\n",
    "\n",
    "For the theory to be correct, we need the electrostatic length to be larger than the thermal length, in other words\n",
    "$$g_e \\geq g_T \\Leftrightarrow \\tau \\geq \\frac{g_\\mathrm{K}}{B}$$\n",
    "\n",
    "This condition it the most stringent for PPyrI (smallest $B$) and yields:"
   ]
  },
  {
   "cell_type": "code",
   "execution_count": 21,
   "metadata": {
    "collapsed": false
   },
   "outputs": [
    {
     "name": "stdout",
     "output_type": "stream",
     "text": [
      "tau > 0.5883±0.0016\trelative error: 0.27%\tTheta >= 451.0±2.8 °C\n"
     ]
    }
   ],
   "source": [
    "tau2 = gK/B[-1]\n",
    "print('tau > {:P}\\trelative error: {:0.2f}%\\tTheta >= {:P} °C'.format(tau2, 100*tau2.s/tau2.n, constants.K2C(T/(1-tau2))))"
   ]
  },
  {
   "cell_type": "code",
   "execution_count": 46,
   "metadata": {
    "collapsed": false
   },
   "outputs": [
    {
     "data": {
      "image/png": "[encoded data removed]",
      "text/plain": [
       "<matplotlib.figure.Figure at 0x7fa376e006d8>"
      ]
     },
     "metadata": {},
     "output_type": "display_data"
    }
   ],
   "source": [
    "plt.figure(figsize=(10,6))\n",
    "for i,(a,name, gc0, gc,gth) in enumerate(zip(sweeps,names, gamma_c0, gamma_c, (Ec0/(n*N0) * (B/tau**3)**(1/2) + 1)**2 -1)):\n",
    "    plt.subplot(2,3,2+i)\n",
    "    plt.title(name)\n",
    "    plt.axvspan(gc0.n,gc.n, color=(0.9,0.9,0.9), zorder=-1)\n",
    "    plt.axhline(a[0,1],color=[0.5]*3)\n",
    "    plt.axvline(gth.n,color=[0.5]*3)\n",
    "    plt.scatter(a[:,0], a[:,1], facecolors='k')\n",
    "    plt.scatter(a[:,0], a[:,2], edgecolors='k', facecolors='none')\n",
    "    plt.plot(a[:,0], a[np.argmax(a[:,1]),2] + 0.25*(a[:,1].max() - a[:,1]))\n",
    "    plt.xscale('log')\n",
    "    plt.yscale('log')\n",
    "    plt.xlim(1e-3,1e2)\n",
    "    plt.ylim(1e-1,3e4)\n",
    "    plt.xlabel(r'$\\gamma$')\n",
    "    plt.ylabel(r'$G^\\prime,\\, G^{\\prime\\prime}$')\n",
    "plt.tight_layout()"
   ]
  },
  {
   "cell_type": "code",
   "execution_count": 25,
   "metadata": {
    "collapsed": false
   },
   "outputs": [
    {
     "data": {
      "image/png": "[encoded data removed]",
      "text/plain": [
       "<matplotlib.figure.Figure at 0x7f19eab73438>"
      ]
     },
     "metadata": {},
     "output_type": "display_data"
    }
   ],
   "source": [
    "plt.figure(figsize=(10,6))\n",
    "for i,(a,g,gc,g0) in enumerate(zip(sweeps, G,gamma_c, [1.25e-1,4e-3,2e-2,3e-3,3e-3])):\n",
    "    plt.subplot(2,3,2+i)\n",
    "    plt.plot(a[:,0], np.gradient(a[:,2]), 'k^')\n",
    "    plt.axhline(0, color='k')\n",
    "    plt.axvline(gc.n, color='b')\n",
    "    plt.axvline(g0, color='g')\n",
    "    plt.xscale('log')\n",
    "    plt.xlim(1e-3,1e2)\n",
    "plt.tight_layout()"
   ]
  },
  {
   "cell_type": "code",
   "execution_count": 56,
   "metadata": {
    "collapsed": false
   },
   "outputs": [
    {
     "data": {
      "image/png": "[encoded data removed]",
      "text/plain": [
       "<matplotlib.figure.Figure at 0x7f19eb733da0>"
      ]
     },
     "metadata": {},
     "output_type": "display_data"
    }
   ],
   "source": [
    "plt.figure(figsize=(10,6))\n",
    "for i,a in enumerate(sweeps):\n",
    "    plt.subplot(2,3,2+i)\n",
    "    gg = np.abs(a[:,1]+1j*a[:,1])\n",
    "    plt.plot(a[:,0], gg/gg[0], 'ko')\n",
    "    plt.plot(a[:,0], a[:,2]/a[0,2]/(gg/gg[0]), '*r')\n",
    "    plt.plot(a[:,0], (a[:,0]+1)**(1/2), 'b-')\n",
    "    plt.xscale('log')\n",
    "    plt.yscale('log')\n",
    "    plt.xlim(1e-3,1e2)\n",
    "    #plt.ylim(1e-1,3e4)\n",
    "    plt.xlabel(r'$\\gamma$')\n",
    "    plt.ylabel(r'$G^\\prime$')\n",
    "plt.tight_layout()"
   ]
  },
  {
   "cell_type": "markdown",
   "metadata": {},
   "source": [
    "### Extention thresholds function of B\n",
    "\n",
    "$$\\begin{array}{rcl}\n",
    "\\gamma_0+1 &=& \\left(\\frac{N}{g}\\right)^{1/2}\\\\\n",
    "\\gamma_1+1 &=& \\left(\\frac{N}{g}\\right)^{1/2} \\left(\\frac{g}{g_\\mathrm{scr}}\\right)^{2/5}\\\\\n",
    "\\gamma_2+1 &=& \\left(\\frac{N}{g}\\right)^{1/2} \\left(\\frac{g}{g_\\mathrm{scr}}\\right)^{2/5} B\n",
    "\\end{array}$$"
   ]
  },
  {
   "cell_type": "code",
   "execution_count": 101,
   "metadata": {
    "collapsed": false
   },
   "outputs": [
    {
     "data": {
      "image/png": "[encoded data removed]",
      "text/plain": [
       "<matplotlib.figure.Figure at 0x7f19eb6ca1d0>"
      ]
     },
     "metadata": {},
     "output_type": "display_data"
    }
   ],
   "source": [
    "plt.figure(figsize=(10,6))\n",
    "for i,(BB,nn,cc, gc) in enumerate(zip(B0, n, c, [8e-3,4e-3,2e-2,3e-3,3e-3])):\n",
    "    plt.subplot(2,3,2+i)\n",
    "    Bs = np.logspace(0,np.log10(BB.n),200, base=10)\n",
    "    gamma_0 = (nn*N0 / (Bs**3/(cc*b**3) * (1 + Bs*u*2/N0)**(3/4)))**(1/2) - 1\n",
    "    gamma_1 = np.where(\n",
    "        gamma_0>0, \n",
    "        (gamma_0+1) * (1 + Bs*u*2/N0)**(1/2),\n",
    "        ((nn*N0)**2 * b**3 / cc / Bs**3 * (1 + Bs*u*2/N0))**(1/5)\n",
    "        ) -1\n",
    "    gamma_2 = np.maximum(1, (gamma_1+1)) * Bs -1\n",
    "    plt.errorbar(Bs, unp.nominal_values(gamma_0), unp.std_devs(gamma_0))\n",
    "    plt.errorbar(Bs, unp.nominal_values(gamma_1), unp.std_devs(gamma_1))\n",
    "    plt.errorbar(Bs, unp.nominal_values(gamma_2), unp.std_devs(gamma_2))\n",
    "    plt.xlabel(r'$B$')\n",
    "    plt.ylabel(r'$\\gamma$')\n",
    "    plt.xscale('log')\n",
    "    plt.yscale('log')\n",
    "    plt.axhline(gc)\n",
    "    #plt.axvline((b**6 * (nn.n*N0)**4 * N0/ (2*u*cc))**(1/9))\n",
    "plt.tight_layout()"
   ]
  },
  {
   "cell_type": "markdown",
   "metadata": {},
   "source": [
    "PImBr is in this regime where the linear electrostatic rod does not exist. Therefore the condition $\\gamma_0 \\ll 1$ translates into\n",
    "$$N\\approx g_e = \\left(\\frac{B^3}{\\tau}\\right)^{1/2} g_\\mathrm{K} \\Leftrightarrow B = \\tau^{1/3} \\left(\\frac{N}{g_\\mathrm{K}}\\right)^{2/3}$$"
   ]
  },
  {
   "cell_type": "code",
   "execution_count": 172,
   "metadata": {
    "collapsed": false
   },
   "outputs": [],
   "source": [
    "B[0] = tau**(1/3) * (n[0]*N0/gK)**(2/3)"
   ]
  },
  {
   "cell_type": "code",
   "execution_count": 176,
   "metadata": {
    "collapsed": false
   },
   "outputs": [
    {
     "name": "stdout",
     "output_type": "stream",
     "text": [
      "PImBr:\tEc = 98±16 kT = 244.0±38.6 kJ/mol \trelative error: 15.82%\n",
      "PImI:\tEc = 36±6 kT = 88.62±14.44 kJ/mol \trelative error: 16.29%\n",
      "PPyrCl:\tEc = 20.7±3.4 kT = 51.35±8.36 kJ/mol \trelative error: 16.29%\n",
      "PPyrBr:\tEc = 2.2±0.4 kT = 5.354±1.071 kJ/mol \trelative error: 20.01%\n",
      "PPyrI:\tEc = 2.0±0.4 kT = 5.000±1.000 kJ/mol \trelative error: 20.00%\n"
     ]
    }
   ],
   "source": [
    "Ec = ((1+gamma_c[-1])**(1/2) -1) * (n*N0/gK) * np.where(B>1/tau, (tau**3/B)**(1/2), tau**2)\n",
    "for name, g in zip(names, Ec):\n",
    "    print('{}:\\tEc = {:P} kT = {:.4P} kJ/mol \\trelative error: {:0.2f}%'.format(\n",
    "            name, g, \n",
    "            g * constants.k * T * constants.N_A / 1000, \n",
    "            100*g.s/g.n))"
   ]
  },
  {
   "cell_type": "markdown",
   "metadata": {},
   "source": [
    "The maximum $B$ to have a rod (and thus solubility ?) implies a minimum reduced temperature:\n",
    "$$B < B_s\\left(\\frac{g_\\mathrm{K}\\tau}{c b^3} -1\\right) \\Leftrightarrow\n",
    "\\tau > \\frac{cb^3}{g_\\mathrm{K}}\\left(1+ \\frac{B_\\mathrm{max}}{B_s}\\right)$$\n",
    "\n",
    "Close to this limit we are in low salt regime, thus $B_\\mathrm{max} \\approx B_1 = (B_0^3/B_s)^{1/2}$ which gives\n",
    "$$\\tau > \\frac{cb^3}{g_\\mathrm{K}}\\left(1+ 2n\\left(2\\frac{c \\ell_\\mathrm{B}^3}{N_0}\\right)^{1/2}\\right)$$"
   ]
  },
  {
   "cell_type": "code",
   "execution_count": 31,
   "metadata": {
    "collapsed": false
   },
   "outputs": [
    {
     "data": {
      "text/plain": [
       "0.39708947676758316+/-0.005466894064277865"
      ]
     },
     "execution_count": 31,
     "metadata": {},
     "output_type": "execute_result"
    }
   ],
   "source": [
    "tau_max = c[0]*b**3/gK * (1 + 2*n[0] * (2*lB**3*c[0]/N0)**(1/2))\n",
    "tau_max"
   ]
  },
  {
   "cell_type": "code",
   "execution_count": 192,
   "metadata": {
    "collapsed": false
   },
   "outputs": [
    {
     "name": "stdout",
     "output_type": "stream",
     "text": [
      "PImBr:\tEc = 137±35 kT = 340.6±87.0 kJ/mol \trelative error: 25.53%\n",
      "PImI:\tEc = 53±14 kT = 132.0±33.6 kJ/mol \trelative error: 25.46%\n",
      "PPyrCl:\tEc = 31±8 kT = 76.48±19.47 kJ/mol \trelative error: 25.46%\n",
      "PPyrBr:\tEc = 3.3±0.9 kT = 8.293±2.112 kJ/mol \trelative error: 25.46%\n",
      "PPyrI:\tEc = 3.3±0.8 kT = 8.181±2.083 kJ/mol \trelative error: 25.46%\n"
     ]
    }
   ],
   "source": [
    "Ec = ((1+gamma_c[-1])**(1/2) -1) * (n*N0/gK) * np.where(B>1/tau_max, (tau_max**3/B)**(1/2), tau_max**2)\n",
    "for name, g in zip(names, Ec):\n",
    "    print('{}:\\tEc = {:P} kT = {:.4P} kJ/mol \\trelative error: {:0.2f}%'.format(\n",
    "            name, g, \n",
    "            g * constants.k * T * constants.N_A / 1000, \n",
    "            100*g.s/g.n))"
   ]
  },
  {
   "cell_type": "markdown",
   "metadata": {
    "collapsed": true
   },
   "source": [
    "#### If PPyrI was fully in the higly charged case"
   ]
  },
  {
   "cell_type": "markdown",
   "metadata": {},
   "source": [
    "The stretching energy is thus\n",
    "$$\\frac{E}{k_\\mathrm{B}T} = \\left(\\left(\\gamma +1\\right)^{1/2} -1\\right) \\frac{N b}{g_\\mathrm{K} B\\xi_T^2}D \n",
    "= \\left(\\left(\\gamma +1\\right)^{1/2} -1\\right) \\frac{N}{g_\\mathrm{K}} \\tau^2$$\n",
    "independent of $B$."
   ]
  },
  {
   "cell_type": "markdown",
   "metadata": {},
   "source": [
    "If we consider that the head-to-body bonds break at $\\gamma_c$, we can express the reduced temperature as\n",
    "$$\\tau = \\left(\\frac{1}{(\\gamma_c +1)^{1/2} -1}\\frac{g_\\mathrm{K}}{N}\\frac{E_c}{k_\\mathrm{B}T}\\right)^{1/2}$$\n",
    "where $E_c$ is the energy of the head-to-body bond."
   ]
  },
  {
   "cell_type": "code",
   "execution_count": 27,
   "metadata": {
    "collapsed": false
   },
   "outputs": [
    {
     "name": "stdout",
     "output_type": "stream",
     "text": [
      "bonding energy 2.0±0.4 kT\n",
      "tau = 0.34±0.06\trelative error: 16.16%\tTheta >= (1.8±0.4)×10² °C\n"
     ]
    }
   ],
   "source": [
    "Ec0 = uncertainties.ufloat(5e3,1e3) / (constants.N_A* constants.k * T)\n",
    "print('bonding energy {:P} kT'.format(Ec0))\n",
    "tau = (gK * Ec0 / (n[-1] * N0 * ((1+gamma_c[-1])**(1/2) -1)))**(1/2)\n",
    "print('tau = {:P}\\trelative error: {:0.2f}%\\tTheta >= {:P} °C'.format(\n",
    "        tau,\n",
    "        100*tau.s/tau.n, \n",
    "        constants.K2C(T/(1-tau))\n",
    "    ))"
   ]
  },
  {
   "cell_type": "code",
   "execution_count": null,
   "metadata": {
    "collapsed": true
   },
   "outputs": [],
   "source": []
  }
 ],
 "metadata": {
  "kernelspec": {
   "display_name": "Python 3",
   "language": "python",
   "name": "python3"
  },
  "language_info": {
   "codemirror_mode": {
    "name": "ipython",
    "version": 3
   },
   "file_extension": ".py",
   "mimetype": "text/x-python",
   "name": "python",
   "nbconvert_exporter": "python",
   "pygments_lexer": "ipython3",
   "version": "3.5.1"
  }
 },
 "nbformat": 4,
 "nbformat_minor": 0
}
